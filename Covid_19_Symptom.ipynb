{
  "nbformat": 4,
  "nbformat_minor": 0,
  "metadata": {
    "colab": {
      "name": "Covid-19-Syptom.ipynb",
      "provenance": []
    },
    "kernelspec": {
      "display_name": "Python 3",
      "name": "python3"
    },
    "language_info": {
      "name": "python"
    }
  },
  "cells": [
    {
      "cell_type": "markdown",
      "metadata": {
        "id": "ieN_iGcjwpCq"
      },
      "source": [
        "# **COVID-19 World Vaccine Adverse Reactions**"
      ]
    },
    {
      "cell_type": "code",
      "metadata": {
        "id": "Iw9zerPywkgm",
        "colab": {
          "base_uri": "https://localhost:8080/"
        },
        "outputId": "21a62911-09fa-4960-9d75-2b257a96a1f4"
      },
      "source": [
        "!gdown --id 1R4XBDeHTXdvR-26bkznsAGI8JbvU5H8j"
      ],
      "execution_count": 161,
      "outputs": [
        {
          "output_type": "stream",
          "text": [
            "Downloading...\n",
            "From: https://drive.google.com/uc?id=1R4XBDeHTXdvR-26bkznsAGI8JbvU5H8j\n",
            "To: /content/Vaccine_Adverse_Reactions.zip\n",
            "\r0.00B [00:00, ?B/s]\r8.95MB [00:00, 78.2MB/s]\n"
          ],
          "name": "stdout"
        }
      ]
    },
    {
      "cell_type": "code",
      "metadata": {
        "colab": {
          "base_uri": "https://localhost:8080/"
        },
        "id": "pd3kfZATxl6n",
        "outputId": "5b5c0c88-ec58-40e5-f85e-c0baa6765140"
      },
      "source": [
        "!unzip Vaccine_Adverse_Reactions.zip"
      ],
      "execution_count": 162,
      "outputs": [
        {
          "output_type": "stream",
          "text": [
            "Archive:  Vaccine_Adverse_Reactions.zip\n",
            "replace 2021VAERSDATA.csv? [y]es, [n]o, [A]ll, [N]one, [r]ename: Y\n",
            "  inflating: 2021VAERSDATA.csv       \n",
            "replace 2021VAERSSYMPTOMS.csv? [y]es, [n]o, [A]ll, [N]one, [r]ename: Y\n",
            "  inflating: 2021VAERSSYMPTOMS.csv   \n",
            "replace 2021VAERSVAX.csv? [y]es, [n]o, [A]ll, [N]one, [r]ename: Y\n",
            "  inflating: 2021VAERSVAX.csv        \n"
          ],
          "name": "stdout"
        }
      ]
    },
    {
      "cell_type": "markdown",
      "metadata": {
        "id": "HsmTYZbaxt2B"
      },
      "source": [
        "# Data preprocessing"
      ]
    },
    {
      "cell_type": "code",
      "metadata": {
        "id": "mkjGPV8vxs6U"
      },
      "source": [
        "import numpy as np\n",
        "import pandas as pd\n",
        "import matplotlib.pyplot as plt\n",
        "import seaborn as sns\n",
        "%matplotlib inline"
      ],
      "execution_count": 163,
      "outputs": []
    },
    {
      "cell_type": "code",
      "metadata": {
        "id": "tD8gJxLIxl9S"
      },
      "source": [
        "# df_2021_vaersdata = pd.read_csv('2021VAERSDATA.csv')\n",
        "df_2021_vaerssymptoms = pd.read_csv('2021VAERSSYMPTOMS.csv')\n",
        "df_2021_vaersvax = pd.read_csv('2021VAERSVAX.csv')"
      ],
      "execution_count": 164,
      "outputs": []
    },
    {
      "cell_type": "code",
      "metadata": {
        "id": "U_Ik7v5-xmAe",
        "colab": {
          "base_uri": "https://localhost:8080/",
          "height": 427
        },
        "outputId": "353dcc4b-7382-4198-8409-86120a920f36"
      },
      "source": [
        "df_2021_vaerssymptoms.sample(10)"
      ],
      "execution_count": 165,
      "outputs": [
        {
          "output_type": "execute_result",
          "data": {
            "text/html": [
              "<div>\n",
              "<style scoped>\n",
              "    .dataframe tbody tr th:only-of-type {\n",
              "        vertical-align: middle;\n",
              "    }\n",
              "\n",
              "    .dataframe tbody tr th {\n",
              "        vertical-align: top;\n",
              "    }\n",
              "\n",
              "    .dataframe thead th {\n",
              "        text-align: right;\n",
              "    }\n",
              "</style>\n",
              "<table border=\"1\" class=\"dataframe\">\n",
              "  <thead>\n",
              "    <tr style=\"text-align: right;\">\n",
              "      <th></th>\n",
              "      <th>VAERS_ID</th>\n",
              "      <th>SYMPTOM1</th>\n",
              "      <th>SYMPTOMVERSION1</th>\n",
              "      <th>SYMPTOM2</th>\n",
              "      <th>SYMPTOMVERSION2</th>\n",
              "      <th>SYMPTOM3</th>\n",
              "      <th>SYMPTOMVERSION3</th>\n",
              "      <th>SYMPTOM4</th>\n",
              "      <th>SYMPTOMVERSION4</th>\n",
              "      <th>SYMPTOM5</th>\n",
              "      <th>SYMPTOMVERSION5</th>\n",
              "    </tr>\n",
              "  </thead>\n",
              "  <tbody>\n",
              "    <tr>\n",
              "      <th>17172</th>\n",
              "      <td>931371</td>\n",
              "      <td>Swelling</td>\n",
              "      <td>24.0</td>\n",
              "      <td>Tenderness</td>\n",
              "      <td>24.0</td>\n",
              "      <td>NaN</td>\n",
              "      <td>NaN</td>\n",
              "      <td>NaN</td>\n",
              "      <td>NaN</td>\n",
              "      <td>NaN</td>\n",
              "      <td>NaN</td>\n",
              "    </tr>\n",
              "    <tr>\n",
              "      <th>36947</th>\n",
              "      <td>1048867</td>\n",
              "      <td>Palpitations</td>\n",
              "      <td>23.1</td>\n",
              "      <td>NaN</td>\n",
              "      <td>NaN</td>\n",
              "      <td>NaN</td>\n",
              "      <td>NaN</td>\n",
              "      <td>NaN</td>\n",
              "      <td>NaN</td>\n",
              "      <td>NaN</td>\n",
              "      <td>NaN</td>\n",
              "    </tr>\n",
              "    <tr>\n",
              "      <th>25591</th>\n",
              "      <td>974753</td>\n",
              "      <td>Deep vein thrombosis</td>\n",
              "      <td>23.1</td>\n",
              "      <td>Dyspnoea</td>\n",
              "      <td>23.1</td>\n",
              "      <td>Pulmonary embolism</td>\n",
              "      <td>23.1</td>\n",
              "      <td>NaN</td>\n",
              "      <td>NaN</td>\n",
              "      <td>NaN</td>\n",
              "      <td>NaN</td>\n",
              "    </tr>\n",
              "    <tr>\n",
              "      <th>42572</th>\n",
              "      <td>1070514</td>\n",
              "      <td>Pain in extremity</td>\n",
              "      <td>23.1</td>\n",
              "      <td>NaN</td>\n",
              "      <td>NaN</td>\n",
              "      <td>NaN</td>\n",
              "      <td>NaN</td>\n",
              "      <td>NaN</td>\n",
              "      <td>NaN</td>\n",
              "      <td>NaN</td>\n",
              "      <td>NaN</td>\n",
              "    </tr>\n",
              "    <tr>\n",
              "      <th>4244</th>\n",
              "      <td>920221</td>\n",
              "      <td>Arthralgia</td>\n",
              "      <td>23.1</td>\n",
              "      <td>Body temperature</td>\n",
              "      <td>23.1</td>\n",
              "      <td>Chills</td>\n",
              "      <td>23.1</td>\n",
              "      <td>Fatigue</td>\n",
              "      <td>23.1</td>\n",
              "      <td>Lymphadenopathy</td>\n",
              "      <td>23.1</td>\n",
              "    </tr>\n",
              "    <tr>\n",
              "      <th>36037</th>\n",
              "      <td>1047340</td>\n",
              "      <td>Headache</td>\n",
              "      <td>23.1</td>\n",
              "      <td>Nausea</td>\n",
              "      <td>23.1</td>\n",
              "      <td>Vomiting</td>\n",
              "      <td>23.1</td>\n",
              "      <td>NaN</td>\n",
              "      <td>NaN</td>\n",
              "      <td>NaN</td>\n",
              "      <td>NaN</td>\n",
              "    </tr>\n",
              "    <tr>\n",
              "      <th>15120</th>\n",
              "      <td>929679</td>\n",
              "      <td>Chills</td>\n",
              "      <td>24.0</td>\n",
              "      <td>Pain</td>\n",
              "      <td>24.0</td>\n",
              "      <td>Pain in extremity</td>\n",
              "      <td>24.0</td>\n",
              "      <td>NaN</td>\n",
              "      <td>NaN</td>\n",
              "      <td>NaN</td>\n",
              "      <td>NaN</td>\n",
              "    </tr>\n",
              "    <tr>\n",
              "      <th>45104</th>\n",
              "      <td>1083123</td>\n",
              "      <td>Chills</td>\n",
              "      <td>24.0</td>\n",
              "      <td>Headache</td>\n",
              "      <td>24.0</td>\n",
              "      <td>Nausea</td>\n",
              "      <td>24.0</td>\n",
              "      <td>NaN</td>\n",
              "      <td>NaN</td>\n",
              "      <td>NaN</td>\n",
              "      <td>NaN</td>\n",
              "    </tr>\n",
              "    <tr>\n",
              "      <th>697</th>\n",
              "      <td>917153</td>\n",
              "      <td>Chills</td>\n",
              "      <td>23.1</td>\n",
              "      <td>Fatigue</td>\n",
              "      <td>23.1</td>\n",
              "      <td>Headache</td>\n",
              "      <td>23.1</td>\n",
              "      <td>NaN</td>\n",
              "      <td>NaN</td>\n",
              "      <td>NaN</td>\n",
              "      <td>NaN</td>\n",
              "    </tr>\n",
              "    <tr>\n",
              "      <th>41922</th>\n",
              "      <td>1068013</td>\n",
              "      <td>Chills</td>\n",
              "      <td>23.1</td>\n",
              "      <td>Headache</td>\n",
              "      <td>23.1</td>\n",
              "      <td>Myalgia</td>\n",
              "      <td>23.1</td>\n",
              "      <td>Pyrexia</td>\n",
              "      <td>23.1</td>\n",
              "      <td>Vomiting</td>\n",
              "      <td>23.1</td>\n",
              "    </tr>\n",
              "  </tbody>\n",
              "</table>\n",
              "</div>"
            ],
            "text/plain": [
              "       VAERS_ID              SYMPTOM1  ...         SYMPTOM5 SYMPTOMVERSION5\n",
              "17172    931371              Swelling  ...              NaN             NaN\n",
              "36947   1048867          Palpitations  ...              NaN             NaN\n",
              "25591    974753  Deep vein thrombosis  ...              NaN             NaN\n",
              "42572   1070514     Pain in extremity  ...              NaN             NaN\n",
              "4244     920221            Arthralgia  ...  Lymphadenopathy            23.1\n",
              "36037   1047340              Headache  ...              NaN             NaN\n",
              "15120    929679                Chills  ...              NaN             NaN\n",
              "45104   1083123                Chills  ...              NaN             NaN\n",
              "697      917153                Chills  ...              NaN             NaN\n",
              "41922   1068013                Chills  ...         Vomiting            23.1\n",
              "\n",
              "[10 rows x 11 columns]"
            ]
          },
          "metadata": {
            "tags": []
          },
          "execution_count": 165
        }
      ]
    },
    {
      "cell_type": "code",
      "metadata": {
        "id": "1jCTMq5DxmDi",
        "colab": {
          "base_uri": "https://localhost:8080/"
        },
        "outputId": "0b184e20-38ad-4e98-af23-65502b797254"
      },
      "source": [
        "df_2021_vaerssymptoms.info()"
      ],
      "execution_count": 166,
      "outputs": [
        {
          "output_type": "stream",
          "text": [
            "<class 'pandas.core.frame.DataFrame'>\n",
            "RangeIndex: 48110 entries, 0 to 48109\n",
            "Data columns (total 11 columns):\n",
            " #   Column           Non-Null Count  Dtype  \n",
            "---  ------           --------------  -----  \n",
            " 0   VAERS_ID         48110 non-null  int64  \n",
            " 1   SYMPTOM1         48110 non-null  object \n",
            " 2   SYMPTOMVERSION1  48110 non-null  float64\n",
            " 3   SYMPTOM2         39351 non-null  object \n",
            " 4   SYMPTOMVERSION2  39351 non-null  float64\n",
            " 5   SYMPTOM3         31542 non-null  object \n",
            " 6   SYMPTOMVERSION3  31542 non-null  float64\n",
            " 7   SYMPTOM4         24444 non-null  object \n",
            " 8   SYMPTOMVERSION4  24444 non-null  float64\n",
            " 9   SYMPTOM5         18560 non-null  object \n",
            " 10  SYMPTOMVERSION5  18560 non-null  float64\n",
            "dtypes: float64(5), int64(1), object(5)\n",
            "memory usage: 4.0+ MB\n"
          ],
          "name": "stdout"
        }
      ]
    },
    {
      "cell_type": "code",
      "metadata": {
        "id": "FZPZ-O4jBwkB",
        "colab": {
          "base_uri": "https://localhost:8080/",
          "height": 359
        },
        "outputId": "8e95c0f4-ae7b-47c6-d9c2-a3a45ec28721"
      },
      "source": [
        "df_2021_vaersvax.sample(10)"
      ],
      "execution_count": 167,
      "outputs": [
        {
          "output_type": "execute_result",
          "data": {
            "text/html": [
              "<div>\n",
              "<style scoped>\n",
              "    .dataframe tbody tr th:only-of-type {\n",
              "        vertical-align: middle;\n",
              "    }\n",
              "\n",
              "    .dataframe tbody tr th {\n",
              "        vertical-align: top;\n",
              "    }\n",
              "\n",
              "    .dataframe thead th {\n",
              "        text-align: right;\n",
              "    }\n",
              "</style>\n",
              "<table border=\"1\" class=\"dataframe\">\n",
              "  <thead>\n",
              "    <tr style=\"text-align: right;\">\n",
              "      <th></th>\n",
              "      <th>VAERS_ID</th>\n",
              "      <th>VAX_TYPE</th>\n",
              "      <th>VAX_MANU</th>\n",
              "      <th>VAX_LOT</th>\n",
              "      <th>VAX_DOSE_SERIES</th>\n",
              "      <th>VAX_ROUTE</th>\n",
              "      <th>VAX_SITE</th>\n",
              "      <th>VAX_NAME</th>\n",
              "    </tr>\n",
              "  </thead>\n",
              "  <tbody>\n",
              "    <tr>\n",
              "      <th>20904</th>\n",
              "      <td>994801</td>\n",
              "      <td>COVID19</td>\n",
              "      <td>PFIZER\\BIONTECH</td>\n",
              "      <td>NaN</td>\n",
              "      <td>2</td>\n",
              "      <td>NaN</td>\n",
              "      <td>RA</td>\n",
              "      <td>COVID19 (COVID19 (PFIZER-BIONTECH))</td>\n",
              "    </tr>\n",
              "    <tr>\n",
              "      <th>34615</th>\n",
              "      <td>1112545</td>\n",
              "      <td>UNK</td>\n",
              "      <td>UNKNOWN MANUFACTURER</td>\n",
              "      <td>NaN</td>\n",
              "      <td>UNK</td>\n",
              "      <td>NaN</td>\n",
              "      <td>NaN</td>\n",
              "      <td>VACCINE NOT SPECIFIED (NO BRAND NAME)</td>\n",
              "    </tr>\n",
              "    <tr>\n",
              "      <th>12335</th>\n",
              "      <td>930605</td>\n",
              "      <td>COVID19</td>\n",
              "      <td>PFIZER\\BIONTECH</td>\n",
              "      <td>EL3246</td>\n",
              "      <td>2</td>\n",
              "      <td>IM</td>\n",
              "      <td>LA</td>\n",
              "      <td>COVID19 (COVID19 (PFIZER-BIONTECH))</td>\n",
              "    </tr>\n",
              "    <tr>\n",
              "      <th>17188</th>\n",
              "      <td>946837</td>\n",
              "      <td>COVID19</td>\n",
              "      <td>MODERNA</td>\n",
              "      <td>NaN</td>\n",
              "      <td>1</td>\n",
              "      <td>SYR</td>\n",
              "      <td>LA</td>\n",
              "      <td>COVID19 (COVID19 (MODERNA))</td>\n",
              "    </tr>\n",
              "    <tr>\n",
              "      <th>14279</th>\n",
              "      <td>932652</td>\n",
              "      <td>COVID19</td>\n",
              "      <td>PFIZER\\BIONTECH</td>\n",
              "      <td>EL3246</td>\n",
              "      <td>2</td>\n",
              "      <td>NaN</td>\n",
              "      <td>LA</td>\n",
              "      <td>COVID19 (COVID19 (PFIZER-BIONTECH))</td>\n",
              "    </tr>\n",
              "    <tr>\n",
              "      <th>31232</th>\n",
              "      <td>1073538</td>\n",
              "      <td>COVID19</td>\n",
              "      <td>PFIZER\\BIONTECH</td>\n",
              "      <td>NaN</td>\n",
              "      <td>2</td>\n",
              "      <td>NaN</td>\n",
              "      <td>RA</td>\n",
              "      <td>COVID19 (COVID19 (PFIZER-BIONTECH))</td>\n",
              "    </tr>\n",
              "    <tr>\n",
              "      <th>8467</th>\n",
              "      <td>926354</td>\n",
              "      <td>COVID19</td>\n",
              "      <td>PFIZER\\BIONTECH</td>\n",
              "      <td>EL0142</td>\n",
              "      <td>2</td>\n",
              "      <td>IM</td>\n",
              "      <td>UN</td>\n",
              "      <td>COVID19 (COVID19 (PFIZER-BIONTECH))</td>\n",
              "    </tr>\n",
              "    <tr>\n",
              "      <th>28665</th>\n",
              "      <td>1053669</td>\n",
              "      <td>COVID19</td>\n",
              "      <td>MODERNA</td>\n",
              "      <td>NaN</td>\n",
              "      <td>1</td>\n",
              "      <td>OT</td>\n",
              "      <td>NaN</td>\n",
              "      <td>COVID19 (COVID19 (MODERNA))</td>\n",
              "    </tr>\n",
              "    <tr>\n",
              "      <th>24533</th>\n",
              "      <td>1045546</td>\n",
              "      <td>COVID19</td>\n",
              "      <td>MODERNA</td>\n",
              "      <td>011M20A</td>\n",
              "      <td>1</td>\n",
              "      <td>OT</td>\n",
              "      <td>RA</td>\n",
              "      <td>COVID19 (COVID19 (MODERNA))</td>\n",
              "    </tr>\n",
              "    <tr>\n",
              "      <th>10677</th>\n",
              "      <td>928759</td>\n",
              "      <td>COVID19</td>\n",
              "      <td>PFIZER\\BIONTECH</td>\n",
              "      <td>NaN</td>\n",
              "      <td>1</td>\n",
              "      <td>IM</td>\n",
              "      <td>NaN</td>\n",
              "      <td>COVID19 (COVID19 (PFIZER-BIONTECH))</td>\n",
              "    </tr>\n",
              "  </tbody>\n",
              "</table>\n",
              "</div>"
            ],
            "text/plain": [
              "       VAERS_ID VAX_TYPE  ... VAX_SITE                               VAX_NAME\n",
              "20904    994801  COVID19  ...       RA    COVID19 (COVID19 (PFIZER-BIONTECH))\n",
              "34615   1112545      UNK  ...      NaN  VACCINE NOT SPECIFIED (NO BRAND NAME)\n",
              "12335    930605  COVID19  ...       LA    COVID19 (COVID19 (PFIZER-BIONTECH))\n",
              "17188    946837  COVID19  ...       LA            COVID19 (COVID19 (MODERNA))\n",
              "14279    932652  COVID19  ...       LA    COVID19 (COVID19 (PFIZER-BIONTECH))\n",
              "31232   1073538  COVID19  ...       RA    COVID19 (COVID19 (PFIZER-BIONTECH))\n",
              "8467     926354  COVID19  ...       UN    COVID19 (COVID19 (PFIZER-BIONTECH))\n",
              "28665   1053669  COVID19  ...      NaN            COVID19 (COVID19 (MODERNA))\n",
              "24533   1045546  COVID19  ...       RA            COVID19 (COVID19 (MODERNA))\n",
              "10677    928759  COVID19  ...      NaN    COVID19 (COVID19 (PFIZER-BIONTECH))\n",
              "\n",
              "[10 rows x 8 columns]"
            ]
          },
          "metadata": {
            "tags": []
          },
          "execution_count": 167
        }
      ]
    },
    {
      "cell_type": "code",
      "metadata": {
        "id": "cZwADlNxBwnO",
        "colab": {
          "base_uri": "https://localhost:8080/"
        },
        "outputId": "af3f73d6-284d-4490-e4ec-8f49027b63d8"
      },
      "source": [
        "df_2021_vaersvax.info()"
      ],
      "execution_count": 168,
      "outputs": [
        {
          "output_type": "stream",
          "text": [
            "<class 'pandas.core.frame.DataFrame'>\n",
            "RangeIndex: 34630 entries, 0 to 34629\n",
            "Data columns (total 8 columns):\n",
            " #   Column           Non-Null Count  Dtype \n",
            "---  ------           --------------  ----- \n",
            " 0   VAERS_ID         34630 non-null  int64 \n",
            " 1   VAX_TYPE         34630 non-null  object\n",
            " 2   VAX_MANU         34630 non-null  object\n",
            " 3   VAX_LOT          23513 non-null  object\n",
            " 4   VAX_DOSE_SERIES  34568 non-null  object\n",
            " 5   VAX_ROUTE        26229 non-null  object\n",
            " 6   VAX_SITE         26687 non-null  object\n",
            " 7   VAX_NAME         34630 non-null  object\n",
            "dtypes: int64(1), object(7)\n",
            "memory usage: 2.1+ MB\n"
          ],
          "name": "stdout"
        }
      ]
    },
    {
      "cell_type": "code",
      "metadata": {
        "id": "NHPke8TmBwqW",
        "colab": {
          "base_uri": "https://localhost:8080/",
          "height": 847
        },
        "outputId": "08aef8df-7645-4cf8-8510-d74be113daed"
      },
      "source": [
        "df = pd.merge(df_2021_vaerssymptoms, df_2021_vaersvax, how='left', on='VAERS_ID')\n",
        "df"
      ],
      "execution_count": 169,
      "outputs": [
        {
          "output_type": "execute_result",
          "data": {
            "text/html": [
              "<div>\n",
              "<style scoped>\n",
              "    .dataframe tbody tr th:only-of-type {\n",
              "        vertical-align: middle;\n",
              "    }\n",
              "\n",
              "    .dataframe tbody tr th {\n",
              "        vertical-align: top;\n",
              "    }\n",
              "\n",
              "    .dataframe thead th {\n",
              "        text-align: right;\n",
              "    }\n",
              "</style>\n",
              "<table border=\"1\" class=\"dataframe\">\n",
              "  <thead>\n",
              "    <tr style=\"text-align: right;\">\n",
              "      <th></th>\n",
              "      <th>VAERS_ID</th>\n",
              "      <th>SYMPTOM1</th>\n",
              "      <th>SYMPTOMVERSION1</th>\n",
              "      <th>SYMPTOM2</th>\n",
              "      <th>SYMPTOMVERSION2</th>\n",
              "      <th>SYMPTOM3</th>\n",
              "      <th>SYMPTOMVERSION3</th>\n",
              "      <th>SYMPTOM4</th>\n",
              "      <th>SYMPTOMVERSION4</th>\n",
              "      <th>SYMPTOM5</th>\n",
              "      <th>SYMPTOMVERSION5</th>\n",
              "      <th>VAX_TYPE</th>\n",
              "      <th>VAX_MANU</th>\n",
              "      <th>VAX_LOT</th>\n",
              "      <th>VAX_DOSE_SERIES</th>\n",
              "      <th>VAX_ROUTE</th>\n",
              "      <th>VAX_SITE</th>\n",
              "      <th>VAX_NAME</th>\n",
              "    </tr>\n",
              "  </thead>\n",
              "  <tbody>\n",
              "    <tr>\n",
              "      <th>0</th>\n",
              "      <td>916600</td>\n",
              "      <td>Dysphagia</td>\n",
              "      <td>23.1</td>\n",
              "      <td>Epiglottitis</td>\n",
              "      <td>23.1</td>\n",
              "      <td>NaN</td>\n",
              "      <td>NaN</td>\n",
              "      <td>NaN</td>\n",
              "      <td>NaN</td>\n",
              "      <td>NaN</td>\n",
              "      <td>NaN</td>\n",
              "      <td>COVID19</td>\n",
              "      <td>MODERNA</td>\n",
              "      <td>037K20A</td>\n",
              "      <td>1</td>\n",
              "      <td>IM</td>\n",
              "      <td>LA</td>\n",
              "      <td>COVID19 (COVID19 (MODERNA))</td>\n",
              "    </tr>\n",
              "    <tr>\n",
              "      <th>1</th>\n",
              "      <td>916601</td>\n",
              "      <td>Anxiety</td>\n",
              "      <td>23.1</td>\n",
              "      <td>Dyspnoea</td>\n",
              "      <td>23.1</td>\n",
              "      <td>NaN</td>\n",
              "      <td>NaN</td>\n",
              "      <td>NaN</td>\n",
              "      <td>NaN</td>\n",
              "      <td>NaN</td>\n",
              "      <td>NaN</td>\n",
              "      <td>COVID19</td>\n",
              "      <td>MODERNA</td>\n",
              "      <td>025L20A</td>\n",
              "      <td>1</td>\n",
              "      <td>IM</td>\n",
              "      <td>RA</td>\n",
              "      <td>COVID19 (COVID19 (MODERNA))</td>\n",
              "    </tr>\n",
              "    <tr>\n",
              "      <th>2</th>\n",
              "      <td>916602</td>\n",
              "      <td>Chest discomfort</td>\n",
              "      <td>23.1</td>\n",
              "      <td>Dysphagia</td>\n",
              "      <td>23.1</td>\n",
              "      <td>Pain in extremity</td>\n",
              "      <td>23.1</td>\n",
              "      <td>Visual impairment</td>\n",
              "      <td>23.1</td>\n",
              "      <td>NaN</td>\n",
              "      <td>NaN</td>\n",
              "      <td>COVID19</td>\n",
              "      <td>PFIZER\\BIONTECH</td>\n",
              "      <td>EL1284</td>\n",
              "      <td>1</td>\n",
              "      <td>IM</td>\n",
              "      <td>LA</td>\n",
              "      <td>COVID19 (COVID19 (PFIZER-BIONTECH))</td>\n",
              "    </tr>\n",
              "    <tr>\n",
              "      <th>3</th>\n",
              "      <td>916603</td>\n",
              "      <td>Dizziness</td>\n",
              "      <td>23.1</td>\n",
              "      <td>Fatigue</td>\n",
              "      <td>23.1</td>\n",
              "      <td>Mobility decreased</td>\n",
              "      <td>23.1</td>\n",
              "      <td>NaN</td>\n",
              "      <td>NaN</td>\n",
              "      <td>NaN</td>\n",
              "      <td>NaN</td>\n",
              "      <td>COVID19</td>\n",
              "      <td>MODERNA</td>\n",
              "      <td>unknown</td>\n",
              "      <td>UNK</td>\n",
              "      <td>NaN</td>\n",
              "      <td>NaN</td>\n",
              "      <td>COVID19 (COVID19 (MODERNA))</td>\n",
              "    </tr>\n",
              "    <tr>\n",
              "      <th>4</th>\n",
              "      <td>916604</td>\n",
              "      <td>Injection site erythema</td>\n",
              "      <td>23.1</td>\n",
              "      <td>Injection site pruritus</td>\n",
              "      <td>23.1</td>\n",
              "      <td>Injection site swelling</td>\n",
              "      <td>23.1</td>\n",
              "      <td>Injection site warmth</td>\n",
              "      <td>23.1</td>\n",
              "      <td>NaN</td>\n",
              "      <td>NaN</td>\n",
              "      <td>COVID19</td>\n",
              "      <td>MODERNA</td>\n",
              "      <td>NaN</td>\n",
              "      <td>1</td>\n",
              "      <td>IM</td>\n",
              "      <td>LA</td>\n",
              "      <td>COVID19 (COVID19 (MODERNA))</td>\n",
              "    </tr>\n",
              "    <tr>\n",
              "      <th>...</th>\n",
              "      <td>...</td>\n",
              "      <td>...</td>\n",
              "      <td>...</td>\n",
              "      <td>...</td>\n",
              "      <td>...</td>\n",
              "      <td>...</td>\n",
              "      <td>...</td>\n",
              "      <td>...</td>\n",
              "      <td>...</td>\n",
              "      <td>...</td>\n",
              "      <td>...</td>\n",
              "      <td>...</td>\n",
              "      <td>...</td>\n",
              "      <td>...</td>\n",
              "      <td>...</td>\n",
              "      <td>...</td>\n",
              "      <td>...</td>\n",
              "      <td>...</td>\n",
              "    </tr>\n",
              "    <tr>\n",
              "      <th>49016</th>\n",
              "      <td>1113920</td>\n",
              "      <td>Nasal discomfort</td>\n",
              "      <td>23.1</td>\n",
              "      <td>Night sweats</td>\n",
              "      <td>23.1</td>\n",
              "      <td>Platelet count</td>\n",
              "      <td>23.1</td>\n",
              "      <td>Platelet count decreased</td>\n",
              "      <td>23.1</td>\n",
              "      <td>Pyrexia</td>\n",
              "      <td>23.1</td>\n",
              "      <td>COVID19</td>\n",
              "      <td>PFIZER\\BIONTECH</td>\n",
              "      <td>Unknown</td>\n",
              "      <td>1</td>\n",
              "      <td>NaN</td>\n",
              "      <td>NaN</td>\n",
              "      <td>COVID19 (COVID19 (PFIZER-BIONTECH))</td>\n",
              "    </tr>\n",
              "    <tr>\n",
              "      <th>49017</th>\n",
              "      <td>1113920</td>\n",
              "      <td>Rash</td>\n",
              "      <td>23.1</td>\n",
              "      <td>SARS-CoV-2 test</td>\n",
              "      <td>23.1</td>\n",
              "      <td>NaN</td>\n",
              "      <td>NaN</td>\n",
              "      <td>NaN</td>\n",
              "      <td>NaN</td>\n",
              "      <td>NaN</td>\n",
              "      <td>NaN</td>\n",
              "      <td>COVID19</td>\n",
              "      <td>PFIZER\\BIONTECH</td>\n",
              "      <td>Unknown</td>\n",
              "      <td>1</td>\n",
              "      <td>NaN</td>\n",
              "      <td>NaN</td>\n",
              "      <td>COVID19 (COVID19 (PFIZER-BIONTECH))</td>\n",
              "    </tr>\n",
              "    <tr>\n",
              "      <th>49018</th>\n",
              "      <td>1113963</td>\n",
              "      <td>Haemophagocytic lymphohistiocytosis</td>\n",
              "      <td>23.1</td>\n",
              "      <td>SARS-CoV-2 test</td>\n",
              "      <td>23.1</td>\n",
              "      <td>NaN</td>\n",
              "      <td>NaN</td>\n",
              "      <td>NaN</td>\n",
              "      <td>NaN</td>\n",
              "      <td>NaN</td>\n",
              "      <td>NaN</td>\n",
              "      <td>COVID19</td>\n",
              "      <td>PFIZER\\BIONTECH</td>\n",
              "      <td>EL9264</td>\n",
              "      <td>2</td>\n",
              "      <td>NaN</td>\n",
              "      <td>NaN</td>\n",
              "      <td>COVID19 (COVID19 (PFIZER-BIONTECH))</td>\n",
              "    </tr>\n",
              "    <tr>\n",
              "      <th>49019</th>\n",
              "      <td>1115045</td>\n",
              "      <td>Death</td>\n",
              "      <td>23.1</td>\n",
              "      <td>NaN</td>\n",
              "      <td>NaN</td>\n",
              "      <td>NaN</td>\n",
              "      <td>NaN</td>\n",
              "      <td>NaN</td>\n",
              "      <td>NaN</td>\n",
              "      <td>NaN</td>\n",
              "      <td>NaN</td>\n",
              "      <td>COVID19</td>\n",
              "      <td>MODERNA</td>\n",
              "      <td>NaN</td>\n",
              "      <td>2</td>\n",
              "      <td>OT</td>\n",
              "      <td>NaN</td>\n",
              "      <td>COVID19 (COVID19 (MODERNA))</td>\n",
              "    </tr>\n",
              "    <tr>\n",
              "      <th>49020</th>\n",
              "      <td>1115348</td>\n",
              "      <td>Death</td>\n",
              "      <td>23.1</td>\n",
              "      <td>NaN</td>\n",
              "      <td>NaN</td>\n",
              "      <td>NaN</td>\n",
              "      <td>NaN</td>\n",
              "      <td>NaN</td>\n",
              "      <td>NaN</td>\n",
              "      <td>NaN</td>\n",
              "      <td>NaN</td>\n",
              "      <td>COVID19</td>\n",
              "      <td>MODERNA</td>\n",
              "      <td>026A21A</td>\n",
              "      <td>1</td>\n",
              "      <td>OT</td>\n",
              "      <td>LA</td>\n",
              "      <td>COVID19 (COVID19 (MODERNA))</td>\n",
              "    </tr>\n",
              "  </tbody>\n",
              "</table>\n",
              "<p>49021 rows × 18 columns</p>\n",
              "</div>"
            ],
            "text/plain": [
              "       VAERS_ID  ...                             VAX_NAME\n",
              "0        916600  ...          COVID19 (COVID19 (MODERNA))\n",
              "1        916601  ...          COVID19 (COVID19 (MODERNA))\n",
              "2        916602  ...  COVID19 (COVID19 (PFIZER-BIONTECH))\n",
              "3        916603  ...          COVID19 (COVID19 (MODERNA))\n",
              "4        916604  ...          COVID19 (COVID19 (MODERNA))\n",
              "...         ...  ...                                  ...\n",
              "49016   1113920  ...  COVID19 (COVID19 (PFIZER-BIONTECH))\n",
              "49017   1113920  ...  COVID19 (COVID19 (PFIZER-BIONTECH))\n",
              "49018   1113963  ...  COVID19 (COVID19 (PFIZER-BIONTECH))\n",
              "49019   1115045  ...          COVID19 (COVID19 (MODERNA))\n",
              "49020   1115348  ...          COVID19 (COVID19 (MODERNA))\n",
              "\n",
              "[49021 rows x 18 columns]"
            ]
          },
          "metadata": {
            "tags": []
          },
          "execution_count": 169
        }
      ]
    },
    {
      "cell_type": "code",
      "metadata": {
        "colab": {
          "base_uri": "https://localhost:8080/"
        },
        "id": "GYWZ6E-MAnk_",
        "outputId": "6adde170-3ea4-48b7-ed17-2598054d447a"
      },
      "source": [
        "df.isna().sum()"
      ],
      "execution_count": 170,
      "outputs": [
        {
          "output_type": "execute_result",
          "data": {
            "text/plain": [
              "VAERS_ID               0\n",
              "SYMPTOM1               0\n",
              "SYMPTOMVERSION1        0\n",
              "SYMPTOM2            8901\n",
              "SYMPTOMVERSION2     8901\n",
              "SYMPTOM3           16822\n",
              "SYMPTOMVERSION3    16822\n",
              "SYMPTOM4           24005\n",
              "SYMPTOMVERSION4    24005\n",
              "SYMPTOM5           29975\n",
              "SYMPTOMVERSION5    29975\n",
              "VAX_TYPE               0\n",
              "VAX_MANU               0\n",
              "VAX_LOT            14957\n",
              "VAX_DOSE_SERIES      101\n",
              "VAX_ROUTE          11278\n",
              "VAX_SITE           10464\n",
              "VAX_NAME               0\n",
              "dtype: int64"
            ]
          },
          "metadata": {
            "tags": []
          },
          "execution_count": 170
        }
      ]
    },
    {
      "cell_type": "code",
      "metadata": {
        "id": "mdqIga1DCl7p",
        "colab": {
          "base_uri": "https://localhost:8080/"
        },
        "outputId": "ecce8328-ed73-423c-c1c1-406163698e60"
      },
      "source": [
        "df.info()"
      ],
      "execution_count": 171,
      "outputs": [
        {
          "output_type": "stream",
          "text": [
            "<class 'pandas.core.frame.DataFrame'>\n",
            "Int64Index: 49021 entries, 0 to 49020\n",
            "Data columns (total 18 columns):\n",
            " #   Column           Non-Null Count  Dtype  \n",
            "---  ------           --------------  -----  \n",
            " 0   VAERS_ID         49021 non-null  int64  \n",
            " 1   SYMPTOM1         49021 non-null  object \n",
            " 2   SYMPTOMVERSION1  49021 non-null  float64\n",
            " 3   SYMPTOM2         40120 non-null  object \n",
            " 4   SYMPTOMVERSION2  40120 non-null  float64\n",
            " 5   SYMPTOM3         32199 non-null  object \n",
            " 6   SYMPTOMVERSION3  32199 non-null  float64\n",
            " 7   SYMPTOM4         25016 non-null  object \n",
            " 8   SYMPTOMVERSION4  25016 non-null  float64\n",
            " 9   SYMPTOM5         19046 non-null  object \n",
            " 10  SYMPTOMVERSION5  19046 non-null  float64\n",
            " 11  VAX_TYPE         49021 non-null  object \n",
            " 12  VAX_MANU         49021 non-null  object \n",
            " 13  VAX_LOT          34064 non-null  object \n",
            " 14  VAX_DOSE_SERIES  48920 non-null  object \n",
            " 15  VAX_ROUTE        37743 non-null  object \n",
            " 16  VAX_SITE         38557 non-null  object \n",
            " 17  VAX_NAME         49021 non-null  object \n",
            "dtypes: float64(5), int64(1), object(12)\n",
            "memory usage: 7.1+ MB\n"
          ],
          "name": "stdout"
        }
      ]
    },
    {
      "cell_type": "code",
      "metadata": {
        "id": "U68-x7GHCmAY",
        "colab": {
          "base_uri": "https://localhost:8080/",
          "height": 594
        },
        "outputId": "e2782166-4f97-40fb-fc36-6c0cc5fb926c"
      },
      "source": [
        "fig = plt.figure(figsize=(12, 8))\n",
        "sns.heatmap(df.isnull(), cbar=False, cmap='coolwarm_r')"
      ],
      "execution_count": 172,
      "outputs": [
        {
          "output_type": "execute_result",
          "data": {
            "text/plain": [
              "<matplotlib.axes._subplots.AxesSubplot at 0x7fad6b501fd0>"
            ]
          },
          "metadata": {
            "tags": []
          },
          "execution_count": 172
        },
        {
          "output_type": "display_data",
          "data": {
            "image/png": "[encoded data removed]",
            "text/plain": [
              "<Figure size 864x576 with 1 Axes>"
            ]
          },
          "metadata": {
            "tags": [],
            "needs_background": "light"
          }
        }
      ]
    },
    {
      "cell_type": "code",
      "metadata": {
        "id": "Jbn6FancCmDq",
        "colab": {
          "base_uri": "https://localhost:8080/"
        },
        "outputId": "7d8d9e09-7f1e-4e89-c9c9-74a10f1410e1"
      },
      "source": [
        "df['SYMPTOM1'].value_counts()[:20]"
      ],
      "execution_count": 173,
      "outputs": [
        {
          "output_type": "execute_result",
          "data": {
            "text/plain": [
              "Chills                     3268\n",
              "Arthralgia                 1962\n",
              "Headache                   1490\n",
              "Dizziness                  1459\n",
              "Injection site erythema    1417\n",
              "Fatigue                    1391\n",
              "Asthenia                   1147\n",
              "Pyrexia                    1082\n",
              "Death                      1017\n",
              "COVID-19                    865\n",
              "Erythema                    794\n",
              "Pain                        761\n",
              "Nausea                      675\n",
              "Pain in extremity           639\n",
              "Injection site pain         533\n",
              "Myalgia                     484\n",
              "Rash                        471\n",
              "Dyspnoea                    457\n",
              "Pruritus                    452\n",
              "Chest discomfort            418\n",
              "Name: SYMPTOM1, dtype: int64"
            ]
          },
          "metadata": {
            "tags": []
          },
          "execution_count": 173
        }
      ]
    },
    {
      "cell_type": "code",
      "metadata": {
        "id": "aqQYyVs1CmG0",
        "colab": {
          "base_uri": "https://localhost:8080/"
        },
        "outputId": "6d90846e-36ee-4d3f-86a4-285f998ae337"
      },
      "source": [
        "df['SYMPTOM2'].value_counts()[:20]"
      ],
      "execution_count": 174,
      "outputs": [
        {
          "output_type": "execute_result",
          "data": {
            "text/plain": [
              "Headache                    2207\n",
              "Fatigue                     1753\n",
              "Chills                      1540\n",
              "Pyrexia                     1063\n",
              "Dizziness                   1048\n",
              "Pain                         968\n",
              "Nausea                       855\n",
              "Injection site pain          849\n",
              "Myalgia                      689\n",
              "Pain in extremity            653\n",
              "Dyspnoea                     637\n",
              "Injection site pruritus      566\n",
              "SARS-CoV-2 test positive     457\n",
              "Pruritus                     446\n",
              "Injection site erythema      439\n",
              "Death                        403\n",
              "Rash                         401\n",
              "Diarrhoea                    398\n",
              "Vomiting                     349\n",
              "Asthenia                     335\n",
              "Name: SYMPTOM2, dtype: int64"
            ]
          },
          "metadata": {
            "tags": []
          },
          "execution_count": 174
        }
      ]
    },
    {
      "cell_type": "code",
      "metadata": {
        "id": "4UUQBYFcCmJb",
        "colab": {
          "base_uri": "https://localhost:8080/"
        },
        "outputId": "645547d0-916d-4803-e71d-f6ac405b6fa4"
      },
      "source": [
        "df['SYMPTOM3'].value_counts()[:20]"
      ],
      "execution_count": 175,
      "outputs": [
        {
          "output_type": "execute_result",
          "data": {
            "text/plain": [
              "Headache                   1832\n",
              "Pyrexia                    1290\n",
              "Fatigue                    1215\n",
              "Pain                       1195\n",
              "Nausea                     1042\n",
              "Pain in extremity           714\n",
              "Myalgia                     691\n",
              "Injection site pain         665\n",
              "Injection site swelling     587\n",
              "Dizziness                   585\n",
              "Chills                      541\n",
              "Dyspnoea                    509\n",
              "Injection site pruritus     419\n",
              "Pruritus                    380\n",
              "Vomiting                    341\n",
              "Rash                        327\n",
              "Injection site warmth       306\n",
              "Malaise                     300\n",
              "Diarrhoea                   278\n",
              "Hyperhidrosis               276\n",
              "Name: SYMPTOM3, dtype: int64"
            ]
          },
          "metadata": {
            "tags": []
          },
          "execution_count": 175
        }
      ]
    },
    {
      "cell_type": "code",
      "metadata": {
        "colab": {
          "base_uri": "https://localhost:8080/"
        },
        "id": "VjL24W56DpA3",
        "outputId": "37049105-417f-4df0-feb1-4be651d5b134"
      },
      "source": [
        "df['SYMPTOM4'].value_counts()[:20]"
      ],
      "execution_count": 176,
      "outputs": [
        {
          "output_type": "execute_result",
          "data": {
            "text/plain": [
              "Pyrexia                     1323\n",
              "Headache                    1192\n",
              "Pain                        1105\n",
              "Nausea                       977\n",
              "Fatigue                      637\n",
              "Myalgia                      613\n",
              "Pain in extremity            601\n",
              "Injection site pain          478\n",
              "Injection site swelling      409\n",
              "Injection site warmth        395\n",
              "Vomiting                     348\n",
              "Dyspnoea                     310\n",
              "Dizziness                    297\n",
              "Pruritus                     276\n",
              "Malaise                      274\n",
              "Rash                         264\n",
              "Paraesthesia                 245\n",
              "Urticaria                    222\n",
              "Injection site pruritus      188\n",
              "SARS-CoV-2 test negative     185\n",
              "Name: SYMPTOM4, dtype: int64"
            ]
          },
          "metadata": {
            "tags": []
          },
          "execution_count": 176
        }
      ]
    },
    {
      "cell_type": "code",
      "metadata": {
        "colab": {
          "base_uri": "https://localhost:8080/"
        },
        "id": "jF-resvHDqhm",
        "outputId": "e19f9942-3642-4dee-c88d-bcb23d82472b"
      },
      "source": [
        "df['SYMPTOM5'].value_counts()[:20]"
      ],
      "execution_count": 177,
      "outputs": [
        {
          "output_type": "execute_result",
          "data": {
            "text/plain": [
              "Pyrexia                     1192\n",
              "Pain                         861\n",
              "Nausea                       670\n",
              "Headache                     613\n",
              "Pain in extremity            552\n",
              "Myalgia                      434\n",
              "Vomiting                     399\n",
              "Fatigue                      328\n",
              "Injection site pain          282\n",
              "Dyspnoea                     245\n",
              "Injection site swelling      232\n",
              "Injection site warmth        223\n",
              "Pruritus                     219\n",
              "Malaise                      205\n",
              "Paraesthesia                 192\n",
              "Rash                         185\n",
              "Urticaria                    179\n",
              "SARS-CoV-2 test negative     171\n",
              "Hyperhidrosis                144\n",
              "SARS-CoV-2 test              136\n",
              "Name: SYMPTOM5, dtype: int64"
            ]
          },
          "metadata": {
            "tags": []
          },
          "execution_count": 177
        }
      ]
    },
    {
      "cell_type": "code",
      "metadata": {
        "id": "k6DbMDQLCmMh"
      },
      "source": [
        "df['SYMPTOM2'] = df['SYMPTOM2'].fillna('No symptom')\n",
        "df['SYMPTOM3'] = df['SYMPTOM3'].fillna('No symptom')\n",
        "df['SYMPTOM4'] = df['SYMPTOM4'].fillna('No symptom')\n",
        "df['SYMPTOM5'] = df['SYMPTOM5'].fillna('No symptom')"
      ],
      "execution_count": 178,
      "outputs": []
    },
    {
      "cell_type": "code",
      "metadata": {
        "id": "NHkIeY4OGrs-",
        "colab": {
          "base_uri": "https://localhost:8080/"
        },
        "outputId": "8bd42638-46bf-4ab3-ff10-cd106b587759"
      },
      "source": [
        "df.isna().sum()"
      ],
      "execution_count": 179,
      "outputs": [
        {
          "output_type": "execute_result",
          "data": {
            "text/plain": [
              "VAERS_ID               0\n",
              "SYMPTOM1               0\n",
              "SYMPTOMVERSION1        0\n",
              "SYMPTOM2               0\n",
              "SYMPTOMVERSION2     8901\n",
              "SYMPTOM3               0\n",
              "SYMPTOMVERSION3    16822\n",
              "SYMPTOM4               0\n",
              "SYMPTOMVERSION4    24005\n",
              "SYMPTOM5               0\n",
              "SYMPTOMVERSION5    29975\n",
              "VAX_TYPE               0\n",
              "VAX_MANU               0\n",
              "VAX_LOT            14957\n",
              "VAX_DOSE_SERIES      101\n",
              "VAX_ROUTE          11278\n",
              "VAX_SITE           10464\n",
              "VAX_NAME               0\n",
              "dtype: int64"
            ]
          },
          "metadata": {
            "tags": []
          },
          "execution_count": 179
        }
      ]
    },
    {
      "cell_type": "code",
      "metadata": {
        "id": "yuPO53t1Grvy",
        "colab": {
          "base_uri": "https://localhost:8080/",
          "height": 388
        },
        "outputId": "63003ce3-88ca-42fa-8048-86c1ebc7c86a"
      },
      "source": [
        "df['SYMPTOM1'].value_counts()[:20].plot.bar()"
      ],
      "execution_count": 180,
      "outputs": [
        {
          "output_type": "execute_result",
          "data": {
            "text/plain": [
              "<matplotlib.axes._subplots.AxesSubplot at 0x7fad6b52c8d0>"
            ]
          },
          "metadata": {
            "tags": []
          },
          "execution_count": 180
        },
        {
          "output_type": "display_data",
          "data": {
            "image/png": "[encoded data removed]",
            "text/plain": [
              "<Figure size 432x288 with 1 Axes>"
            ]
          },
          "metadata": {
            "tags": [],
            "needs_background": "light"
          }
        }
      ]
    },
    {
      "cell_type": "code",
      "metadata": {
        "id": "dSbkZ_apGryq",
        "colab": {
          "base_uri": "https://localhost:8080/",
          "height": 396
        },
        "outputId": "7af0628a-288e-4c01-fabb-a3ceb65f1cd4"
      },
      "source": [
        "df['SYMPTOM2'].value_counts()[1:21].plot.bar()"
      ],
      "execution_count": 181,
      "outputs": [
        {
          "output_type": "execute_result",
          "data": {
            "text/plain": [
              "<matplotlib.axes._subplots.AxesSubplot at 0x7fad6b2d8650>"
            ]
          },
          "metadata": {
            "tags": []
          },
          "execution_count": 181
        },
        {
          "output_type": "display_data",
          "data": {
            "image/png": "[encoded data removed]",
            "text/plain": [
              "<Figure size 432x288 with 1 Axes>"
            ]
          },
          "metadata": {
            "tags": [],
            "needs_background": "light"
          }
        }
      ]
    },
    {
      "cell_type": "code",
      "metadata": {
        "id": "9iABT4ptGr4C",
        "colab": {
          "base_uri": "https://localhost:8080/",
          "height": 380
        },
        "outputId": "96725b98-f644-49b1-fc6a-e3b214e77a77"
      },
      "source": [
        "df['SYMPTOM3'].value_counts()[1:21].plot.bar()"
      ],
      "execution_count": 182,
      "outputs": [
        {
          "output_type": "execute_result",
          "data": {
            "text/plain": [
              "<matplotlib.axes._subplots.AxesSubplot at 0x7fad71391b50>"
            ]
          },
          "metadata": {
            "tags": []
          },
          "execution_count": 182
        },
        {
          "output_type": "display_data",
          "data": {
            "image/png": "[encoded data removed]",
            "text/plain": [
              "<Figure size 432x288 with 1 Axes>"
            ]
          },
          "metadata": {
            "tags": [],
            "needs_background": "light"
          }
        }
      ]
    },
    {
      "cell_type": "code",
      "metadata": {
        "colab": {
          "base_uri": "https://localhost:8080/",
          "height": 401
        },
        "id": "3SPRFJXwDVxb",
        "outputId": "db801b84-001b-402a-c52f-6d6ff5d4933d"
      },
      "source": [
        "df['SYMPTOM4'].value_counts()[1:21].plot.bar()"
      ],
      "execution_count": 183,
      "outputs": [
        {
          "output_type": "execute_result",
          "data": {
            "text/plain": [
              "<matplotlib.axes._subplots.AxesSubplot at 0x7fad6c1d3d90>"
            ]
          },
          "metadata": {
            "tags": []
          },
          "execution_count": 183
        },
        {
          "output_type": "display_data",
          "data": {
            "image/png": "[encoded data removed]",
            "text/plain": [
              "<Figure size 432x288 with 1 Axes>"
            ]
          },
          "metadata": {
            "tags": [],
            "needs_background": "light"
          }
        }
      ]
    },
    {
      "cell_type": "code",
      "metadata": {
        "colab": {
          "base_uri": "https://localhost:8080/",
          "height": 401
        },
        "id": "a0PJoxoqDV1X",
        "outputId": "2c94bfee-9783-4ecb-e005-899488f6ea23"
      },
      "source": [
        "df['SYMPTOM5'].value_counts()[1:21].plot.bar()"
      ],
      "execution_count": 184,
      "outputs": [
        {
          "output_type": "execute_result",
          "data": {
            "text/plain": [
              "<matplotlib.axes._subplots.AxesSubplot at 0x7fad6c6f2d90>"
            ]
          },
          "metadata": {
            "tags": []
          },
          "execution_count": 184
        },
        {
          "output_type": "display_data",
          "data": {
            "image/png": "[encoded data removed]",
            "text/plain": [
              "<Figure size 432x288 with 1 Axes>"
            ]
          },
          "metadata": {
            "tags": [],
            "needs_background": "light"
          }
        }
      ]
    },
    {
      "cell_type": "code",
      "metadata": {
        "colab": {
          "base_uri": "https://localhost:8080/"
        },
        "id": "pEv3L6oNDV_Q",
        "outputId": "90cb885b-4dc7-4995-c16d-bbc326ad0113"
      },
      "source": [
        "SYMPTOM1 = df['SYMPTOM1'].value_counts()\n",
        "SYMPTOM1"
      ],
      "execution_count": 185,
      "outputs": [
        {
          "output_type": "execute_result",
          "data": {
            "text/plain": [
              "Chills                                          3268\n",
              "Arthralgia                                      1962\n",
              "Headache                                        1490\n",
              "Dizziness                                       1459\n",
              "Injection site erythema                         1417\n",
              "                                                ... \n",
              "Reaction to previous exposure to any vaccine       1\n",
              "Anti-thyroid antibody decreased                    1\n",
              "Choking sensation                                  1\n",
              "Hand-eye coordination impaired                     1\n",
              "Glycosylated haemoglobin increased                 1\n",
              "Name: SYMPTOM1, Length: 2431, dtype: int64"
            ]
          },
          "metadata": {
            "tags": []
          },
          "execution_count": 185
        }
      ]
    },
    {
      "cell_type": "code",
      "metadata": {
        "colab": {
          "base_uri": "https://localhost:8080/"
        },
        "id": "F-8yBYrkLdyk",
        "outputId": "0c03cd8e-414d-4c28-a960-612de1b2bbd8"
      },
      "source": [
        "SYMPTOM2 = df['SYMPTOM2'].value_counts()\n",
        "SYMPTOM2"
      ],
      "execution_count": 186,
      "outputs": [
        {
          "output_type": "execute_result",
          "data": {
            "text/plain": [
              "No symptom                              8901\n",
              "Headache                                2207\n",
              "Fatigue                                 1753\n",
              "Chills                                  1540\n",
              "Pyrexia                                 1063\n",
              "                                        ... \n",
              "Upper respiratory tract congestion         1\n",
              "Anembryonic gestation                      1\n",
              "Granulocyte count                          1\n",
              "Anion gap normal                           1\n",
              "Irregular sleep wake rhythm disorder       1\n",
              "Name: SYMPTOM2, Length: 2356, dtype: int64"
            ]
          },
          "metadata": {
            "tags": []
          },
          "execution_count": 186
        }
      ]
    },
    {
      "cell_type": "code",
      "metadata": {
        "colab": {
          "base_uri": "https://localhost:8080/"
        },
        "id": "rMKgFY9FLd6M",
        "outputId": "d1f80a48-6e9e-4e62-92c3-f4acda06b608"
      },
      "source": [
        "SYMPTOM3 = df['SYMPTOM3'].value_counts()\n",
        "SYMPTOM3"
      ],
      "execution_count": 187,
      "outputs": [
        {
          "output_type": "execute_result",
          "data": {
            "text/plain": [
              "No symptom                           16822\n",
              "Headache                              1832\n",
              "Pyrexia                               1290\n",
              "Fatigue                               1215\n",
              "Pain                                  1195\n",
              "                                     ...  \n",
              "Uterine haemorrhage                      1\n",
              "Enterocolitis                            1\n",
              "Stress echocardiogram                    1\n",
              "Myocardial necrosis marker normal        1\n",
              "Serum serotonin                          1\n",
              "Name: SYMPTOM3, Length: 2134, dtype: int64"
            ]
          },
          "metadata": {
            "tags": []
          },
          "execution_count": 187
        }
      ]
    },
    {
      "cell_type": "code",
      "metadata": {
        "colab": {
          "base_uri": "https://localhost:8080/"
        },
        "id": "eCwfc3EbLeCY",
        "outputId": "32aba656-2ebe-4beb-effe-034524945a95"
      },
      "source": [
        "SYMPTOM4 = df['SYMPTOM4'].value_counts()\n",
        "SYMPTOM4"
      ],
      "execution_count": 188,
      "outputs": [
        {
          "output_type": "execute_result",
          "data": {
            "text/plain": [
              "No symptom                   24005\n",
              "Pyrexia                       1323\n",
              "Headache                      1192\n",
              "Pain                          1105\n",
              "Nausea                         977\n",
              "                             ...  \n",
              "Menstruation irregular           1\n",
              "Skin hypertrophy                 1\n",
              "Complicated appendicitis         1\n",
              "Pancreatic enzymes normal        1\n",
              "Histamine level                  1\n",
              "Name: SYMPTOM4, Length: 1962, dtype: int64"
            ]
          },
          "metadata": {
            "tags": []
          },
          "execution_count": 188
        }
      ]
    },
    {
      "cell_type": "code",
      "metadata": {
        "colab": {
          "base_uri": "https://localhost:8080/"
        },
        "id": "a651ungJLeLR",
        "outputId": "a3699774-2eb0-4743-d592-e8b26e62b498"
      },
      "source": [
        "SYMPTOM5 = df['SYMPTOM5'].value_counts()\n",
        "SYMPTOM5"
      ],
      "execution_count": 189,
      "outputs": [
        {
          "output_type": "execute_result",
          "data": {
            "text/plain": [
              "No symptom                                    29975\n",
              "Pyrexia                                        1192\n",
              "Pain                                            861\n",
              "Nausea                                          670\n",
              "Headache                                        613\n",
              "                                              ...  \n",
              "Venogram normal                                   1\n",
              "Glucose-6-phosphate dehydrogenase abnormal        1\n",
              "Central nervous system inflammation               1\n",
              "Metabolic disorder                                1\n",
              "Viral test positive                               1\n",
              "Name: SYMPTOM5, Length: 1730, dtype: int64"
            ]
          },
          "metadata": {
            "tags": []
          },
          "execution_count": 189
        }
      ]
    },
    {
      "cell_type": "code",
      "metadata": {
        "id": "uPtPXSy0atqd"
      },
      "source": [
        ""
      ],
      "execution_count": 189,
      "outputs": []
    },
    {
      "cell_type": "code",
      "metadata": {
        "colab": {
          "base_uri": "https://localhost:8080/",
          "height": 419
        },
        "id": "WASMkhfEDV4z",
        "outputId": "f4abaeaf-4958-4cee-fce3-606ba6ef18e5"
      },
      "source": [
        "symptom_list = [SYMPTOM1, SYMPTOM2, SYMPTOM3, SYMPTOM4, SYMPTOM5]\n",
        "symptom_df = pd.DataFrame()\n",
        "\n",
        "for i in range(5):\n",
        "  for j in range(20):\n",
        "    symptom_df[f'count_symptom{i+1}'] = symptom_list[i]\n",
        "    symptom_df[f'percent_symptom{i+1}'] = (symptom_list[i]/len(df.index))*100  \n",
        "clean_df = symptom_df.reset_index().rename(columns={'index':'symptom'})\n",
        "clean_df"
      ],
      "execution_count": 190,
      "outputs": [
        {
          "output_type": "execute_result",
          "data": {
            "text/html": [
              "<div>\n",
              "<style scoped>\n",
              "    .dataframe tbody tr th:only-of-type {\n",
              "        vertical-align: middle;\n",
              "    }\n",
              "\n",
              "    .dataframe tbody tr th {\n",
              "        vertical-align: top;\n",
              "    }\n",
              "\n",
              "    .dataframe thead th {\n",
              "        text-align: right;\n",
              "    }\n",
              "</style>\n",
              "<table border=\"1\" class=\"dataframe\">\n",
              "  <thead>\n",
              "    <tr style=\"text-align: right;\">\n",
              "      <th></th>\n",
              "      <th>symptom</th>\n",
              "      <th>count_symptom1</th>\n",
              "      <th>percent_symptom1</th>\n",
              "      <th>count_symptom2</th>\n",
              "      <th>percent_symptom2</th>\n",
              "      <th>count_symptom3</th>\n",
              "      <th>percent_symptom3</th>\n",
              "      <th>count_symptom4</th>\n",
              "      <th>percent_symptom4</th>\n",
              "      <th>count_symptom5</th>\n",
              "      <th>percent_symptom5</th>\n",
              "    </tr>\n",
              "  </thead>\n",
              "  <tbody>\n",
              "    <tr>\n",
              "      <th>0</th>\n",
              "      <td>Chills</td>\n",
              "      <td>3268</td>\n",
              "      <td>6.666531</td>\n",
              "      <td>1540.0</td>\n",
              "      <td>3.141511</td>\n",
              "      <td>541.0</td>\n",
              "      <td>1.103609</td>\n",
              "      <td>182.0</td>\n",
              "      <td>0.371269</td>\n",
              "      <td>60.0</td>\n",
              "      <td>0.122397</td>\n",
              "    </tr>\n",
              "    <tr>\n",
              "      <th>1</th>\n",
              "      <td>Arthralgia</td>\n",
              "      <td>1962</td>\n",
              "      <td>4.002366</td>\n",
              "      <td>148.0</td>\n",
              "      <td>0.301911</td>\n",
              "      <td>26.0</td>\n",
              "      <td>0.053038</td>\n",
              "      <td>4.0</td>\n",
              "      <td>0.008160</td>\n",
              "      <td>1.0</td>\n",
              "      <td>0.002040</td>\n",
              "    </tr>\n",
              "    <tr>\n",
              "      <th>2</th>\n",
              "      <td>Headache</td>\n",
              "      <td>1490</td>\n",
              "      <td>3.039514</td>\n",
              "      <td>2207.0</td>\n",
              "      <td>4.502152</td>\n",
              "      <td>1832.0</td>\n",
              "      <td>3.737174</td>\n",
              "      <td>1192.0</td>\n",
              "      <td>2.431611</td>\n",
              "      <td>613.0</td>\n",
              "      <td>1.250484</td>\n",
              "    </tr>\n",
              "    <tr>\n",
              "      <th>3</th>\n",
              "      <td>Dizziness</td>\n",
              "      <td>1459</td>\n",
              "      <td>2.976275</td>\n",
              "      <td>1048.0</td>\n",
              "      <td>2.137859</td>\n",
              "      <td>585.0</td>\n",
              "      <td>1.193366</td>\n",
              "      <td>297.0</td>\n",
              "      <td>0.605863</td>\n",
              "      <td>134.0</td>\n",
              "      <td>0.273352</td>\n",
              "    </tr>\n",
              "    <tr>\n",
              "      <th>4</th>\n",
              "      <td>Injection site erythema</td>\n",
              "      <td>1417</td>\n",
              "      <td>2.890598</td>\n",
              "      <td>439.0</td>\n",
              "      <td>0.895535</td>\n",
              "      <td>207.0</td>\n",
              "      <td>0.422268</td>\n",
              "      <td>109.0</td>\n",
              "      <td>0.222354</td>\n",
              "      <td>65.0</td>\n",
              "      <td>0.132596</td>\n",
              "    </tr>\n",
              "    <tr>\n",
              "      <th>...</th>\n",
              "      <td>...</td>\n",
              "      <td>...</td>\n",
              "      <td>...</td>\n",
              "      <td>...</td>\n",
              "      <td>...</td>\n",
              "      <td>...</td>\n",
              "      <td>...</td>\n",
              "      <td>...</td>\n",
              "      <td>...</td>\n",
              "      <td>...</td>\n",
              "      <td>...</td>\n",
              "    </tr>\n",
              "    <tr>\n",
              "      <th>2426</th>\n",
              "      <td>Reaction to previous exposure to any vaccine</td>\n",
              "      <td>1</td>\n",
              "      <td>0.002040</td>\n",
              "      <td>2.0</td>\n",
              "      <td>0.004080</td>\n",
              "      <td>1.0</td>\n",
              "      <td>0.002040</td>\n",
              "      <td>2.0</td>\n",
              "      <td>0.004080</td>\n",
              "      <td>NaN</td>\n",
              "      <td>NaN</td>\n",
              "    </tr>\n",
              "    <tr>\n",
              "      <th>2427</th>\n",
              "      <td>Anti-thyroid antibody decreased</td>\n",
              "      <td>1</td>\n",
              "      <td>0.002040</td>\n",
              "      <td>NaN</td>\n",
              "      <td>NaN</td>\n",
              "      <td>NaN</td>\n",
              "      <td>NaN</td>\n",
              "      <td>NaN</td>\n",
              "      <td>NaN</td>\n",
              "      <td>NaN</td>\n",
              "      <td>NaN</td>\n",
              "    </tr>\n",
              "    <tr>\n",
              "      <th>2428</th>\n",
              "      <td>Choking sensation</td>\n",
              "      <td>1</td>\n",
              "      <td>0.002040</td>\n",
              "      <td>7.0</td>\n",
              "      <td>0.014280</td>\n",
              "      <td>2.0</td>\n",
              "      <td>0.004080</td>\n",
              "      <td>3.0</td>\n",
              "      <td>0.006120</td>\n",
              "      <td>1.0</td>\n",
              "      <td>0.002040</td>\n",
              "    </tr>\n",
              "    <tr>\n",
              "      <th>2429</th>\n",
              "      <td>Hand-eye coordination impaired</td>\n",
              "      <td>1</td>\n",
              "      <td>0.002040</td>\n",
              "      <td>2.0</td>\n",
              "      <td>0.004080</td>\n",
              "      <td>1.0</td>\n",
              "      <td>0.002040</td>\n",
              "      <td>NaN</td>\n",
              "      <td>NaN</td>\n",
              "      <td>NaN</td>\n",
              "      <td>NaN</td>\n",
              "    </tr>\n",
              "    <tr>\n",
              "      <th>2430</th>\n",
              "      <td>Glycosylated haemoglobin increased</td>\n",
              "      <td>1</td>\n",
              "      <td>0.002040</td>\n",
              "      <td>2.0</td>\n",
              "      <td>0.004080</td>\n",
              "      <td>3.0</td>\n",
              "      <td>0.006120</td>\n",
              "      <td>5.0</td>\n",
              "      <td>0.010200</td>\n",
              "      <td>1.0</td>\n",
              "      <td>0.002040</td>\n",
              "    </tr>\n",
              "  </tbody>\n",
              "</table>\n",
              "<p>2431 rows × 11 columns</p>\n",
              "</div>"
            ],
            "text/plain": [
              "                                           symptom  ...  percent_symptom5\n",
              "0                                           Chills  ...          0.122397\n",
              "1                                       Arthralgia  ...          0.002040\n",
              "2                                         Headache  ...          1.250484\n",
              "3                                        Dizziness  ...          0.273352\n",
              "4                          Injection site erythema  ...          0.132596\n",
              "...                                            ...  ...               ...\n",
              "2426  Reaction to previous exposure to any vaccine  ...               NaN\n",
              "2427               Anti-thyroid antibody decreased  ...               NaN\n",
              "2428                             Choking sensation  ...          0.002040\n",
              "2429                Hand-eye coordination impaired  ...               NaN\n",
              "2430            Glycosylated haemoglobin increased  ...          0.002040\n",
              "\n",
              "[2431 rows x 11 columns]"
            ]
          },
          "metadata": {
            "tags": []
          },
          "execution_count": 190
        }
      ]
    },
    {
      "cell_type": "code",
      "metadata": {
        "colab": {
          "base_uri": "https://localhost:8080/",
          "height": 669
        },
        "id": "h2H_bAX1GIzD",
        "outputId": "ba37f3f4-a710-41bb-b4ed-8496c39e4d21"
      },
      "source": [
        "count_df = df[[\"SYMPTOM1\", \"SYMPTOM2\", \"SYMPTOM3\", \"SYMPTOM4\", \"SYMPTOM5\"]]\n",
        "count_df = count_df.apply(pd.Series.value_counts)\n",
        "\n",
        "count_df = count_df.replace(np.nan,0)\n",
        "\n",
        "count_df[\"COUNT\"] = count_df.sum(axis=1)\n",
        "\n",
        "count_df = count_df.reset_index().rename(columns={\"index\":\"SYMPTOM\"}).sort_values(by=\"COUNT\", ascending=False)[1:]\n",
        "count_df = count_df.drop(columns=[\"SYMPTOM1\", \"SYMPTOM2\", \"SYMPTOM3\", \"SYMPTOM4\", \"SYMPTOM5\"])\n",
        "count_df[:20]"
      ],
      "execution_count": 213,
      "outputs": [
        {
          "output_type": "execute_result",
          "data": {
            "text/html": [
              "<div>\n",
              "<style scoped>\n",
              "    .dataframe tbody tr th:only-of-type {\n",
              "        vertical-align: middle;\n",
              "    }\n",
              "\n",
              "    .dataframe tbody tr th {\n",
              "        vertical-align: top;\n",
              "    }\n",
              "\n",
              "    .dataframe thead th {\n",
              "        text-align: right;\n",
              "    }\n",
              "</style>\n",
              "<table border=\"1\" class=\"dataframe\">\n",
              "  <thead>\n",
              "    <tr style=\"text-align: right;\">\n",
              "      <th></th>\n",
              "      <th>SYMPTOM</th>\n",
              "      <th>COUNT</th>\n",
              "    </tr>\n",
              "  </thead>\n",
              "  <tbody>\n",
              "    <tr>\n",
              "      <th>1824</th>\n",
              "      <td>Headache</td>\n",
              "      <td>7334.0</td>\n",
              "    </tr>\n",
              "    <tr>\n",
              "      <th>3240</th>\n",
              "      <td>Pyrexia</td>\n",
              "      <td>5950.0</td>\n",
              "    </tr>\n",
              "    <tr>\n",
              "      <th>963</th>\n",
              "      <td>Chills</td>\n",
              "      <td>5591.0</td>\n",
              "    </tr>\n",
              "    <tr>\n",
              "      <th>1556</th>\n",
              "      <td>Fatigue</td>\n",
              "      <td>5324.0</td>\n",
              "    </tr>\n",
              "    <tr>\n",
              "      <th>2881</th>\n",
              "      <td>Pain</td>\n",
              "      <td>4890.0</td>\n",
              "    </tr>\n",
              "    <tr>\n",
              "      <th>2690</th>\n",
              "      <td>Nausea</td>\n",
              "      <td>4219.0</td>\n",
              "    </tr>\n",
              "    <tr>\n",
              "      <th>1283</th>\n",
              "      <td>Dizziness</td>\n",
              "      <td>3523.0</td>\n",
              "    </tr>\n",
              "    <tr>\n",
              "      <th>2883</th>\n",
              "      <td>Pain in extremity</td>\n",
              "      <td>3159.0</td>\n",
              "    </tr>\n",
              "    <tr>\n",
              "      <th>2635</th>\n",
              "      <td>Myalgia</td>\n",
              "      <td>2911.0</td>\n",
              "    </tr>\n",
              "    <tr>\n",
              "      <th>2154</th>\n",
              "      <td>Injection site pain</td>\n",
              "      <td>2807.0</td>\n",
              "    </tr>\n",
              "    <tr>\n",
              "      <th>2128</th>\n",
              "      <td>Injection site erythema</td>\n",
              "      <td>2237.0</td>\n",
              "    </tr>\n",
              "    <tr>\n",
              "      <th>1323</th>\n",
              "      <td>Dyspnoea</td>\n",
              "      <td>2158.0</td>\n",
              "    </tr>\n",
              "    <tr>\n",
              "      <th>296</th>\n",
              "      <td>Arthralgia</td>\n",
              "      <td>2141.0</td>\n",
              "    </tr>\n",
              "    <tr>\n",
              "      <th>4165</th>\n",
              "      <td>Vomiting</td>\n",
              "      <td>1793.0</td>\n",
              "    </tr>\n",
              "    <tr>\n",
              "      <th>3189</th>\n",
              "      <td>Pruritus</td>\n",
              "      <td>1773.0</td>\n",
              "    </tr>\n",
              "    <tr>\n",
              "      <th>1186</th>\n",
              "      <td>Death</td>\n",
              "      <td>1734.0</td>\n",
              "    </tr>\n",
              "    <tr>\n",
              "      <th>2167</th>\n",
              "      <td>Injection site swelling</td>\n",
              "      <td>1686.0</td>\n",
              "    </tr>\n",
              "    <tr>\n",
              "      <th>3255</th>\n",
              "      <td>Rash</td>\n",
              "      <td>1648.0</td>\n",
              "    </tr>\n",
              "    <tr>\n",
              "      <th>318</th>\n",
              "      <td>Asthenia</td>\n",
              "      <td>1578.0</td>\n",
              "    </tr>\n",
              "    <tr>\n",
              "      <th>2159</th>\n",
              "      <td>Injection site pruritus</td>\n",
              "      <td>1407.0</td>\n",
              "    </tr>\n",
              "  </tbody>\n",
              "</table>\n",
              "</div>"
            ],
            "text/plain": [
              "                      SYMPTOM   COUNT\n",
              "1824                 Headache  7334.0\n",
              "3240                  Pyrexia  5950.0\n",
              "963                    Chills  5591.0\n",
              "1556                  Fatigue  5324.0\n",
              "2881                     Pain  4890.0\n",
              "2690                   Nausea  4219.0\n",
              "1283                Dizziness  3523.0\n",
              "2883        Pain in extremity  3159.0\n",
              "2635                  Myalgia  2911.0\n",
              "2154      Injection site pain  2807.0\n",
              "2128  Injection site erythema  2237.0\n",
              "1323                 Dyspnoea  2158.0\n",
              "296                Arthralgia  2141.0\n",
              "4165                 Vomiting  1793.0\n",
              "3189                 Pruritus  1773.0\n",
              "1186                    Death  1734.0\n",
              "2167  Injection site swelling  1686.0\n",
              "3255                     Rash  1648.0\n",
              "318                  Asthenia  1578.0\n",
              "2159  Injection site pruritus  1407.0"
            ]
          },
          "metadata": {
            "tags": []
          },
          "execution_count": 213
        }
      ]
    },
    {
      "cell_type": "code",
      "metadata": {
        "colab": {
          "base_uri": "https://localhost:8080/",
          "height": 297
        },
        "id": "Egp-ZOfql3Bz",
        "outputId": "20b7993f-0996-42a2-cf1f-9a700e93b4d7"
      },
      "source": [
        "x = [1, 2, 3, 4, 5, 6, 7, 8, 9, 10]\n",
        "y = count_df['COUNT'][:10]\n",
        "\n",
        "labels = count_df['SYMPTOM'][:10]\n",
        "plt.plot(x, y, marker='o')\n",
        "plt.ylabel('Count')\n",
        "plt.xlabel('Symptom')\n",
        "plt.xticks(x, labels, rotation='vertical')\n",
        "plt.tight_layout()\n",
        "plt.show()"
      ],
      "execution_count": 212,
      "outputs": [
        {
          "output_type": "display_data",
          "data": {
            "image/png": "[encoded data removed]",
            "text/plain": [
              "<Figure size 432x288 with 1 Axes>"
            ]
          },
          "metadata": {
            "tags": [],
            "needs_background": "light"
          }
        }
      ]
    },
    {
      "cell_type": "code",
      "metadata": {
        "colab": {
          "base_uri": "https://localhost:8080/"
        },
        "id": "y-uvO6LuPLCR",
        "outputId": "a543afdf-7af5-4304-c0dd-d0eecaed4529"
      },
      "source": [
        "df['VAX_MANU'].value_counts()"
      ],
      "execution_count": 195,
      "outputs": [
        {
          "output_type": "execute_result",
          "data": {
            "text/plain": [
              "PFIZER\\BIONTECH                      23617\n",
              "MODERNA                              23173\n",
              "JANSSEN                               1513\n",
              "UNKNOWN MANUFACTURER                   301\n",
              "MERCK & CO. INC.                       147\n",
              "GLAXOSMITHKLINE BIOLOGICALS            124\n",
              "SANOFI PASTEUR                          81\n",
              "SEQIRUS, INC.                           20\n",
              "PFIZER\\WYETH                            19\n",
              "PROTEIN SCIENCES CORPORATION            12\n",
              "NOVARTIS VACCINES AND DIAGNOSTICS        9\n",
              "MEDIMMUNE VACCINES, INC.                 2\n",
              "EMERGENT BIOSOLUTIONS                    1\n",
              "DYNAVAX TECHNOLOGIES CORPORATION         1\n",
              "BERNA BIOTECH, LTD.                      1\n",
              "Name: VAX_MANU, dtype: int64"
            ]
          },
          "metadata": {
            "tags": []
          },
          "execution_count": 195
        }
      ]
    },
    {
      "cell_type": "code",
      "metadata": {
        "colab": {
          "base_uri": "https://localhost:8080/",
          "height": 847
        },
        "id": "VnUYUD_hVPxK",
        "outputId": "aedcefe4-5887-49ce-d7f0-797169d66f1d"
      },
      "source": [
        "vax_df = df.copy()\n",
        "vax_df"
      ],
      "execution_count": 196,
      "outputs": [
        {
          "output_type": "execute_result",
          "data": {
            "text/html": [
              "<div>\n",
              "<style scoped>\n",
              "    .dataframe tbody tr th:only-of-type {\n",
              "        vertical-align: middle;\n",
              "    }\n",
              "\n",
              "    .dataframe tbody tr th {\n",
              "        vertical-align: top;\n",
              "    }\n",
              "\n",
              "    .dataframe thead th {\n",
              "        text-align: right;\n",
              "    }\n",
              "</style>\n",
              "<table border=\"1\" class=\"dataframe\">\n",
              "  <thead>\n",
              "    <tr style=\"text-align: right;\">\n",
              "      <th></th>\n",
              "      <th>VAERS_ID</th>\n",
              "      <th>SYMPTOM1</th>\n",
              "      <th>SYMPTOMVERSION1</th>\n",
              "      <th>SYMPTOM2</th>\n",
              "      <th>SYMPTOMVERSION2</th>\n",
              "      <th>SYMPTOM3</th>\n",
              "      <th>SYMPTOMVERSION3</th>\n",
              "      <th>SYMPTOM4</th>\n",
              "      <th>SYMPTOMVERSION4</th>\n",
              "      <th>SYMPTOM5</th>\n",
              "      <th>SYMPTOMVERSION5</th>\n",
              "      <th>VAX_TYPE</th>\n",
              "      <th>VAX_MANU</th>\n",
              "      <th>VAX_LOT</th>\n",
              "      <th>VAX_DOSE_SERIES</th>\n",
              "      <th>VAX_ROUTE</th>\n",
              "      <th>VAX_SITE</th>\n",
              "      <th>VAX_NAME</th>\n",
              "    </tr>\n",
              "  </thead>\n",
              "  <tbody>\n",
              "    <tr>\n",
              "      <th>0</th>\n",
              "      <td>916600</td>\n",
              "      <td>Dysphagia</td>\n",
              "      <td>23.1</td>\n",
              "      <td>Epiglottitis</td>\n",
              "      <td>23.1</td>\n",
              "      <td>No symptom</td>\n",
              "      <td>NaN</td>\n",
              "      <td>No symptom</td>\n",
              "      <td>NaN</td>\n",
              "      <td>No symptom</td>\n",
              "      <td>NaN</td>\n",
              "      <td>COVID19</td>\n",
              "      <td>MODERNA</td>\n",
              "      <td>037K20A</td>\n",
              "      <td>1</td>\n",
              "      <td>IM</td>\n",
              "      <td>LA</td>\n",
              "      <td>COVID19 (COVID19 (MODERNA))</td>\n",
              "    </tr>\n",
              "    <tr>\n",
              "      <th>1</th>\n",
              "      <td>916601</td>\n",
              "      <td>Anxiety</td>\n",
              "      <td>23.1</td>\n",
              "      <td>Dyspnoea</td>\n",
              "      <td>23.1</td>\n",
              "      <td>No symptom</td>\n",
              "      <td>NaN</td>\n",
              "      <td>No symptom</td>\n",
              "      <td>NaN</td>\n",
              "      <td>No symptom</td>\n",
              "      <td>NaN</td>\n",
              "      <td>COVID19</td>\n",
              "      <td>MODERNA</td>\n",
              "      <td>025L20A</td>\n",
              "      <td>1</td>\n",
              "      <td>IM</td>\n",
              "      <td>RA</td>\n",
              "      <td>COVID19 (COVID19 (MODERNA))</td>\n",
              "    </tr>\n",
              "    <tr>\n",
              "      <th>2</th>\n",
              "      <td>916602</td>\n",
              "      <td>Chest discomfort</td>\n",
              "      <td>23.1</td>\n",
              "      <td>Dysphagia</td>\n",
              "      <td>23.1</td>\n",
              "      <td>Pain in extremity</td>\n",
              "      <td>23.1</td>\n",
              "      <td>Visual impairment</td>\n",
              "      <td>23.1</td>\n",
              "      <td>No symptom</td>\n",
              "      <td>NaN</td>\n",
              "      <td>COVID19</td>\n",
              "      <td>PFIZER\\BIONTECH</td>\n",
              "      <td>EL1284</td>\n",
              "      <td>1</td>\n",
              "      <td>IM</td>\n",
              "      <td>LA</td>\n",
              "      <td>COVID19 (COVID19 (PFIZER-BIONTECH))</td>\n",
              "    </tr>\n",
              "    <tr>\n",
              "      <th>3</th>\n",
              "      <td>916603</td>\n",
              "      <td>Dizziness</td>\n",
              "      <td>23.1</td>\n",
              "      <td>Fatigue</td>\n",
              "      <td>23.1</td>\n",
              "      <td>Mobility decreased</td>\n",
              "      <td>23.1</td>\n",
              "      <td>No symptom</td>\n",
              "      <td>NaN</td>\n",
              "      <td>No symptom</td>\n",
              "      <td>NaN</td>\n",
              "      <td>COVID19</td>\n",
              "      <td>MODERNA</td>\n",
              "      <td>unknown</td>\n",
              "      <td>UNK</td>\n",
              "      <td>NaN</td>\n",
              "      <td>NaN</td>\n",
              "      <td>COVID19 (COVID19 (MODERNA))</td>\n",
              "    </tr>\n",
              "    <tr>\n",
              "      <th>4</th>\n",
              "      <td>916604</td>\n",
              "      <td>Injection site erythema</td>\n",
              "      <td>23.1</td>\n",
              "      <td>Injection site pruritus</td>\n",
              "      <td>23.1</td>\n",
              "      <td>Injection site swelling</td>\n",
              "      <td>23.1</td>\n",
              "      <td>Injection site warmth</td>\n",
              "      <td>23.1</td>\n",
              "      <td>No symptom</td>\n",
              "      <td>NaN</td>\n",
              "      <td>COVID19</td>\n",
              "      <td>MODERNA</td>\n",
              "      <td>NaN</td>\n",
              "      <td>1</td>\n",
              "      <td>IM</td>\n",
              "      <td>LA</td>\n",
              "      <td>COVID19 (COVID19 (MODERNA))</td>\n",
              "    </tr>\n",
              "    <tr>\n",
              "      <th>...</th>\n",
              "      <td>...</td>\n",
              "      <td>...</td>\n",
              "      <td>...</td>\n",
              "      <td>...</td>\n",
              "      <td>...</td>\n",
              "      <td>...</td>\n",
              "      <td>...</td>\n",
              "      <td>...</td>\n",
              "      <td>...</td>\n",
              "      <td>...</td>\n",
              "      <td>...</td>\n",
              "      <td>...</td>\n",
              "      <td>...</td>\n",
              "      <td>...</td>\n",
              "      <td>...</td>\n",
              "      <td>...</td>\n",
              "      <td>...</td>\n",
              "      <td>...</td>\n",
              "    </tr>\n",
              "    <tr>\n",
              "      <th>49016</th>\n",
              "      <td>1113920</td>\n",
              "      <td>Nasal discomfort</td>\n",
              "      <td>23.1</td>\n",
              "      <td>Night sweats</td>\n",
              "      <td>23.1</td>\n",
              "      <td>Platelet count</td>\n",
              "      <td>23.1</td>\n",
              "      <td>Platelet count decreased</td>\n",
              "      <td>23.1</td>\n",
              "      <td>Pyrexia</td>\n",
              "      <td>23.1</td>\n",
              "      <td>COVID19</td>\n",
              "      <td>PFIZER\\BIONTECH</td>\n",
              "      <td>Unknown</td>\n",
              "      <td>1</td>\n",
              "      <td>NaN</td>\n",
              "      <td>NaN</td>\n",
              "      <td>COVID19 (COVID19 (PFIZER-BIONTECH))</td>\n",
              "    </tr>\n",
              "    <tr>\n",
              "      <th>49017</th>\n",
              "      <td>1113920</td>\n",
              "      <td>Rash</td>\n",
              "      <td>23.1</td>\n",
              "      <td>SARS-CoV-2 test</td>\n",
              "      <td>23.1</td>\n",
              "      <td>No symptom</td>\n",
              "      <td>NaN</td>\n",
              "      <td>No symptom</td>\n",
              "      <td>NaN</td>\n",
              "      <td>No symptom</td>\n",
              "      <td>NaN</td>\n",
              "      <td>COVID19</td>\n",
              "      <td>PFIZER\\BIONTECH</td>\n",
              "      <td>Unknown</td>\n",
              "      <td>1</td>\n",
              "      <td>NaN</td>\n",
              "      <td>NaN</td>\n",
              "      <td>COVID19 (COVID19 (PFIZER-BIONTECH))</td>\n",
              "    </tr>\n",
              "    <tr>\n",
              "      <th>49018</th>\n",
              "      <td>1113963</td>\n",
              "      <td>Haemophagocytic lymphohistiocytosis</td>\n",
              "      <td>23.1</td>\n",
              "      <td>SARS-CoV-2 test</td>\n",
              "      <td>23.1</td>\n",
              "      <td>No symptom</td>\n",
              "      <td>NaN</td>\n",
              "      <td>No symptom</td>\n",
              "      <td>NaN</td>\n",
              "      <td>No symptom</td>\n",
              "      <td>NaN</td>\n",
              "      <td>COVID19</td>\n",
              "      <td>PFIZER\\BIONTECH</td>\n",
              "      <td>EL9264</td>\n",
              "      <td>2</td>\n",
              "      <td>NaN</td>\n",
              "      <td>NaN</td>\n",
              "      <td>COVID19 (COVID19 (PFIZER-BIONTECH))</td>\n",
              "    </tr>\n",
              "    <tr>\n",
              "      <th>49019</th>\n",
              "      <td>1115045</td>\n",
              "      <td>Death</td>\n",
              "      <td>23.1</td>\n",
              "      <td>No symptom</td>\n",
              "      <td>NaN</td>\n",
              "      <td>No symptom</td>\n",
              "      <td>NaN</td>\n",
              "      <td>No symptom</td>\n",
              "      <td>NaN</td>\n",
              "      <td>No symptom</td>\n",
              "      <td>NaN</td>\n",
              "      <td>COVID19</td>\n",
              "      <td>MODERNA</td>\n",
              "      <td>NaN</td>\n",
              "      <td>2</td>\n",
              "      <td>OT</td>\n",
              "      <td>NaN</td>\n",
              "      <td>COVID19 (COVID19 (MODERNA))</td>\n",
              "    </tr>\n",
              "    <tr>\n",
              "      <th>49020</th>\n",
              "      <td>1115348</td>\n",
              "      <td>Death</td>\n",
              "      <td>23.1</td>\n",
              "      <td>No symptom</td>\n",
              "      <td>NaN</td>\n",
              "      <td>No symptom</td>\n",
              "      <td>NaN</td>\n",
              "      <td>No symptom</td>\n",
              "      <td>NaN</td>\n",
              "      <td>No symptom</td>\n",
              "      <td>NaN</td>\n",
              "      <td>COVID19</td>\n",
              "      <td>MODERNA</td>\n",
              "      <td>026A21A</td>\n",
              "      <td>1</td>\n",
              "      <td>OT</td>\n",
              "      <td>LA</td>\n",
              "      <td>COVID19 (COVID19 (MODERNA))</td>\n",
              "    </tr>\n",
              "  </tbody>\n",
              "</table>\n",
              "<p>49021 rows × 18 columns</p>\n",
              "</div>"
            ],
            "text/plain": [
              "       VAERS_ID  ...                             VAX_NAME\n",
              "0        916600  ...          COVID19 (COVID19 (MODERNA))\n",
              "1        916601  ...          COVID19 (COVID19 (MODERNA))\n",
              "2        916602  ...  COVID19 (COVID19 (PFIZER-BIONTECH))\n",
              "3        916603  ...          COVID19 (COVID19 (MODERNA))\n",
              "4        916604  ...          COVID19 (COVID19 (MODERNA))\n",
              "...         ...  ...                                  ...\n",
              "49016   1113920  ...  COVID19 (COVID19 (PFIZER-BIONTECH))\n",
              "49017   1113920  ...  COVID19 (COVID19 (PFIZER-BIONTECH))\n",
              "49018   1113963  ...  COVID19 (COVID19 (PFIZER-BIONTECH))\n",
              "49019   1115045  ...          COVID19 (COVID19 (MODERNA))\n",
              "49020   1115348  ...          COVID19 (COVID19 (MODERNA))\n",
              "\n",
              "[49021 rows x 18 columns]"
            ]
          },
          "metadata": {
            "tags": []
          },
          "execution_count": 196
        }
      ]
    },
    {
      "cell_type": "code",
      "metadata": {
        "colab": {
          "base_uri": "https://localhost:8080/",
          "height": 847
        },
        "id": "EFEcCRqsVa3r",
        "outputId": "a3101c54-df46-493d-a5b5-8e93964a8bf0"
      },
      "source": [
        "vaxs = ['MODERNA', 'PFIZER\\BIONTECH']\n",
        "\n",
        "vax_df = vax_df[vax_df['VAX_MANU'].isin(vaxs)]\n",
        "vax_df"
      ],
      "execution_count": 197,
      "outputs": [
        {
          "output_type": "execute_result",
          "data": {
            "text/html": [
              "<div>\n",
              "<style scoped>\n",
              "    .dataframe tbody tr th:only-of-type {\n",
              "        vertical-align: middle;\n",
              "    }\n",
              "\n",
              "    .dataframe tbody tr th {\n",
              "        vertical-align: top;\n",
              "    }\n",
              "\n",
              "    .dataframe thead th {\n",
              "        text-align: right;\n",
              "    }\n",
              "</style>\n",
              "<table border=\"1\" class=\"dataframe\">\n",
              "  <thead>\n",
              "    <tr style=\"text-align: right;\">\n",
              "      <th></th>\n",
              "      <th>VAERS_ID</th>\n",
              "      <th>SYMPTOM1</th>\n",
              "      <th>SYMPTOMVERSION1</th>\n",
              "      <th>SYMPTOM2</th>\n",
              "      <th>SYMPTOMVERSION2</th>\n",
              "      <th>SYMPTOM3</th>\n",
              "      <th>SYMPTOMVERSION3</th>\n",
              "      <th>SYMPTOM4</th>\n",
              "      <th>SYMPTOMVERSION4</th>\n",
              "      <th>SYMPTOM5</th>\n",
              "      <th>SYMPTOMVERSION5</th>\n",
              "      <th>VAX_TYPE</th>\n",
              "      <th>VAX_MANU</th>\n",
              "      <th>VAX_LOT</th>\n",
              "      <th>VAX_DOSE_SERIES</th>\n",
              "      <th>VAX_ROUTE</th>\n",
              "      <th>VAX_SITE</th>\n",
              "      <th>VAX_NAME</th>\n",
              "    </tr>\n",
              "  </thead>\n",
              "  <tbody>\n",
              "    <tr>\n",
              "      <th>0</th>\n",
              "      <td>916600</td>\n",
              "      <td>Dysphagia</td>\n",
              "      <td>23.1</td>\n",
              "      <td>Epiglottitis</td>\n",
              "      <td>23.1</td>\n",
              "      <td>No symptom</td>\n",
              "      <td>NaN</td>\n",
              "      <td>No symptom</td>\n",
              "      <td>NaN</td>\n",
              "      <td>No symptom</td>\n",
              "      <td>NaN</td>\n",
              "      <td>COVID19</td>\n",
              "      <td>MODERNA</td>\n",
              "      <td>037K20A</td>\n",
              "      <td>1</td>\n",
              "      <td>IM</td>\n",
              "      <td>LA</td>\n",
              "      <td>COVID19 (COVID19 (MODERNA))</td>\n",
              "    </tr>\n",
              "    <tr>\n",
              "      <th>1</th>\n",
              "      <td>916601</td>\n",
              "      <td>Anxiety</td>\n",
              "      <td>23.1</td>\n",
              "      <td>Dyspnoea</td>\n",
              "      <td>23.1</td>\n",
              "      <td>No symptom</td>\n",
              "      <td>NaN</td>\n",
              "      <td>No symptom</td>\n",
              "      <td>NaN</td>\n",
              "      <td>No symptom</td>\n",
              "      <td>NaN</td>\n",
              "      <td>COVID19</td>\n",
              "      <td>MODERNA</td>\n",
              "      <td>025L20A</td>\n",
              "      <td>1</td>\n",
              "      <td>IM</td>\n",
              "      <td>RA</td>\n",
              "      <td>COVID19 (COVID19 (MODERNA))</td>\n",
              "    </tr>\n",
              "    <tr>\n",
              "      <th>2</th>\n",
              "      <td>916602</td>\n",
              "      <td>Chest discomfort</td>\n",
              "      <td>23.1</td>\n",
              "      <td>Dysphagia</td>\n",
              "      <td>23.1</td>\n",
              "      <td>Pain in extremity</td>\n",
              "      <td>23.1</td>\n",
              "      <td>Visual impairment</td>\n",
              "      <td>23.1</td>\n",
              "      <td>No symptom</td>\n",
              "      <td>NaN</td>\n",
              "      <td>COVID19</td>\n",
              "      <td>PFIZER\\BIONTECH</td>\n",
              "      <td>EL1284</td>\n",
              "      <td>1</td>\n",
              "      <td>IM</td>\n",
              "      <td>LA</td>\n",
              "      <td>COVID19 (COVID19 (PFIZER-BIONTECH))</td>\n",
              "    </tr>\n",
              "    <tr>\n",
              "      <th>3</th>\n",
              "      <td>916603</td>\n",
              "      <td>Dizziness</td>\n",
              "      <td>23.1</td>\n",
              "      <td>Fatigue</td>\n",
              "      <td>23.1</td>\n",
              "      <td>Mobility decreased</td>\n",
              "      <td>23.1</td>\n",
              "      <td>No symptom</td>\n",
              "      <td>NaN</td>\n",
              "      <td>No symptom</td>\n",
              "      <td>NaN</td>\n",
              "      <td>COVID19</td>\n",
              "      <td>MODERNA</td>\n",
              "      <td>unknown</td>\n",
              "      <td>UNK</td>\n",
              "      <td>NaN</td>\n",
              "      <td>NaN</td>\n",
              "      <td>COVID19 (COVID19 (MODERNA))</td>\n",
              "    </tr>\n",
              "    <tr>\n",
              "      <th>4</th>\n",
              "      <td>916604</td>\n",
              "      <td>Injection site erythema</td>\n",
              "      <td>23.1</td>\n",
              "      <td>Injection site pruritus</td>\n",
              "      <td>23.1</td>\n",
              "      <td>Injection site swelling</td>\n",
              "      <td>23.1</td>\n",
              "      <td>Injection site warmth</td>\n",
              "      <td>23.1</td>\n",
              "      <td>No symptom</td>\n",
              "      <td>NaN</td>\n",
              "      <td>COVID19</td>\n",
              "      <td>MODERNA</td>\n",
              "      <td>NaN</td>\n",
              "      <td>1</td>\n",
              "      <td>IM</td>\n",
              "      <td>LA</td>\n",
              "      <td>COVID19 (COVID19 (MODERNA))</td>\n",
              "    </tr>\n",
              "    <tr>\n",
              "      <th>...</th>\n",
              "      <td>...</td>\n",
              "      <td>...</td>\n",
              "      <td>...</td>\n",
              "      <td>...</td>\n",
              "      <td>...</td>\n",
              "      <td>...</td>\n",
              "      <td>...</td>\n",
              "      <td>...</td>\n",
              "      <td>...</td>\n",
              "      <td>...</td>\n",
              "      <td>...</td>\n",
              "      <td>...</td>\n",
              "      <td>...</td>\n",
              "      <td>...</td>\n",
              "      <td>...</td>\n",
              "      <td>...</td>\n",
              "      <td>...</td>\n",
              "      <td>...</td>\n",
              "    </tr>\n",
              "    <tr>\n",
              "      <th>49016</th>\n",
              "      <td>1113920</td>\n",
              "      <td>Nasal discomfort</td>\n",
              "      <td>23.1</td>\n",
              "      <td>Night sweats</td>\n",
              "      <td>23.1</td>\n",
              "      <td>Platelet count</td>\n",
              "      <td>23.1</td>\n",
              "      <td>Platelet count decreased</td>\n",
              "      <td>23.1</td>\n",
              "      <td>Pyrexia</td>\n",
              "      <td>23.1</td>\n",
              "      <td>COVID19</td>\n",
              "      <td>PFIZER\\BIONTECH</td>\n",
              "      <td>Unknown</td>\n",
              "      <td>1</td>\n",
              "      <td>NaN</td>\n",
              "      <td>NaN</td>\n",
              "      <td>COVID19 (COVID19 (PFIZER-BIONTECH))</td>\n",
              "    </tr>\n",
              "    <tr>\n",
              "      <th>49017</th>\n",
              "      <td>1113920</td>\n",
              "      <td>Rash</td>\n",
              "      <td>23.1</td>\n",
              "      <td>SARS-CoV-2 test</td>\n",
              "      <td>23.1</td>\n",
              "      <td>No symptom</td>\n",
              "      <td>NaN</td>\n",
              "      <td>No symptom</td>\n",
              "      <td>NaN</td>\n",
              "      <td>No symptom</td>\n",
              "      <td>NaN</td>\n",
              "      <td>COVID19</td>\n",
              "      <td>PFIZER\\BIONTECH</td>\n",
              "      <td>Unknown</td>\n",
              "      <td>1</td>\n",
              "      <td>NaN</td>\n",
              "      <td>NaN</td>\n",
              "      <td>COVID19 (COVID19 (PFIZER-BIONTECH))</td>\n",
              "    </tr>\n",
              "    <tr>\n",
              "      <th>49018</th>\n",
              "      <td>1113963</td>\n",
              "      <td>Haemophagocytic lymphohistiocytosis</td>\n",
              "      <td>23.1</td>\n",
              "      <td>SARS-CoV-2 test</td>\n",
              "      <td>23.1</td>\n",
              "      <td>No symptom</td>\n",
              "      <td>NaN</td>\n",
              "      <td>No symptom</td>\n",
              "      <td>NaN</td>\n",
              "      <td>No symptom</td>\n",
              "      <td>NaN</td>\n",
              "      <td>COVID19</td>\n",
              "      <td>PFIZER\\BIONTECH</td>\n",
              "      <td>EL9264</td>\n",
              "      <td>2</td>\n",
              "      <td>NaN</td>\n",
              "      <td>NaN</td>\n",
              "      <td>COVID19 (COVID19 (PFIZER-BIONTECH))</td>\n",
              "    </tr>\n",
              "    <tr>\n",
              "      <th>49019</th>\n",
              "      <td>1115045</td>\n",
              "      <td>Death</td>\n",
              "      <td>23.1</td>\n",
              "      <td>No symptom</td>\n",
              "      <td>NaN</td>\n",
              "      <td>No symptom</td>\n",
              "      <td>NaN</td>\n",
              "      <td>No symptom</td>\n",
              "      <td>NaN</td>\n",
              "      <td>No symptom</td>\n",
              "      <td>NaN</td>\n",
              "      <td>COVID19</td>\n",
              "      <td>MODERNA</td>\n",
              "      <td>NaN</td>\n",
              "      <td>2</td>\n",
              "      <td>OT</td>\n",
              "      <td>NaN</td>\n",
              "      <td>COVID19 (COVID19 (MODERNA))</td>\n",
              "    </tr>\n",
              "    <tr>\n",
              "      <th>49020</th>\n",
              "      <td>1115348</td>\n",
              "      <td>Death</td>\n",
              "      <td>23.1</td>\n",
              "      <td>No symptom</td>\n",
              "      <td>NaN</td>\n",
              "      <td>No symptom</td>\n",
              "      <td>NaN</td>\n",
              "      <td>No symptom</td>\n",
              "      <td>NaN</td>\n",
              "      <td>No symptom</td>\n",
              "      <td>NaN</td>\n",
              "      <td>COVID19</td>\n",
              "      <td>MODERNA</td>\n",
              "      <td>026A21A</td>\n",
              "      <td>1</td>\n",
              "      <td>OT</td>\n",
              "      <td>LA</td>\n",
              "      <td>COVID19 (COVID19 (MODERNA))</td>\n",
              "    </tr>\n",
              "  </tbody>\n",
              "</table>\n",
              "<p>46790 rows × 18 columns</p>\n",
              "</div>"
            ],
            "text/plain": [
              "       VAERS_ID  ...                             VAX_NAME\n",
              "0        916600  ...          COVID19 (COVID19 (MODERNA))\n",
              "1        916601  ...          COVID19 (COVID19 (MODERNA))\n",
              "2        916602  ...  COVID19 (COVID19 (PFIZER-BIONTECH))\n",
              "3        916603  ...          COVID19 (COVID19 (MODERNA))\n",
              "4        916604  ...          COVID19 (COVID19 (MODERNA))\n",
              "...         ...  ...                                  ...\n",
              "49016   1113920  ...  COVID19 (COVID19 (PFIZER-BIONTECH))\n",
              "49017   1113920  ...  COVID19 (COVID19 (PFIZER-BIONTECH))\n",
              "49018   1113963  ...  COVID19 (COVID19 (PFIZER-BIONTECH))\n",
              "49019   1115045  ...          COVID19 (COVID19 (MODERNA))\n",
              "49020   1115348  ...          COVID19 (COVID19 (MODERNA))\n",
              "\n",
              "[46790 rows x 18 columns]"
            ]
          },
          "metadata": {
            "tags": []
          },
          "execution_count": 197
        }
      ]
    },
    {
      "cell_type": "code",
      "metadata": {
        "id": "gBqDhn8PVa0u",
        "colab": {
          "base_uri": "https://localhost:8080/"
        },
        "outputId": "86b716b2-3f41-47ed-d62a-6cbb09009ab4"
      },
      "source": [
        "vax_df.drop(columns=['VAERS_ID', 'VAX_LOT',\t'VAX_DOSE_SERIES',\t'VAX_ROUTE',\t'VAX_SITE',\t'VAX_NAME', 'VAX_TYPE', \\\n",
        "                     'SYMPTOMVERSION1', 'SYMPTOMVERSION2', 'SYMPTOMVERSION3', 'SYMPTOMVERSION4', 'SYMPTOMVERSION5'], inplace=True)\n"
      ],
      "execution_count": 198,
      "outputs": [
        {
          "output_type": "stream",
          "text": [
            "/usr/local/lib/python3.7/dist-packages/pandas/core/frame.py:4174: SettingWithCopyWarning:\n",
            "\n",
            "\n",
            "A value is trying to be set on a copy of a slice from a DataFrame\n",
            "\n",
            "See the caveats in the documentation: https://pandas.pydata.org/pandas-docs/stable/user_guide/indexing.html#returning-a-view-versus-a-copy\n",
            "\n"
          ],
          "name": "stderr"
        }
      ]
    },
    {
      "cell_type": "code",
      "metadata": {
        "id": "f2Wst4o2Va6s"
      },
      "source": [
        "vax_df = pd.concat([vax_df, pd.get_dummies(vax_df['VAX_MANU'], prefix='VAX')],axis=1)"
      ],
      "execution_count": 199,
      "outputs": []
    },
    {
      "cell_type": "code",
      "metadata": {
        "colab": {
          "base_uri": "https://localhost:8080/",
          "height": 419
        },
        "id": "6SX-Rm_lbFAM",
        "outputId": "48601cb8-9a3a-470f-992b-9f16afd29c08"
      },
      "source": [
        "vax_df"
      ],
      "execution_count": 200,
      "outputs": [
        {
          "output_type": "execute_result",
          "data": {
            "text/html": [
              "<div>\n",
              "<style scoped>\n",
              "    .dataframe tbody tr th:only-of-type {\n",
              "        vertical-align: middle;\n",
              "    }\n",
              "\n",
              "    .dataframe tbody tr th {\n",
              "        vertical-align: top;\n",
              "    }\n",
              "\n",
              "    .dataframe thead th {\n",
              "        text-align: right;\n",
              "    }\n",
              "</style>\n",
              "<table border=\"1\" class=\"dataframe\">\n",
              "  <thead>\n",
              "    <tr style=\"text-align: right;\">\n",
              "      <th></th>\n",
              "      <th>SYMPTOM1</th>\n",
              "      <th>SYMPTOM2</th>\n",
              "      <th>SYMPTOM3</th>\n",
              "      <th>SYMPTOM4</th>\n",
              "      <th>SYMPTOM5</th>\n",
              "      <th>VAX_MANU</th>\n",
              "      <th>VAX_MODERNA</th>\n",
              "      <th>VAX_PFIZER\\BIONTECH</th>\n",
              "    </tr>\n",
              "  </thead>\n",
              "  <tbody>\n",
              "    <tr>\n",
              "      <th>0</th>\n",
              "      <td>Dysphagia</td>\n",
              "      <td>Epiglottitis</td>\n",
              "      <td>No symptom</td>\n",
              "      <td>No symptom</td>\n",
              "      <td>No symptom</td>\n",
              "      <td>MODERNA</td>\n",
              "      <td>1</td>\n",
              "      <td>0</td>\n",
              "    </tr>\n",
              "    <tr>\n",
              "      <th>1</th>\n",
              "      <td>Anxiety</td>\n",
              "      <td>Dyspnoea</td>\n",
              "      <td>No symptom</td>\n",
              "      <td>No symptom</td>\n",
              "      <td>No symptom</td>\n",
              "      <td>MODERNA</td>\n",
              "      <td>1</td>\n",
              "      <td>0</td>\n",
              "    </tr>\n",
              "    <tr>\n",
              "      <th>2</th>\n",
              "      <td>Chest discomfort</td>\n",
              "      <td>Dysphagia</td>\n",
              "      <td>Pain in extremity</td>\n",
              "      <td>Visual impairment</td>\n",
              "      <td>No symptom</td>\n",
              "      <td>PFIZER\\BIONTECH</td>\n",
              "      <td>0</td>\n",
              "      <td>1</td>\n",
              "    </tr>\n",
              "    <tr>\n",
              "      <th>3</th>\n",
              "      <td>Dizziness</td>\n",
              "      <td>Fatigue</td>\n",
              "      <td>Mobility decreased</td>\n",
              "      <td>No symptom</td>\n",
              "      <td>No symptom</td>\n",
              "      <td>MODERNA</td>\n",
              "      <td>1</td>\n",
              "      <td>0</td>\n",
              "    </tr>\n",
              "    <tr>\n",
              "      <th>4</th>\n",
              "      <td>Injection site erythema</td>\n",
              "      <td>Injection site pruritus</td>\n",
              "      <td>Injection site swelling</td>\n",
              "      <td>Injection site warmth</td>\n",
              "      <td>No symptom</td>\n",
              "      <td>MODERNA</td>\n",
              "      <td>1</td>\n",
              "      <td>0</td>\n",
              "    </tr>\n",
              "    <tr>\n",
              "      <th>...</th>\n",
              "      <td>...</td>\n",
              "      <td>...</td>\n",
              "      <td>...</td>\n",
              "      <td>...</td>\n",
              "      <td>...</td>\n",
              "      <td>...</td>\n",
              "      <td>...</td>\n",
              "      <td>...</td>\n",
              "    </tr>\n",
              "    <tr>\n",
              "      <th>49016</th>\n",
              "      <td>Nasal discomfort</td>\n",
              "      <td>Night sweats</td>\n",
              "      <td>Platelet count</td>\n",
              "      <td>Platelet count decreased</td>\n",
              "      <td>Pyrexia</td>\n",
              "      <td>PFIZER\\BIONTECH</td>\n",
              "      <td>0</td>\n",
              "      <td>1</td>\n",
              "    </tr>\n",
              "    <tr>\n",
              "      <th>49017</th>\n",
              "      <td>Rash</td>\n",
              "      <td>SARS-CoV-2 test</td>\n",
              "      <td>No symptom</td>\n",
              "      <td>No symptom</td>\n",
              "      <td>No symptom</td>\n",
              "      <td>PFIZER\\BIONTECH</td>\n",
              "      <td>0</td>\n",
              "      <td>1</td>\n",
              "    </tr>\n",
              "    <tr>\n",
              "      <th>49018</th>\n",
              "      <td>Haemophagocytic lymphohistiocytosis</td>\n",
              "      <td>SARS-CoV-2 test</td>\n",
              "      <td>No symptom</td>\n",
              "      <td>No symptom</td>\n",
              "      <td>No symptom</td>\n",
              "      <td>PFIZER\\BIONTECH</td>\n",
              "      <td>0</td>\n",
              "      <td>1</td>\n",
              "    </tr>\n",
              "    <tr>\n",
              "      <th>49019</th>\n",
              "      <td>Death</td>\n",
              "      <td>No symptom</td>\n",
              "      <td>No symptom</td>\n",
              "      <td>No symptom</td>\n",
              "      <td>No symptom</td>\n",
              "      <td>MODERNA</td>\n",
              "      <td>1</td>\n",
              "      <td>0</td>\n",
              "    </tr>\n",
              "    <tr>\n",
              "      <th>49020</th>\n",
              "      <td>Death</td>\n",
              "      <td>No symptom</td>\n",
              "      <td>No symptom</td>\n",
              "      <td>No symptom</td>\n",
              "      <td>No symptom</td>\n",
              "      <td>MODERNA</td>\n",
              "      <td>1</td>\n",
              "      <td>0</td>\n",
              "    </tr>\n",
              "  </tbody>\n",
              "</table>\n",
              "<p>46790 rows × 8 columns</p>\n",
              "</div>"
            ],
            "text/plain": [
              "                                  SYMPTOM1  ... VAX_PFIZER\\BIONTECH\n",
              "0                                Dysphagia  ...                   0\n",
              "1                                  Anxiety  ...                   0\n",
              "2                         Chest discomfort  ...                   1\n",
              "3                                Dizziness  ...                   0\n",
              "4                  Injection site erythema  ...                   0\n",
              "...                                    ...  ...                 ...\n",
              "49016                     Nasal discomfort  ...                   1\n",
              "49017                                 Rash  ...                   1\n",
              "49018  Haemophagocytic lymphohistiocytosis  ...                   1\n",
              "49019                                Death  ...                   0\n",
              "49020                                Death  ...                   0\n",
              "\n",
              "[46790 rows x 8 columns]"
            ]
          },
          "metadata": {
            "tags": []
          },
          "execution_count": 200
        }
      ]
    },
    {
      "cell_type": "code",
      "metadata": {
        "colab": {
          "base_uri": "https://localhost:8080/",
          "height": 419
        },
        "id": "qoWRi7kEVa9z",
        "outputId": "ebaecf32-f12a-4e9b-f17d-77d5a88db1ae"
      },
      "source": [
        "vax_df.drop(columns='VAX_MANU')"
      ],
      "execution_count": 201,
      "outputs": [
        {
          "output_type": "execute_result",
          "data": {
            "text/html": [
              "<div>\n",
              "<style scoped>\n",
              "    .dataframe tbody tr th:only-of-type {\n",
              "        vertical-align: middle;\n",
              "    }\n",
              "\n",
              "    .dataframe tbody tr th {\n",
              "        vertical-align: top;\n",
              "    }\n",
              "\n",
              "    .dataframe thead th {\n",
              "        text-align: right;\n",
              "    }\n",
              "</style>\n",
              "<table border=\"1\" class=\"dataframe\">\n",
              "  <thead>\n",
              "    <tr style=\"text-align: right;\">\n",
              "      <th></th>\n",
              "      <th>SYMPTOM1</th>\n",
              "      <th>SYMPTOM2</th>\n",
              "      <th>SYMPTOM3</th>\n",
              "      <th>SYMPTOM4</th>\n",
              "      <th>SYMPTOM5</th>\n",
              "      <th>VAX_MODERNA</th>\n",
              "      <th>VAX_PFIZER\\BIONTECH</th>\n",
              "    </tr>\n",
              "  </thead>\n",
              "  <tbody>\n",
              "    <tr>\n",
              "      <th>0</th>\n",
              "      <td>Dysphagia</td>\n",
              "      <td>Epiglottitis</td>\n",
              "      <td>No symptom</td>\n",
              "      <td>No symptom</td>\n",
              "      <td>No symptom</td>\n",
              "      <td>1</td>\n",
              "      <td>0</td>\n",
              "    </tr>\n",
              "    <tr>\n",
              "      <th>1</th>\n",
              "      <td>Anxiety</td>\n",
              "      <td>Dyspnoea</td>\n",
              "      <td>No symptom</td>\n",
              "      <td>No symptom</td>\n",
              "      <td>No symptom</td>\n",
              "      <td>1</td>\n",
              "      <td>0</td>\n",
              "    </tr>\n",
              "    <tr>\n",
              "      <th>2</th>\n",
              "      <td>Chest discomfort</td>\n",
              "      <td>Dysphagia</td>\n",
              "      <td>Pain in extremity</td>\n",
              "      <td>Visual impairment</td>\n",
              "      <td>No symptom</td>\n",
              "      <td>0</td>\n",
              "      <td>1</td>\n",
              "    </tr>\n",
              "    <tr>\n",
              "      <th>3</th>\n",
              "      <td>Dizziness</td>\n",
              "      <td>Fatigue</td>\n",
              "      <td>Mobility decreased</td>\n",
              "      <td>No symptom</td>\n",
              "      <td>No symptom</td>\n",
              "      <td>1</td>\n",
              "      <td>0</td>\n",
              "    </tr>\n",
              "    <tr>\n",
              "      <th>4</th>\n",
              "      <td>Injection site erythema</td>\n",
              "      <td>Injection site pruritus</td>\n",
              "      <td>Injection site swelling</td>\n",
              "      <td>Injection site warmth</td>\n",
              "      <td>No symptom</td>\n",
              "      <td>1</td>\n",
              "      <td>0</td>\n",
              "    </tr>\n",
              "    <tr>\n",
              "      <th>...</th>\n",
              "      <td>...</td>\n",
              "      <td>...</td>\n",
              "      <td>...</td>\n",
              "      <td>...</td>\n",
              "      <td>...</td>\n",
              "      <td>...</td>\n",
              "      <td>...</td>\n",
              "    </tr>\n",
              "    <tr>\n",
              "      <th>49016</th>\n",
              "      <td>Nasal discomfort</td>\n",
              "      <td>Night sweats</td>\n",
              "      <td>Platelet count</td>\n",
              "      <td>Platelet count decreased</td>\n",
              "      <td>Pyrexia</td>\n",
              "      <td>0</td>\n",
              "      <td>1</td>\n",
              "    </tr>\n",
              "    <tr>\n",
              "      <th>49017</th>\n",
              "      <td>Rash</td>\n",
              "      <td>SARS-CoV-2 test</td>\n",
              "      <td>No symptom</td>\n",
              "      <td>No symptom</td>\n",
              "      <td>No symptom</td>\n",
              "      <td>0</td>\n",
              "      <td>1</td>\n",
              "    </tr>\n",
              "    <tr>\n",
              "      <th>49018</th>\n",
              "      <td>Haemophagocytic lymphohistiocytosis</td>\n",
              "      <td>SARS-CoV-2 test</td>\n",
              "      <td>No symptom</td>\n",
              "      <td>No symptom</td>\n",
              "      <td>No symptom</td>\n",
              "      <td>0</td>\n",
              "      <td>1</td>\n",
              "    </tr>\n",
              "    <tr>\n",
              "      <th>49019</th>\n",
              "      <td>Death</td>\n",
              "      <td>No symptom</td>\n",
              "      <td>No symptom</td>\n",
              "      <td>No symptom</td>\n",
              "      <td>No symptom</td>\n",
              "      <td>1</td>\n",
              "      <td>0</td>\n",
              "    </tr>\n",
              "    <tr>\n",
              "      <th>49020</th>\n",
              "      <td>Death</td>\n",
              "      <td>No symptom</td>\n",
              "      <td>No symptom</td>\n",
              "      <td>No symptom</td>\n",
              "      <td>No symptom</td>\n",
              "      <td>1</td>\n",
              "      <td>0</td>\n",
              "    </tr>\n",
              "  </tbody>\n",
              "</table>\n",
              "<p>46790 rows × 7 columns</p>\n",
              "</div>"
            ],
            "text/plain": [
              "                                  SYMPTOM1  ... VAX_PFIZER\\BIONTECH\n",
              "0                                Dysphagia  ...                   0\n",
              "1                                  Anxiety  ...                   0\n",
              "2                         Chest discomfort  ...                   1\n",
              "3                                Dizziness  ...                   0\n",
              "4                  Injection site erythema  ...                   0\n",
              "...                                    ...  ...                 ...\n",
              "49016                     Nasal discomfort  ...                   1\n",
              "49017                                 Rash  ...                   1\n",
              "49018  Haemophagocytic lymphohistiocytosis  ...                   1\n",
              "49019                                Death  ...                   0\n",
              "49020                                Death  ...                   0\n",
              "\n",
              "[46790 rows x 7 columns]"
            ]
          },
          "metadata": {
            "tags": []
          },
          "execution_count": 201
        }
      ]
    },
    {
      "cell_type": "code",
      "metadata": {
        "colab": {
          "base_uri": "https://localhost:8080/",
          "height": 419
        },
        "id": "CVUMVa2tf6LD",
        "outputId": "6b8827d6-f041-47ec-a863-a8221c5e285a"
      },
      "source": [
        "symptom_df = pd.DataFrame()\n",
        "symptom_df[\"SYMPTOM\"] = vax_df['SYMPTOM1']\n",
        "symptom_df[\"VAX_MODERNA\"] = vax_df['VAX_MODERNA']\n",
        "symptom_df[\"VAX_PFIZER\\BIONTECH\"] = vax_df['VAX_PFIZER\\BIONTECH']\n",
        "\n",
        "symptom2_df = pd.DataFrame()\n",
        "symptom2_df[\"SYMPTOM\"] = vax_df['SYMPTOM2']\n",
        "symptom2_df[\"VAX_MODERNA\"] = vax_df['VAX_MODERNA']\n",
        "symptom2_df[\"VAX_PFIZER\\BIONTECH\"] = vax_df['VAX_PFIZER\\BIONTECH']\n",
        "\n",
        "symptom3_df = pd.DataFrame()\n",
        "symptom3_df[\"SYMPTOM\"] = vax_df['SYMPTOM3']\n",
        "symptom3_df[\"VAX_MODERNA\"] = vax_df['VAX_MODERNA']\n",
        "symptom3_df[\"VAX_PFIZER\\BIONTECH\"] = vax_df['VAX_PFIZER\\BIONTECH']\n",
        "\n",
        "symptom_df = symptom_df.append(symptom2_df)\n",
        "symptom_df = symptom_df.append(symptom3_df)\n",
        "symptom_df"
      ],
      "execution_count": 202,
      "outputs": [
        {
          "output_type": "execute_result",
          "data": {
            "text/html": [
              "<div>\n",
              "<style scoped>\n",
              "    .dataframe tbody tr th:only-of-type {\n",
              "        vertical-align: middle;\n",
              "    }\n",
              "\n",
              "    .dataframe tbody tr th {\n",
              "        vertical-align: top;\n",
              "    }\n",
              "\n",
              "    .dataframe thead th {\n",
              "        text-align: right;\n",
              "    }\n",
              "</style>\n",
              "<table border=\"1\" class=\"dataframe\">\n",
              "  <thead>\n",
              "    <tr style=\"text-align: right;\">\n",
              "      <th></th>\n",
              "      <th>SYMPTOM</th>\n",
              "      <th>VAX_MODERNA</th>\n",
              "      <th>VAX_PFIZER\\BIONTECH</th>\n",
              "    </tr>\n",
              "  </thead>\n",
              "  <tbody>\n",
              "    <tr>\n",
              "      <th>0</th>\n",
              "      <td>Dysphagia</td>\n",
              "      <td>1</td>\n",
              "      <td>0</td>\n",
              "    </tr>\n",
              "    <tr>\n",
              "      <th>1</th>\n",
              "      <td>Anxiety</td>\n",
              "      <td>1</td>\n",
              "      <td>0</td>\n",
              "    </tr>\n",
              "    <tr>\n",
              "      <th>2</th>\n",
              "      <td>Chest discomfort</td>\n",
              "      <td>0</td>\n",
              "      <td>1</td>\n",
              "    </tr>\n",
              "    <tr>\n",
              "      <th>3</th>\n",
              "      <td>Dizziness</td>\n",
              "      <td>1</td>\n",
              "      <td>0</td>\n",
              "    </tr>\n",
              "    <tr>\n",
              "      <th>4</th>\n",
              "      <td>Injection site erythema</td>\n",
              "      <td>1</td>\n",
              "      <td>0</td>\n",
              "    </tr>\n",
              "    <tr>\n",
              "      <th>...</th>\n",
              "      <td>...</td>\n",
              "      <td>...</td>\n",
              "      <td>...</td>\n",
              "    </tr>\n",
              "    <tr>\n",
              "      <th>49016</th>\n",
              "      <td>Platelet count</td>\n",
              "      <td>0</td>\n",
              "      <td>1</td>\n",
              "    </tr>\n",
              "    <tr>\n",
              "      <th>49017</th>\n",
              "      <td>No symptom</td>\n",
              "      <td>0</td>\n",
              "      <td>1</td>\n",
              "    </tr>\n",
              "    <tr>\n",
              "      <th>49018</th>\n",
              "      <td>No symptom</td>\n",
              "      <td>0</td>\n",
              "      <td>1</td>\n",
              "    </tr>\n",
              "    <tr>\n",
              "      <th>49019</th>\n",
              "      <td>No symptom</td>\n",
              "      <td>1</td>\n",
              "      <td>0</td>\n",
              "    </tr>\n",
              "    <tr>\n",
              "      <th>49020</th>\n",
              "      <td>No symptom</td>\n",
              "      <td>1</td>\n",
              "      <td>0</td>\n",
              "    </tr>\n",
              "  </tbody>\n",
              "</table>\n",
              "<p>140370 rows × 3 columns</p>\n",
              "</div>"
            ],
            "text/plain": [
              "                       SYMPTOM  VAX_MODERNA  VAX_PFIZER\\BIONTECH\n",
              "0                    Dysphagia            1                    0\n",
              "1                      Anxiety            1                    0\n",
              "2             Chest discomfort            0                    1\n",
              "3                    Dizziness            1                    0\n",
              "4      Injection site erythema            1                    0\n",
              "...                        ...          ...                  ...\n",
              "49016           Platelet count            0                    1\n",
              "49017               No symptom            0                    1\n",
              "49018               No symptom            0                    1\n",
              "49019               No symptom            1                    0\n",
              "49020               No symptom            1                    0\n",
              "\n",
              "[140370 rows x 3 columns]"
            ]
          },
          "metadata": {
            "tags": []
          },
          "execution_count": 202
        }
      ]
    },
    {
      "cell_type": "code",
      "metadata": {
        "id": "ZD-X4HBeVbBx"
      },
      "source": [
        "symptom_df = symptom_df.groupby(['SYMPTOM']).sum().sort_values(['VAX_MODERNA','VAX_PFIZER\\BIONTECH'],ascending=False)\n",
        "symptom_df = symptom_df[:20].reset_index()\n",
        "symptom_df[\"COUNT\"] = symptom_df.sum(axis=1)\n",
        "symptom_df.drop(index=0, inplace=True)"
      ],
      "execution_count": 221,
      "outputs": []
    },
    {
      "cell_type": "code",
      "metadata": {
        "colab": {
          "base_uri": "https://localhost:8080/",
          "height": 638
        },
        "id": "Yh2M3LTXlaow",
        "outputId": "36f62cf1-739b-478b-90ff-acba9bf99e50"
      },
      "source": [
        "symptom_df"
      ],
      "execution_count": 204,
      "outputs": [
        {
          "output_type": "execute_result",
          "data": {
            "text/html": [
              "<div>\n",
              "<style scoped>\n",
              "    .dataframe tbody tr th:only-of-type {\n",
              "        vertical-align: middle;\n",
              "    }\n",
              "\n",
              "    .dataframe tbody tr th {\n",
              "        vertical-align: top;\n",
              "    }\n",
              "\n",
              "    .dataframe thead th {\n",
              "        text-align: right;\n",
              "    }\n",
              "</style>\n",
              "<table border=\"1\" class=\"dataframe\">\n",
              "  <thead>\n",
              "    <tr style=\"text-align: right;\">\n",
              "      <th></th>\n",
              "      <th>SYMPTOM</th>\n",
              "      <th>VAX_MODERNA</th>\n",
              "      <th>VAX_PFIZER\\BIONTECH</th>\n",
              "      <th>COUNT</th>\n",
              "    </tr>\n",
              "  </thead>\n",
              "  <tbody>\n",
              "    <tr>\n",
              "      <th>1</th>\n",
              "      <td>Headache</td>\n",
              "      <td>2479.0</td>\n",
              "      <td>2624.0</td>\n",
              "      <td>5103.0</td>\n",
              "    </tr>\n",
              "    <tr>\n",
              "      <th>2</th>\n",
              "      <td>Chills</td>\n",
              "      <td>2357.0</td>\n",
              "      <td>2474.0</td>\n",
              "      <td>4831.0</td>\n",
              "    </tr>\n",
              "    <tr>\n",
              "      <th>3</th>\n",
              "      <td>Fatigue</td>\n",
              "      <td>2004.0</td>\n",
              "      <td>2049.0</td>\n",
              "      <td>4053.0</td>\n",
              "    </tr>\n",
              "    <tr>\n",
              "      <th>4</th>\n",
              "      <td>Injection site erythema</td>\n",
              "      <td>1849.0</td>\n",
              "      <td>204.0</td>\n",
              "      <td>2053.0</td>\n",
              "    </tr>\n",
              "    <tr>\n",
              "      <th>5</th>\n",
              "      <td>Pyrexia</td>\n",
              "      <td>1611.0</td>\n",
              "      <td>1548.0</td>\n",
              "      <td>3159.0</td>\n",
              "    </tr>\n",
              "    <tr>\n",
              "      <th>6</th>\n",
              "      <td>Injection site pain</td>\n",
              "      <td>1412.0</td>\n",
              "      <td>556.0</td>\n",
              "      <td>1968.0</td>\n",
              "    </tr>\n",
              "    <tr>\n",
              "      <th>7</th>\n",
              "      <td>Dizziness</td>\n",
              "      <td>1398.0</td>\n",
              "      <td>1524.0</td>\n",
              "      <td>2922.0</td>\n",
              "    </tr>\n",
              "    <tr>\n",
              "      <th>8</th>\n",
              "      <td>Pain</td>\n",
              "      <td>1304.0</td>\n",
              "      <td>1406.0</td>\n",
              "      <td>2710.0</td>\n",
              "    </tr>\n",
              "    <tr>\n",
              "      <th>9</th>\n",
              "      <td>Nausea</td>\n",
              "      <td>1237.0</td>\n",
              "      <td>1176.0</td>\n",
              "      <td>2413.0</td>\n",
              "    </tr>\n",
              "    <tr>\n",
              "      <th>10</th>\n",
              "      <td>Injection site pruritus</td>\n",
              "      <td>1040.0</td>\n",
              "      <td>83.0</td>\n",
              "      <td>1123.0</td>\n",
              "    </tr>\n",
              "    <tr>\n",
              "      <th>11</th>\n",
              "      <td>Pain in extremity</td>\n",
              "      <td>1009.0</td>\n",
              "      <td>937.0</td>\n",
              "      <td>1946.0</td>\n",
              "    </tr>\n",
              "    <tr>\n",
              "      <th>12</th>\n",
              "      <td>Arthralgia</td>\n",
              "      <td>974.0</td>\n",
              "      <td>1049.0</td>\n",
              "      <td>2023.0</td>\n",
              "    </tr>\n",
              "    <tr>\n",
              "      <th>13</th>\n",
              "      <td>Myalgia</td>\n",
              "      <td>955.0</td>\n",
              "      <td>802.0</td>\n",
              "      <td>1757.0</td>\n",
              "    </tr>\n",
              "    <tr>\n",
              "      <th>14</th>\n",
              "      <td>Injection site swelling</td>\n",
              "      <td>895.0</td>\n",
              "      <td>139.0</td>\n",
              "      <td>1034.0</td>\n",
              "    </tr>\n",
              "    <tr>\n",
              "      <th>15</th>\n",
              "      <td>Erythema</td>\n",
              "      <td>836.0</td>\n",
              "      <td>340.0</td>\n",
              "      <td>1176.0</td>\n",
              "    </tr>\n",
              "    <tr>\n",
              "      <th>16</th>\n",
              "      <td>Death</td>\n",
              "      <td>801.0</td>\n",
              "      <td>705.0</td>\n",
              "      <td>1506.0</td>\n",
              "    </tr>\n",
              "    <tr>\n",
              "      <th>17</th>\n",
              "      <td>Dyspnoea</td>\n",
              "      <td>707.0</td>\n",
              "      <td>845.0</td>\n",
              "      <td>1552.0</td>\n",
              "    </tr>\n",
              "    <tr>\n",
              "      <th>18</th>\n",
              "      <td>Pruritus</td>\n",
              "      <td>705.0</td>\n",
              "      <td>548.0</td>\n",
              "      <td>1253.0</td>\n",
              "    </tr>\n",
              "    <tr>\n",
              "      <th>19</th>\n",
              "      <td>Asthenia</td>\n",
              "      <td>683.0</td>\n",
              "      <td>783.0</td>\n",
              "      <td>1466.0</td>\n",
              "    </tr>\n",
              "  </tbody>\n",
              "</table>\n",
              "</div>"
            ],
            "text/plain": [
              "                    SYMPTOM  VAX_MODERNA  VAX_PFIZER\\BIONTECH   COUNT\n",
              "1                  Headache       2479.0               2624.0  5103.0\n",
              "2                    Chills       2357.0               2474.0  4831.0\n",
              "3                   Fatigue       2004.0               2049.0  4053.0\n",
              "4   Injection site erythema       1849.0                204.0  2053.0\n",
              "5                   Pyrexia       1611.0               1548.0  3159.0\n",
              "6       Injection site pain       1412.0                556.0  1968.0\n",
              "7                 Dizziness       1398.0               1524.0  2922.0\n",
              "8                      Pain       1304.0               1406.0  2710.0\n",
              "9                    Nausea       1237.0               1176.0  2413.0\n",
              "10  Injection site pruritus       1040.0                 83.0  1123.0\n",
              "11        Pain in extremity       1009.0                937.0  1946.0\n",
              "12               Arthralgia        974.0               1049.0  2023.0\n",
              "13                  Myalgia        955.0                802.0  1757.0\n",
              "14  Injection site swelling        895.0                139.0  1034.0\n",
              "15                 Erythema        836.0                340.0  1176.0\n",
              "16                    Death        801.0                705.0  1506.0\n",
              "17                 Dyspnoea        707.0                845.0  1552.0\n",
              "18                 Pruritus        705.0                548.0  1253.0\n",
              "19                 Asthenia        683.0                783.0  1466.0"
            ]
          },
          "metadata": {
            "tags": []
          },
          "execution_count": 204
        }
      ]
    },
    {
      "cell_type": "code",
      "metadata": {
        "colab": {
          "base_uri": "https://localhost:8080/",
          "height": 297
        },
        "id": "xQaJuHz-ppZv",
        "outputId": "87c57c7c-5c5e-4014-9a7c-06aa0ee729a4"
      },
      "source": [
        "x = [1, 2, 3, 4, 5, 6, 7, 8, 9, 10, 11, 12, 13, 14, 15, 16, 17, 18]\n",
        "y = symptom_df['VAX_MODERNA'][:18]\n",
        "y2 = symptom_df['VAX_PFIZER\\BIONTECH'][:18]\n",
        "labels = symptom_df['SYMPTOM'][:18]\n",
        "plt.plot(x, y, marker='o', label='MODERNA')\n",
        "plt.plot(x, y2, marker='o', label='PFIZER')\n",
        "plt.xticks(x, labels, rotation='vertical')\n",
        "plt.ylabel('Count')\n",
        "plt.xlabel('Symptom')\n",
        "plt.tight_layout()\n",
        "plt.legend()\n",
        "plt.show()\n"
      ],
      "execution_count": 226,
      "outputs": [
        {
          "output_type": "display_data",
          "data": {
            "image/png": "[encoded data removed]",
            "text/plain": [
              "<Figure size 432x288 with 1 Axes>"
            ]
          },
          "metadata": {
            "tags": [],
            "needs_background": "light"
          }
        }
      ]
    }
  ]
}