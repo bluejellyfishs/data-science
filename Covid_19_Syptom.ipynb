{
  "nbformat": 4,
  "nbformat_minor": 0,
  "metadata": {
    "colab": {
      "name": "Covid-19-Syptom.ipynb",
      "provenance": []
    },
    "kernelspec": {
      "display_name": "Python 3",
      "name": "python3"
    },
    "language_info": {
      "name": "python"
    }
  },
  "cells": [
    {
      "cell_type": "markdown",
      "metadata": {
        "id": "ieN_iGcjwpCq"
      },
      "source": [
        "# **COVID-19 World Vaccine Adverse Reactions**"
      ]
    },
    {
      "cell_type": "code",
      "metadata": {
        "id": "Iw9zerPywkgm",
        "colab": {
          "base_uri": "https://localhost:8080/"
        },
        "outputId": "9b92757c-8922-4bd2-d2b7-e08f55c593a2"
      },
      "source": [
        "!gdown --id 1R4XBDeHTXdvR-26bkznsAGI8JbvU5H8j"
      ],
      "execution_count": 103,
      "outputs": [
        {
          "output_type": "stream",
          "text": [
            "Downloading...\n",
            "From: https://drive.google.com/uc?id=1R4XBDeHTXdvR-26bkznsAGI8JbvU5H8j\n",
            "To: /content/Vaccine_Adverse_Reactions.zip\n",
            "\r0.00B [00:00, ?B/s]\r8.95MB [00:00, 78.9MB/s]\n"
          ],
          "name": "stdout"
        }
      ]
    },
    {
      "cell_type": "code",
      "metadata": {
        "colab": {
          "base_uri": "https://localhost:8080/"
        },
        "id": "pd3kfZATxl6n",
        "outputId": "043fc364-c2a5-4f2c-b6fb-56a96750bd63"
      },
      "source": [
        "!unzip Vaccine_Adverse_Reactions.zip"
      ],
      "execution_count": 104,
      "outputs": [
        {
          "output_type": "stream",
          "text": [
            "Archive:  Vaccine_Adverse_Reactions.zip\n",
            "replace 2021VAERSDATA.csv? [y]es, [n]o, [A]ll, [N]one, [r]ename: y\n",
            "  inflating: 2021VAERSDATA.csv       \n",
            "replace 2021VAERSSYMPTOMS.csv? [y]es, [n]o, [A]ll, [N]one, [r]ename: y\n",
            "  inflating: 2021VAERSSYMPTOMS.csv   \n",
            "replace 2021VAERSVAX.csv? [y]es, [n]o, [A]ll, [N]one, [r]ename: y\n",
            "  inflating: 2021VAERSVAX.csv        \n"
          ],
          "name": "stdout"
        }
      ]
    },
    {
      "cell_type": "markdown",
      "metadata": {
        "id": "HsmTYZbaxt2B"
      },
      "source": [
        "# Data preprocessing"
      ]
    },
    {
      "cell_type": "code",
      "metadata": {
        "id": "mkjGPV8vxs6U"
      },
      "source": [
        "import numpy as np\n",
        "import pandas as pd\n",
        "import matplotlib.pyplot as plt\n",
        "import seaborn as sns\n",
        "%matplotlib inline"
      ],
      "execution_count": 105,
      "outputs": []
    },
    {
      "cell_type": "code",
      "metadata": {
        "id": "tD8gJxLIxl9S"
      },
      "source": [
        "# df_2021_vaersdata = pd.read_csv('2021VAERSDATA.csv')\n",
        "df_2021_vaerssymptoms = pd.read_csv('2021VAERSSYMPTOMS.csv')\n",
        "df_2021_vaersvax = pd.read_csv('2021VAERSVAX.csv')"
      ],
      "execution_count": 106,
      "outputs": []
    },
    {
      "cell_type": "code",
      "metadata": {
        "id": "U_Ik7v5-xmAe",
        "colab": {
          "base_uri": "https://localhost:8080/",
          "height": 532
        },
        "outputId": "0c9be475-f4e0-43c7-a721-b0ef16229746"
      },
      "source": [
        "df_2021_vaerssymptoms.sample(10)"
      ],
      "execution_count": 107,
      "outputs": [
        {
          "output_type": "execute_result",
          "data": {
            "text/html": [
              "<div>\n",
              "<style scoped>\n",
              "    .dataframe tbody tr th:only-of-type {\n",
              "        vertical-align: middle;\n",
              "    }\n",
              "\n",
              "    .dataframe tbody tr th {\n",
              "        vertical-align: top;\n",
              "    }\n",
              "\n",
              "    .dataframe thead th {\n",
              "        text-align: right;\n",
              "    }\n",
              "</style>\n",
              "<table border=\"1\" class=\"dataframe\">\n",
              "  <thead>\n",
              "    <tr style=\"text-align: right;\">\n",
              "      <th></th>\n",
              "      <th>VAERS_ID</th>\n",
              "      <th>SYMPTOM1</th>\n",
              "      <th>SYMPTOMVERSION1</th>\n",
              "      <th>SYMPTOM2</th>\n",
              "      <th>SYMPTOMVERSION2</th>\n",
              "      <th>SYMPTOM3</th>\n",
              "      <th>SYMPTOMVERSION3</th>\n",
              "      <th>SYMPTOM4</th>\n",
              "      <th>SYMPTOMVERSION4</th>\n",
              "      <th>SYMPTOM5</th>\n",
              "      <th>SYMPTOMVERSION5</th>\n",
              "    </tr>\n",
              "  </thead>\n",
              "  <tbody>\n",
              "    <tr>\n",
              "      <th>15784</th>\n",
              "      <td>930231</td>\n",
              "      <td>Hypoaesthesia</td>\n",
              "      <td>24.0</td>\n",
              "      <td>Paraesthesia</td>\n",
              "      <td>24.0</td>\n",
              "      <td>NaN</td>\n",
              "      <td>NaN</td>\n",
              "      <td>NaN</td>\n",
              "      <td>NaN</td>\n",
              "      <td>NaN</td>\n",
              "      <td>NaN</td>\n",
              "    </tr>\n",
              "    <tr>\n",
              "      <th>20365</th>\n",
              "      <td>933955</td>\n",
              "      <td>Headache</td>\n",
              "      <td>24.0</td>\n",
              "      <td>Pain in extremity</td>\n",
              "      <td>24.0</td>\n",
              "      <td>NaN</td>\n",
              "      <td>NaN</td>\n",
              "      <td>NaN</td>\n",
              "      <td>NaN</td>\n",
              "      <td>NaN</td>\n",
              "      <td>NaN</td>\n",
              "    </tr>\n",
              "    <tr>\n",
              "      <th>36883</th>\n",
              "      <td>1048815</td>\n",
              "      <td>Oedema peripheral</td>\n",
              "      <td>23.1</td>\n",
              "      <td>Pain</td>\n",
              "      <td>23.1</td>\n",
              "      <td>NaN</td>\n",
              "      <td>NaN</td>\n",
              "      <td>NaN</td>\n",
              "      <td>NaN</td>\n",
              "      <td>NaN</td>\n",
              "      <td>NaN</td>\n",
              "    </tr>\n",
              "    <tr>\n",
              "      <th>15900</th>\n",
              "      <td>930325</td>\n",
              "      <td>Fatigue</td>\n",
              "      <td>23.1</td>\n",
              "      <td>Feeling abnormal</td>\n",
              "      <td>23.1</td>\n",
              "      <td>Headache</td>\n",
              "      <td>23.1</td>\n",
              "      <td>Injection site pain</td>\n",
              "      <td>23.1</td>\n",
              "      <td>NaN</td>\n",
              "      <td>NaN</td>\n",
              "    </tr>\n",
              "    <tr>\n",
              "      <th>45401</th>\n",
              "      <td>1084267</td>\n",
              "      <td>Dizziness</td>\n",
              "      <td>24.0</td>\n",
              "      <td>Nausea</td>\n",
              "      <td>24.0</td>\n",
              "      <td>NaN</td>\n",
              "      <td>NaN</td>\n",
              "      <td>NaN</td>\n",
              "      <td>NaN</td>\n",
              "      <td>NaN</td>\n",
              "      <td>NaN</td>\n",
              "    </tr>\n",
              "    <tr>\n",
              "      <th>31517</th>\n",
              "      <td>1023507</td>\n",
              "      <td>Lymphadenopathy</td>\n",
              "      <td>23.1</td>\n",
              "      <td>Nightmare</td>\n",
              "      <td>23.1</td>\n",
              "      <td>Ocular hyperaemia</td>\n",
              "      <td>23.1</td>\n",
              "      <td>Pharyngeal mass</td>\n",
              "      <td>23.1</td>\n",
              "      <td>Polymerase chain reaction</td>\n",
              "      <td>23.1</td>\n",
              "    </tr>\n",
              "    <tr>\n",
              "      <th>23542</th>\n",
              "      <td>953107</td>\n",
              "      <td>Facial paralysis</td>\n",
              "      <td>23.1</td>\n",
              "      <td>Facial paresis</td>\n",
              "      <td>23.1</td>\n",
              "      <td>Paraesthesia</td>\n",
              "      <td>23.1</td>\n",
              "      <td>Paraesthesia oral</td>\n",
              "      <td>23.1</td>\n",
              "      <td>SARS-CoV-2 test negative</td>\n",
              "      <td>23.1</td>\n",
              "    </tr>\n",
              "    <tr>\n",
              "      <th>41096</th>\n",
              "      <td>1062962</td>\n",
              "      <td>White blood cell count increased</td>\n",
              "      <td>23.1</td>\n",
              "      <td>NaN</td>\n",
              "      <td>NaN</td>\n",
              "      <td>NaN</td>\n",
              "      <td>NaN</td>\n",
              "      <td>NaN</td>\n",
              "      <td>NaN</td>\n",
              "      <td>NaN</td>\n",
              "      <td>NaN</td>\n",
              "    </tr>\n",
              "    <tr>\n",
              "      <th>20321</th>\n",
              "      <td>933912</td>\n",
              "      <td>Injection site erythema</td>\n",
              "      <td>24.0</td>\n",
              "      <td>Injection site induration</td>\n",
              "      <td>24.0</td>\n",
              "      <td>Injection site pruritus</td>\n",
              "      <td>24.0</td>\n",
              "      <td>Injection site swelling</td>\n",
              "      <td>24.0</td>\n",
              "      <td>Injection site warmth</td>\n",
              "      <td>24.0</td>\n",
              "    </tr>\n",
              "    <tr>\n",
              "      <th>18238</th>\n",
              "      <td>932199</td>\n",
              "      <td>Pain in extremity</td>\n",
              "      <td>24.0</td>\n",
              "      <td>NaN</td>\n",
              "      <td>NaN</td>\n",
              "      <td>NaN</td>\n",
              "      <td>NaN</td>\n",
              "      <td>NaN</td>\n",
              "      <td>NaN</td>\n",
              "      <td>NaN</td>\n",
              "      <td>NaN</td>\n",
              "    </tr>\n",
              "  </tbody>\n",
              "</table>\n",
              "</div>"
            ],
            "text/plain": [
              "       VAERS_ID  ... SYMPTOMVERSION5\n",
              "15784    930231  ...             NaN\n",
              "20365    933955  ...             NaN\n",
              "36883   1048815  ...             NaN\n",
              "15900    930325  ...             NaN\n",
              "45401   1084267  ...             NaN\n",
              "31517   1023507  ...            23.1\n",
              "23542    953107  ...            23.1\n",
              "41096   1062962  ...             NaN\n",
              "20321    933912  ...            24.0\n",
              "18238    932199  ...             NaN\n",
              "\n",
              "[10 rows x 11 columns]"
            ]
          },
          "metadata": {
            "tags": []
          },
          "execution_count": 107
        }
      ]
    },
    {
      "cell_type": "code",
      "metadata": {
        "id": "1jCTMq5DxmDi",
        "colab": {
          "base_uri": "https://localhost:8080/"
        },
        "outputId": "2cb159c5-126a-4195-aa65-44762f55a8b1"
      },
      "source": [
        "df_2021_vaerssymptoms.info()"
      ],
      "execution_count": 108,
      "outputs": [
        {
          "output_type": "stream",
          "text": [
            "<class 'pandas.core.frame.DataFrame'>\n",
            "RangeIndex: 48110 entries, 0 to 48109\n",
            "Data columns (total 11 columns):\n",
            " #   Column           Non-Null Count  Dtype  \n",
            "---  ------           --------------  -----  \n",
            " 0   VAERS_ID         48110 non-null  int64  \n",
            " 1   SYMPTOM1         48110 non-null  object \n",
            " 2   SYMPTOMVERSION1  48110 non-null  float64\n",
            " 3   SYMPTOM2         39351 non-null  object \n",
            " 4   SYMPTOMVERSION2  39351 non-null  float64\n",
            " 5   SYMPTOM3         31542 non-null  object \n",
            " 6   SYMPTOMVERSION3  31542 non-null  float64\n",
            " 7   SYMPTOM4         24444 non-null  object \n",
            " 8   SYMPTOMVERSION4  24444 non-null  float64\n",
            " 9   SYMPTOM5         18560 non-null  object \n",
            " 10  SYMPTOMVERSION5  18560 non-null  float64\n",
            "dtypes: float64(5), int64(1), object(5)\n",
            "memory usage: 4.0+ MB\n"
          ],
          "name": "stdout"
        }
      ]
    },
    {
      "cell_type": "code",
      "metadata": {
        "id": "FZPZ-O4jBwkB",
        "colab": {
          "base_uri": "https://localhost:8080/",
          "height": 359
        },
        "outputId": "6ece91ae-cbd0-471f-ad72-08b33865b8a4"
      },
      "source": [
        "df_2021_vaersvax.sample(10)"
      ],
      "execution_count": 109,
      "outputs": [
        {
          "output_type": "execute_result",
          "data": {
            "text/html": [
              "<div>\n",
              "<style scoped>\n",
              "    .dataframe tbody tr th:only-of-type {\n",
              "        vertical-align: middle;\n",
              "    }\n",
              "\n",
              "    .dataframe tbody tr th {\n",
              "        vertical-align: top;\n",
              "    }\n",
              "\n",
              "    .dataframe thead th {\n",
              "        text-align: right;\n",
              "    }\n",
              "</style>\n",
              "<table border=\"1\" class=\"dataframe\">\n",
              "  <thead>\n",
              "    <tr style=\"text-align: right;\">\n",
              "      <th></th>\n",
              "      <th>VAERS_ID</th>\n",
              "      <th>VAX_TYPE</th>\n",
              "      <th>VAX_MANU</th>\n",
              "      <th>VAX_LOT</th>\n",
              "      <th>VAX_DOSE_SERIES</th>\n",
              "      <th>VAX_ROUTE</th>\n",
              "      <th>VAX_SITE</th>\n",
              "      <th>VAX_NAME</th>\n",
              "    </tr>\n",
              "  </thead>\n",
              "  <tbody>\n",
              "    <tr>\n",
              "      <th>20860</th>\n",
              "      <td>994254</td>\n",
              "      <td>COVID19</td>\n",
              "      <td>PFIZER\\BIONTECH</td>\n",
              "      <td>EL3247</td>\n",
              "      <td>1</td>\n",
              "      <td>IM</td>\n",
              "      <td>LA</td>\n",
              "      <td>COVID19 (COVID19 (PFIZER-BIONTECH))</td>\n",
              "    </tr>\n",
              "    <tr>\n",
              "      <th>34424</th>\n",
              "      <td>1106186</td>\n",
              "      <td>COVID19</td>\n",
              "      <td>MODERNA</td>\n",
              "      <td>013M20A</td>\n",
              "      <td>1</td>\n",
              "      <td>OT</td>\n",
              "      <td>LA</td>\n",
              "      <td>COVID19 (COVID19 (MODERNA))</td>\n",
              "    </tr>\n",
              "    <tr>\n",
              "      <th>24168</th>\n",
              "      <td>1040170</td>\n",
              "      <td>COVID19</td>\n",
              "      <td>MODERNA</td>\n",
              "      <td>NaN</td>\n",
              "      <td>1</td>\n",
              "      <td>IM</td>\n",
              "      <td>NaN</td>\n",
              "      <td>COVID19 (COVID19 (MODERNA))</td>\n",
              "    </tr>\n",
              "    <tr>\n",
              "      <th>15357</th>\n",
              "      <td>933841</td>\n",
              "      <td>COVID19</td>\n",
              "      <td>PFIZER\\BIONTECH</td>\n",
              "      <td>EL0140</td>\n",
              "      <td>1</td>\n",
              "      <td>IM</td>\n",
              "      <td>RA</td>\n",
              "      <td>COVID19 (COVID19 (PFIZER-BIONTECH))</td>\n",
              "    </tr>\n",
              "    <tr>\n",
              "      <th>25347</th>\n",
              "      <td>1046480</td>\n",
              "      <td>COVID19</td>\n",
              "      <td>PFIZER\\BIONTECH</td>\n",
              "      <td>NaN</td>\n",
              "      <td>UNK</td>\n",
              "      <td>IM</td>\n",
              "      <td>LA</td>\n",
              "      <td>COVID19 (COVID19 (PFIZER-BIONTECH))</td>\n",
              "    </tr>\n",
              "    <tr>\n",
              "      <th>28449</th>\n",
              "      <td>1051569</td>\n",
              "      <td>COVID19</td>\n",
              "      <td>PFIZER\\BIONTECH</td>\n",
              "      <td>EN6200</td>\n",
              "      <td>1</td>\n",
              "      <td>IM</td>\n",
              "      <td>LA</td>\n",
              "      <td>COVID19 (COVID19 (PFIZER-BIONTECH))</td>\n",
              "    </tr>\n",
              "    <tr>\n",
              "      <th>22061</th>\n",
              "      <td>1011025</td>\n",
              "      <td>COVID19</td>\n",
              "      <td>PFIZER\\BIONTECH</td>\n",
              "      <td>NaN</td>\n",
              "      <td>UNK</td>\n",
              "      <td>NaN</td>\n",
              "      <td>NaN</td>\n",
              "      <td>COVID19 (COVID19 (PFIZER-BIONTECH))</td>\n",
              "    </tr>\n",
              "    <tr>\n",
              "      <th>10223</th>\n",
              "      <td>928279</td>\n",
              "      <td>COVID19</td>\n",
              "      <td>MODERNA</td>\n",
              "      <td>NaN</td>\n",
              "      <td>UNK</td>\n",
              "      <td>NaN</td>\n",
              "      <td>NaN</td>\n",
              "      <td>COVID19 (COVID19 (MODERNA))</td>\n",
              "    </tr>\n",
              "    <tr>\n",
              "      <th>15471</th>\n",
              "      <td>933965</td>\n",
              "      <td>COVID19</td>\n",
              "      <td>MODERNA</td>\n",
              "      <td>NaN</td>\n",
              "      <td>UNK</td>\n",
              "      <td>IM</td>\n",
              "      <td>LA</td>\n",
              "      <td>COVID19 (COVID19 (MODERNA))</td>\n",
              "    </tr>\n",
              "    <tr>\n",
              "      <th>32642</th>\n",
              "      <td>1083726</td>\n",
              "      <td>COVID19</td>\n",
              "      <td>MODERNA</td>\n",
              "      <td>010A21A</td>\n",
              "      <td>1</td>\n",
              "      <td>OT</td>\n",
              "      <td>NaN</td>\n",
              "      <td>COVID19 (COVID19 (MODERNA))</td>\n",
              "    </tr>\n",
              "  </tbody>\n",
              "</table>\n",
              "</div>"
            ],
            "text/plain": [
              "       VAERS_ID VAX_TYPE  ... VAX_SITE                             VAX_NAME\n",
              "20860    994254  COVID19  ...       LA  COVID19 (COVID19 (PFIZER-BIONTECH))\n",
              "34424   1106186  COVID19  ...       LA          COVID19 (COVID19 (MODERNA))\n",
              "24168   1040170  COVID19  ...      NaN          COVID19 (COVID19 (MODERNA))\n",
              "15357    933841  COVID19  ...       RA  COVID19 (COVID19 (PFIZER-BIONTECH))\n",
              "25347   1046480  COVID19  ...       LA  COVID19 (COVID19 (PFIZER-BIONTECH))\n",
              "28449   1051569  COVID19  ...       LA  COVID19 (COVID19 (PFIZER-BIONTECH))\n",
              "22061   1011025  COVID19  ...      NaN  COVID19 (COVID19 (PFIZER-BIONTECH))\n",
              "10223    928279  COVID19  ...      NaN          COVID19 (COVID19 (MODERNA))\n",
              "15471    933965  COVID19  ...       LA          COVID19 (COVID19 (MODERNA))\n",
              "32642   1083726  COVID19  ...      NaN          COVID19 (COVID19 (MODERNA))\n",
              "\n",
              "[10 rows x 8 columns]"
            ]
          },
          "metadata": {
            "tags": []
          },
          "execution_count": 109
        }
      ]
    },
    {
      "cell_type": "code",
      "metadata": {
        "id": "cZwADlNxBwnO",
        "colab": {
          "base_uri": "https://localhost:8080/"
        },
        "outputId": "1ced622f-3851-4e58-d1c9-d1a7fccf6312"
      },
      "source": [
        "df_2021_vaersvax.info()"
      ],
      "execution_count": 110,
      "outputs": [
        {
          "output_type": "stream",
          "text": [
            "<class 'pandas.core.frame.DataFrame'>\n",
            "RangeIndex: 34630 entries, 0 to 34629\n",
            "Data columns (total 8 columns):\n",
            " #   Column           Non-Null Count  Dtype \n",
            "---  ------           --------------  ----- \n",
            " 0   VAERS_ID         34630 non-null  int64 \n",
            " 1   VAX_TYPE         34630 non-null  object\n",
            " 2   VAX_MANU         34630 non-null  object\n",
            " 3   VAX_LOT          23513 non-null  object\n",
            " 4   VAX_DOSE_SERIES  34568 non-null  object\n",
            " 5   VAX_ROUTE        26229 non-null  object\n",
            " 6   VAX_SITE         26687 non-null  object\n",
            " 7   VAX_NAME         34630 non-null  object\n",
            "dtypes: int64(1), object(7)\n",
            "memory usage: 2.1+ MB\n"
          ],
          "name": "stdout"
        }
      ]
    },
    {
      "cell_type": "code",
      "metadata": {
        "id": "NHPke8TmBwqW",
        "colab": {
          "base_uri": "https://localhost:8080/",
          "height": 847
        },
        "outputId": "f9595fe3-8029-4985-c395-cb046429d97d"
      },
      "source": [
        "df = pd.merge(df_2021_vaerssymptoms, df_2021_vaersvax, how='left', on='VAERS_ID')\n",
        "df"
      ],
      "execution_count": 111,
      "outputs": [
        {
          "output_type": "execute_result",
          "data": {
            "text/html": [
              "<div>\n",
              "<style scoped>\n",
              "    .dataframe tbody tr th:only-of-type {\n",
              "        vertical-align: middle;\n",
              "    }\n",
              "\n",
              "    .dataframe tbody tr th {\n",
              "        vertical-align: top;\n",
              "    }\n",
              "\n",
              "    .dataframe thead th {\n",
              "        text-align: right;\n",
              "    }\n",
              "</style>\n",
              "<table border=\"1\" class=\"dataframe\">\n",
              "  <thead>\n",
              "    <tr style=\"text-align: right;\">\n",
              "      <th></th>\n",
              "      <th>VAERS_ID</th>\n",
              "      <th>SYMPTOM1</th>\n",
              "      <th>SYMPTOMVERSION1</th>\n",
              "      <th>SYMPTOM2</th>\n",
              "      <th>SYMPTOMVERSION2</th>\n",
              "      <th>SYMPTOM3</th>\n",
              "      <th>SYMPTOMVERSION3</th>\n",
              "      <th>SYMPTOM4</th>\n",
              "      <th>SYMPTOMVERSION4</th>\n",
              "      <th>SYMPTOM5</th>\n",
              "      <th>SYMPTOMVERSION5</th>\n",
              "      <th>VAX_TYPE</th>\n",
              "      <th>VAX_MANU</th>\n",
              "      <th>VAX_LOT</th>\n",
              "      <th>VAX_DOSE_SERIES</th>\n",
              "      <th>VAX_ROUTE</th>\n",
              "      <th>VAX_SITE</th>\n",
              "      <th>VAX_NAME</th>\n",
              "    </tr>\n",
              "  </thead>\n",
              "  <tbody>\n",
              "    <tr>\n",
              "      <th>0</th>\n",
              "      <td>916600</td>\n",
              "      <td>Dysphagia</td>\n",
              "      <td>23.1</td>\n",
              "      <td>Epiglottitis</td>\n",
              "      <td>23.1</td>\n",
              "      <td>NaN</td>\n",
              "      <td>NaN</td>\n",
              "      <td>NaN</td>\n",
              "      <td>NaN</td>\n",
              "      <td>NaN</td>\n",
              "      <td>NaN</td>\n",
              "      <td>COVID19</td>\n",
              "      <td>MODERNA</td>\n",
              "      <td>037K20A</td>\n",
              "      <td>1</td>\n",
              "      <td>IM</td>\n",
              "      <td>LA</td>\n",
              "      <td>COVID19 (COVID19 (MODERNA))</td>\n",
              "    </tr>\n",
              "    <tr>\n",
              "      <th>1</th>\n",
              "      <td>916601</td>\n",
              "      <td>Anxiety</td>\n",
              "      <td>23.1</td>\n",
              "      <td>Dyspnoea</td>\n",
              "      <td>23.1</td>\n",
              "      <td>NaN</td>\n",
              "      <td>NaN</td>\n",
              "      <td>NaN</td>\n",
              "      <td>NaN</td>\n",
              "      <td>NaN</td>\n",
              "      <td>NaN</td>\n",
              "      <td>COVID19</td>\n",
              "      <td>MODERNA</td>\n",
              "      <td>025L20A</td>\n",
              "      <td>1</td>\n",
              "      <td>IM</td>\n",
              "      <td>RA</td>\n",
              "      <td>COVID19 (COVID19 (MODERNA))</td>\n",
              "    </tr>\n",
              "    <tr>\n",
              "      <th>2</th>\n",
              "      <td>916602</td>\n",
              "      <td>Chest discomfort</td>\n",
              "      <td>23.1</td>\n",
              "      <td>Dysphagia</td>\n",
              "      <td>23.1</td>\n",
              "      <td>Pain in extremity</td>\n",
              "      <td>23.1</td>\n",
              "      <td>Visual impairment</td>\n",
              "      <td>23.1</td>\n",
              "      <td>NaN</td>\n",
              "      <td>NaN</td>\n",
              "      <td>COVID19</td>\n",
              "      <td>PFIZER\\BIONTECH</td>\n",
              "      <td>EL1284</td>\n",
              "      <td>1</td>\n",
              "      <td>IM</td>\n",
              "      <td>LA</td>\n",
              "      <td>COVID19 (COVID19 (PFIZER-BIONTECH))</td>\n",
              "    </tr>\n",
              "    <tr>\n",
              "      <th>3</th>\n",
              "      <td>916603</td>\n",
              "      <td>Dizziness</td>\n",
              "      <td>23.1</td>\n",
              "      <td>Fatigue</td>\n",
              "      <td>23.1</td>\n",
              "      <td>Mobility decreased</td>\n",
              "      <td>23.1</td>\n",
              "      <td>NaN</td>\n",
              "      <td>NaN</td>\n",
              "      <td>NaN</td>\n",
              "      <td>NaN</td>\n",
              "      <td>COVID19</td>\n",
              "      <td>MODERNA</td>\n",
              "      <td>unknown</td>\n",
              "      <td>UNK</td>\n",
              "      <td>NaN</td>\n",
              "      <td>NaN</td>\n",
              "      <td>COVID19 (COVID19 (MODERNA))</td>\n",
              "    </tr>\n",
              "    <tr>\n",
              "      <th>4</th>\n",
              "      <td>916604</td>\n",
              "      <td>Injection site erythema</td>\n",
              "      <td>23.1</td>\n",
              "      <td>Injection site pruritus</td>\n",
              "      <td>23.1</td>\n",
              "      <td>Injection site swelling</td>\n",
              "      <td>23.1</td>\n",
              "      <td>Injection site warmth</td>\n",
              "      <td>23.1</td>\n",
              "      <td>NaN</td>\n",
              "      <td>NaN</td>\n",
              "      <td>COVID19</td>\n",
              "      <td>MODERNA</td>\n",
              "      <td>NaN</td>\n",
              "      <td>1</td>\n",
              "      <td>IM</td>\n",
              "      <td>LA</td>\n",
              "      <td>COVID19 (COVID19 (MODERNA))</td>\n",
              "    </tr>\n",
              "    <tr>\n",
              "      <th>...</th>\n",
              "      <td>...</td>\n",
              "      <td>...</td>\n",
              "      <td>...</td>\n",
              "      <td>...</td>\n",
              "      <td>...</td>\n",
              "      <td>...</td>\n",
              "      <td>...</td>\n",
              "      <td>...</td>\n",
              "      <td>...</td>\n",
              "      <td>...</td>\n",
              "      <td>...</td>\n",
              "      <td>...</td>\n",
              "      <td>...</td>\n",
              "      <td>...</td>\n",
              "      <td>...</td>\n",
              "      <td>...</td>\n",
              "      <td>...</td>\n",
              "      <td>...</td>\n",
              "    </tr>\n",
              "    <tr>\n",
              "      <th>49016</th>\n",
              "      <td>1113920</td>\n",
              "      <td>Nasal discomfort</td>\n",
              "      <td>23.1</td>\n",
              "      <td>Night sweats</td>\n",
              "      <td>23.1</td>\n",
              "      <td>Platelet count</td>\n",
              "      <td>23.1</td>\n",
              "      <td>Platelet count decreased</td>\n",
              "      <td>23.1</td>\n",
              "      <td>Pyrexia</td>\n",
              "      <td>23.1</td>\n",
              "      <td>COVID19</td>\n",
              "      <td>PFIZER\\BIONTECH</td>\n",
              "      <td>Unknown</td>\n",
              "      <td>1</td>\n",
              "      <td>NaN</td>\n",
              "      <td>NaN</td>\n",
              "      <td>COVID19 (COVID19 (PFIZER-BIONTECH))</td>\n",
              "    </tr>\n",
              "    <tr>\n",
              "      <th>49017</th>\n",
              "      <td>1113920</td>\n",
              "      <td>Rash</td>\n",
              "      <td>23.1</td>\n",
              "      <td>SARS-CoV-2 test</td>\n",
              "      <td>23.1</td>\n",
              "      <td>NaN</td>\n",
              "      <td>NaN</td>\n",
              "      <td>NaN</td>\n",
              "      <td>NaN</td>\n",
              "      <td>NaN</td>\n",
              "      <td>NaN</td>\n",
              "      <td>COVID19</td>\n",
              "      <td>PFIZER\\BIONTECH</td>\n",
              "      <td>Unknown</td>\n",
              "      <td>1</td>\n",
              "      <td>NaN</td>\n",
              "      <td>NaN</td>\n",
              "      <td>COVID19 (COVID19 (PFIZER-BIONTECH))</td>\n",
              "    </tr>\n",
              "    <tr>\n",
              "      <th>49018</th>\n",
              "      <td>1113963</td>\n",
              "      <td>Haemophagocytic lymphohistiocytosis</td>\n",
              "      <td>23.1</td>\n",
              "      <td>SARS-CoV-2 test</td>\n",
              "      <td>23.1</td>\n",
              "      <td>NaN</td>\n",
              "      <td>NaN</td>\n",
              "      <td>NaN</td>\n",
              "      <td>NaN</td>\n",
              "      <td>NaN</td>\n",
              "      <td>NaN</td>\n",
              "      <td>COVID19</td>\n",
              "      <td>PFIZER\\BIONTECH</td>\n",
              "      <td>EL9264</td>\n",
              "      <td>2</td>\n",
              "      <td>NaN</td>\n",
              "      <td>NaN</td>\n",
              "      <td>COVID19 (COVID19 (PFIZER-BIONTECH))</td>\n",
              "    </tr>\n",
              "    <tr>\n",
              "      <th>49019</th>\n",
              "      <td>1115045</td>\n",
              "      <td>Death</td>\n",
              "      <td>23.1</td>\n",
              "      <td>NaN</td>\n",
              "      <td>NaN</td>\n",
              "      <td>NaN</td>\n",
              "      <td>NaN</td>\n",
              "      <td>NaN</td>\n",
              "      <td>NaN</td>\n",
              "      <td>NaN</td>\n",
              "      <td>NaN</td>\n",
              "      <td>COVID19</td>\n",
              "      <td>MODERNA</td>\n",
              "      <td>NaN</td>\n",
              "      <td>2</td>\n",
              "      <td>OT</td>\n",
              "      <td>NaN</td>\n",
              "      <td>COVID19 (COVID19 (MODERNA))</td>\n",
              "    </tr>\n",
              "    <tr>\n",
              "      <th>49020</th>\n",
              "      <td>1115348</td>\n",
              "      <td>Death</td>\n",
              "      <td>23.1</td>\n",
              "      <td>NaN</td>\n",
              "      <td>NaN</td>\n",
              "      <td>NaN</td>\n",
              "      <td>NaN</td>\n",
              "      <td>NaN</td>\n",
              "      <td>NaN</td>\n",
              "      <td>NaN</td>\n",
              "      <td>NaN</td>\n",
              "      <td>COVID19</td>\n",
              "      <td>MODERNA</td>\n",
              "      <td>026A21A</td>\n",
              "      <td>1</td>\n",
              "      <td>OT</td>\n",
              "      <td>LA</td>\n",
              "      <td>COVID19 (COVID19 (MODERNA))</td>\n",
              "    </tr>\n",
              "  </tbody>\n",
              "</table>\n",
              "<p>49021 rows × 18 columns</p>\n",
              "</div>"
            ],
            "text/plain": [
              "       VAERS_ID  ...                             VAX_NAME\n",
              "0        916600  ...          COVID19 (COVID19 (MODERNA))\n",
              "1        916601  ...          COVID19 (COVID19 (MODERNA))\n",
              "2        916602  ...  COVID19 (COVID19 (PFIZER-BIONTECH))\n",
              "3        916603  ...          COVID19 (COVID19 (MODERNA))\n",
              "4        916604  ...          COVID19 (COVID19 (MODERNA))\n",
              "...         ...  ...                                  ...\n",
              "49016   1113920  ...  COVID19 (COVID19 (PFIZER-BIONTECH))\n",
              "49017   1113920  ...  COVID19 (COVID19 (PFIZER-BIONTECH))\n",
              "49018   1113963  ...  COVID19 (COVID19 (PFIZER-BIONTECH))\n",
              "49019   1115045  ...          COVID19 (COVID19 (MODERNA))\n",
              "49020   1115348  ...          COVID19 (COVID19 (MODERNA))\n",
              "\n",
              "[49021 rows x 18 columns]"
            ]
          },
          "metadata": {
            "tags": []
          },
          "execution_count": 111
        }
      ]
    },
    {
      "cell_type": "code",
      "metadata": {
        "colab": {
          "base_uri": "https://localhost:8080/"
        },
        "id": "GYWZ6E-MAnk_",
        "outputId": "b3733f9d-991f-4edd-eb3e-3d8696bf2b33"
      },
      "source": [
        "df.isna().sum()"
      ],
      "execution_count": 112,
      "outputs": [
        {
          "output_type": "execute_result",
          "data": {
            "text/plain": [
              "VAERS_ID               0\n",
              "SYMPTOM1               0\n",
              "SYMPTOMVERSION1        0\n",
              "SYMPTOM2            8901\n",
              "SYMPTOMVERSION2     8901\n",
              "SYMPTOM3           16822\n",
              "SYMPTOMVERSION3    16822\n",
              "SYMPTOM4           24005\n",
              "SYMPTOMVERSION4    24005\n",
              "SYMPTOM5           29975\n",
              "SYMPTOMVERSION5    29975\n",
              "VAX_TYPE               0\n",
              "VAX_MANU               0\n",
              "VAX_LOT            14957\n",
              "VAX_DOSE_SERIES      101\n",
              "VAX_ROUTE          11278\n",
              "VAX_SITE           10464\n",
              "VAX_NAME               0\n",
              "dtype: int64"
            ]
          },
          "metadata": {
            "tags": []
          },
          "execution_count": 112
        }
      ]
    },
    {
      "cell_type": "code",
      "metadata": {
        "id": "mdqIga1DCl7p",
        "colab": {
          "base_uri": "https://localhost:8080/"
        },
        "outputId": "49a23403-6b9c-4829-c740-51a5b60ec9d8"
      },
      "source": [
        "df.info()"
      ],
      "execution_count": 113,
      "outputs": [
        {
          "output_type": "stream",
          "text": [
            "<class 'pandas.core.frame.DataFrame'>\n",
            "Int64Index: 49021 entries, 0 to 49020\n",
            "Data columns (total 18 columns):\n",
            " #   Column           Non-Null Count  Dtype  \n",
            "---  ------           --------------  -----  \n",
            " 0   VAERS_ID         49021 non-null  int64  \n",
            " 1   SYMPTOM1         49021 non-null  object \n",
            " 2   SYMPTOMVERSION1  49021 non-null  float64\n",
            " 3   SYMPTOM2         40120 non-null  object \n",
            " 4   SYMPTOMVERSION2  40120 non-null  float64\n",
            " 5   SYMPTOM3         32199 non-null  object \n",
            " 6   SYMPTOMVERSION3  32199 non-null  float64\n",
            " 7   SYMPTOM4         25016 non-null  object \n",
            " 8   SYMPTOMVERSION4  25016 non-null  float64\n",
            " 9   SYMPTOM5         19046 non-null  object \n",
            " 10  SYMPTOMVERSION5  19046 non-null  float64\n",
            " 11  VAX_TYPE         49021 non-null  object \n",
            " 12  VAX_MANU         49021 non-null  object \n",
            " 13  VAX_LOT          34064 non-null  object \n",
            " 14  VAX_DOSE_SERIES  48920 non-null  object \n",
            " 15  VAX_ROUTE        37743 non-null  object \n",
            " 16  VAX_SITE         38557 non-null  object \n",
            " 17  VAX_NAME         49021 non-null  object \n",
            "dtypes: float64(5), int64(1), object(12)\n",
            "memory usage: 7.1+ MB\n"
          ],
          "name": "stdout"
        }
      ]
    },
    {
      "cell_type": "code",
      "metadata": {
        "id": "U68-x7GHCmAY",
        "colab": {
          "base_uri": "https://localhost:8080/",
          "height": 594
        },
        "outputId": "2b6d8da8-35b4-45b8-c19f-a765e3d1fd58"
      },
      "source": [
        "fig = plt.figure(figsize=(12, 8))\n",
        "sns.heatmap(df.isnull(), cbar=False, cmap='coolwarm_r')"
      ],
      "execution_count": 114,
      "outputs": [
        {
          "output_type": "execute_result",
          "data": {
            "text/plain": [
              "<matplotlib.axes._subplots.AxesSubplot at 0x7f7b5edf5d50>"
            ]
          },
          "metadata": {
            "tags": []
          },
          "execution_count": 114
        },
        {
          "output_type": "display_data",
          "data": {
            "image/png": "[encoded data removed]",
            "text/plain": [
              "<Figure size 864x576 with 1 Axes>"
            ]
          },
          "metadata": {
            "tags": [],
            "needs_background": "light"
          }
        }
      ]
    },
    {
      "cell_type": "code",
      "metadata": {
        "id": "Jbn6FancCmDq",
        "colab": {
          "base_uri": "https://localhost:8080/"
        },
        "outputId": "22aab3d1-615f-4ede-9f1f-4c6f441b3d5d"
      },
      "source": [
        "df['SYMPTOM1'].value_counts()[:20]"
      ],
      "execution_count": 115,
      "outputs": [
        {
          "output_type": "execute_result",
          "data": {
            "text/plain": [
              "Chills                     3268\n",
              "Arthralgia                 1962\n",
              "Headache                   1490\n",
              "Dizziness                  1459\n",
              "Injection site erythema    1417\n",
              "Fatigue                    1391\n",
              "Asthenia                   1147\n",
              "Pyrexia                    1082\n",
              "Death                      1017\n",
              "COVID-19                    865\n",
              "Erythema                    794\n",
              "Pain                        761\n",
              "Nausea                      675\n",
              "Pain in extremity           639\n",
              "Injection site pain         533\n",
              "Myalgia                     484\n",
              "Rash                        471\n",
              "Dyspnoea                    457\n",
              "Pruritus                    452\n",
              "Chest discomfort            418\n",
              "Name: SYMPTOM1, dtype: int64"
            ]
          },
          "metadata": {
            "tags": []
          },
          "execution_count": 115
        }
      ]
    },
    {
      "cell_type": "code",
      "metadata": {
        "id": "aqQYyVs1CmG0",
        "colab": {
          "base_uri": "https://localhost:8080/"
        },
        "outputId": "a228a8fd-9ed3-4490-c6df-003fe9f94c84"
      },
      "source": [
        "df['SYMPTOM2'].value_counts()[:20]"
      ],
      "execution_count": 116,
      "outputs": [
        {
          "output_type": "execute_result",
          "data": {
            "text/plain": [
              "Headache                    2207\n",
              "Fatigue                     1753\n",
              "Chills                      1540\n",
              "Pyrexia                     1063\n",
              "Dizziness                   1048\n",
              "Pain                         968\n",
              "Nausea                       855\n",
              "Injection site pain          849\n",
              "Myalgia                      689\n",
              "Pain in extremity            653\n",
              "Dyspnoea                     637\n",
              "Injection site pruritus      566\n",
              "SARS-CoV-2 test positive     457\n",
              "Pruritus                     446\n",
              "Injection site erythema      439\n",
              "Death                        403\n",
              "Rash                         401\n",
              "Diarrhoea                    398\n",
              "Vomiting                     349\n",
              "Asthenia                     335\n",
              "Name: SYMPTOM2, dtype: int64"
            ]
          },
          "metadata": {
            "tags": []
          },
          "execution_count": 116
        }
      ]
    },
    {
      "cell_type": "code",
      "metadata": {
        "id": "4UUQBYFcCmJb",
        "colab": {
          "base_uri": "https://localhost:8080/"
        },
        "outputId": "ad89ae09-6832-45ce-d9e5-e92f6343de2b"
      },
      "source": [
        "df['SYMPTOM3'].value_counts()[:20]"
      ],
      "execution_count": 117,
      "outputs": [
        {
          "output_type": "execute_result",
          "data": {
            "text/plain": [
              "Headache                   1832\n",
              "Pyrexia                    1290\n",
              "Fatigue                    1215\n",
              "Pain                       1195\n",
              "Nausea                     1042\n",
              "Pain in extremity           714\n",
              "Myalgia                     691\n",
              "Injection site pain         665\n",
              "Injection site swelling     587\n",
              "Dizziness                   585\n",
              "Chills                      541\n",
              "Dyspnoea                    509\n",
              "Injection site pruritus     419\n",
              "Pruritus                    380\n",
              "Vomiting                    341\n",
              "Rash                        327\n",
              "Injection site warmth       306\n",
              "Malaise                     300\n",
              "Diarrhoea                   278\n",
              "Hyperhidrosis               276\n",
              "Name: SYMPTOM3, dtype: int64"
            ]
          },
          "metadata": {
            "tags": []
          },
          "execution_count": 117
        }
      ]
    },
    {
      "cell_type": "code",
      "metadata": {
        "colab": {
          "base_uri": "https://localhost:8080/"
        },
        "id": "VjL24W56DpA3",
        "outputId": "99e7bb2e-e8e9-42a4-be93-f24b3452dd5b"
      },
      "source": [
        "df['SYMPTOM4'].value_counts()[:20]"
      ],
      "execution_count": 118,
      "outputs": [
        {
          "output_type": "execute_result",
          "data": {
            "text/plain": [
              "Pyrexia                     1323\n",
              "Headache                    1192\n",
              "Pain                        1105\n",
              "Nausea                       977\n",
              "Fatigue                      637\n",
              "Myalgia                      613\n",
              "Pain in extremity            601\n",
              "Injection site pain          478\n",
              "Injection site swelling      409\n",
              "Injection site warmth        395\n",
              "Vomiting                     348\n",
              "Dyspnoea                     310\n",
              "Dizziness                    297\n",
              "Pruritus                     276\n",
              "Malaise                      274\n",
              "Rash                         264\n",
              "Paraesthesia                 245\n",
              "Urticaria                    222\n",
              "Injection site pruritus      188\n",
              "SARS-CoV-2 test negative     185\n",
              "Name: SYMPTOM4, dtype: int64"
            ]
          },
          "metadata": {
            "tags": []
          },
          "execution_count": 118
        }
      ]
    },
    {
      "cell_type": "code",
      "metadata": {
        "colab": {
          "base_uri": "https://localhost:8080/"
        },
        "id": "jF-resvHDqhm",
        "outputId": "fbeacc00-614a-407d-efc3-06ec22348d7b"
      },
      "source": [
        "df['SYMPTOM5'].value_counts()[:20]"
      ],
      "execution_count": 119,
      "outputs": [
        {
          "output_type": "execute_result",
          "data": {
            "text/plain": [
              "Pyrexia                     1192\n",
              "Pain                         861\n",
              "Nausea                       670\n",
              "Headache                     613\n",
              "Pain in extremity            552\n",
              "Myalgia                      434\n",
              "Vomiting                     399\n",
              "Fatigue                      328\n",
              "Injection site pain          282\n",
              "Dyspnoea                     245\n",
              "Injection site swelling      232\n",
              "Injection site warmth        223\n",
              "Pruritus                     219\n",
              "Malaise                      205\n",
              "Paraesthesia                 192\n",
              "Rash                         185\n",
              "Urticaria                    179\n",
              "SARS-CoV-2 test negative     171\n",
              "Hyperhidrosis                144\n",
              "SARS-CoV-2 test              136\n",
              "Name: SYMPTOM5, dtype: int64"
            ]
          },
          "metadata": {
            "tags": []
          },
          "execution_count": 119
        }
      ]
    },
    {
      "cell_type": "code",
      "metadata": {
        "id": "k6DbMDQLCmMh"
      },
      "source": [
        "df['SYMPTOM2'] = df['SYMPTOM2'].fillna('No symptom')\n",
        "df['SYMPTOM3'] = df['SYMPTOM3'].fillna('No symptom')\n",
        "df['SYMPTOM4'] = df['SYMPTOM4'].fillna('No symptom')\n",
        "df['SYMPTOM5'] = df['SYMPTOM5'].fillna('No symptom')"
      ],
      "execution_count": 120,
      "outputs": []
    },
    {
      "cell_type": "code",
      "metadata": {
        "id": "NHkIeY4OGrs-",
        "colab": {
          "base_uri": "https://localhost:8080/"
        },
        "outputId": "7ee04438-1e0e-4667-ebb5-06af358dc5e6"
      },
      "source": [
        "df.isna().sum()"
      ],
      "execution_count": 121,
      "outputs": [
        {
          "output_type": "execute_result",
          "data": {
            "text/plain": [
              "VAERS_ID               0\n",
              "SYMPTOM1               0\n",
              "SYMPTOMVERSION1        0\n",
              "SYMPTOM2               0\n",
              "SYMPTOMVERSION2     8901\n",
              "SYMPTOM3               0\n",
              "SYMPTOMVERSION3    16822\n",
              "SYMPTOM4               0\n",
              "SYMPTOMVERSION4    24005\n",
              "SYMPTOM5               0\n",
              "SYMPTOMVERSION5    29975\n",
              "VAX_TYPE               0\n",
              "VAX_MANU               0\n",
              "VAX_LOT            14957\n",
              "VAX_DOSE_SERIES      101\n",
              "VAX_ROUTE          11278\n",
              "VAX_SITE           10464\n",
              "VAX_NAME               0\n",
              "dtype: int64"
            ]
          },
          "metadata": {
            "tags": []
          },
          "execution_count": 121
        }
      ]
    },
    {
      "cell_type": "code",
      "metadata": {
        "id": "yuPO53t1Grvy",
        "colab": {
          "base_uri": "https://localhost:8080/",
          "height": 388
        },
        "outputId": "13a1e8e7-3f75-4bc7-ddba-574ec50c0c61"
      },
      "source": [
        "df['SYMPTOM1'].value_counts()[:20].plot.bar()"
      ],
      "execution_count": 122,
      "outputs": [
        {
          "output_type": "execute_result",
          "data": {
            "text/plain": [
              "<matplotlib.axes._subplots.AxesSubplot at 0x7f7b5ebc3d10>"
            ]
          },
          "metadata": {
            "tags": []
          },
          "execution_count": 122
        },
        {
          "output_type": "display_data",
          "data": {
            "image/png": "[encoded data removed]",
            "text/plain": [
              "<Figure size 432x288 with 1 Axes>"
            ]
          },
          "metadata": {
            "tags": [],
            "needs_background": "light"
          }
        }
      ]
    },
    {
      "cell_type": "code",
      "metadata": {
        "id": "dSbkZ_apGryq",
        "colab": {
          "base_uri": "https://localhost:8080/",
          "height": 396
        },
        "outputId": "346edf65-94f1-455d-f446-9361fc386f6c"
      },
      "source": [
        "df['SYMPTOM2'].value_counts()[1:21].plot.bar()"
      ],
      "execution_count": 123,
      "outputs": [
        {
          "output_type": "execute_result",
          "data": {
            "text/plain": [
              "<matplotlib.axes._subplots.AxesSubplot at 0x7f7b5eb479d0>"
            ]
          },
          "metadata": {
            "tags": []
          },
          "execution_count": 123
        },
        {
          "output_type": "display_data",
          "data": {
            "image/png": "[encoded data removed]",
            "text/plain": [
              "<Figure size 432x288 with 1 Axes>"
            ]
          },
          "metadata": {
            "tags": [],
            "needs_background": "light"
          }
        }
      ]
    },
    {
      "cell_type": "code",
      "metadata": {
        "id": "9iABT4ptGr4C",
        "colab": {
          "base_uri": "https://localhost:8080/",
          "height": 380
        },
        "outputId": "e8d40afd-f0e1-42a4-fcbc-2622a79f7a77"
      },
      "source": [
        "df['SYMPTOM3'].value_counts()[1:21].plot.bar()"
      ],
      "execution_count": 124,
      "outputs": [
        {
          "output_type": "execute_result",
          "data": {
            "text/plain": [
              "<matplotlib.axes._subplots.AxesSubplot at 0x7f7b5ea285d0>"
            ]
          },
          "metadata": {
            "tags": []
          },
          "execution_count": 124
        },
        {
          "output_type": "display_data",
          "data": {
            "image/png": "[encoded data removed]",
            "text/plain": [
              "<Figure size 432x288 with 1 Axes>"
            ]
          },
          "metadata": {
            "tags": [],
            "needs_background": "light"
          }
        }
      ]
    },
    {
      "cell_type": "code",
      "metadata": {
        "colab": {
          "base_uri": "https://localhost:8080/",
          "height": 401
        },
        "id": "3SPRFJXwDVxb",
        "outputId": "ef96c577-49b3-4019-d632-9792be6e7bcd"
      },
      "source": [
        "df['SYMPTOM4'].value_counts()[1:21].plot.bar()"
      ],
      "execution_count": 125,
      "outputs": [
        {
          "output_type": "execute_result",
          "data": {
            "text/plain": [
              "<matplotlib.axes._subplots.AxesSubplot at 0x7f7b5e972e50>"
            ]
          },
          "metadata": {
            "tags": []
          },
          "execution_count": 125
        },
        {
          "output_type": "display_data",
          "data": {
            "image/png": "[encoded data removed]",
            "text/plain": [
              "<Figure size 432x288 with 1 Axes>"
            ]
          },
          "metadata": {
            "tags": [],
            "needs_background": "light"
          }
        }
      ]
    },
    {
      "cell_type": "code",
      "metadata": {
        "colab": {
          "base_uri": "https://localhost:8080/",
          "height": 401
        },
        "id": "a0PJoxoqDV1X",
        "outputId": "cb83ac86-ee1f-45a6-ffe7-b38735b0d9ec"
      },
      "source": [
        "df['SYMPTOM5'].value_counts()[1:21].plot.bar()"
      ],
      "execution_count": 126,
      "outputs": [
        {
          "output_type": "execute_result",
          "data": {
            "text/plain": [
              "<matplotlib.axes._subplots.AxesSubplot at 0x7f7b5e893750>"
            ]
          },
          "metadata": {
            "tags": []
          },
          "execution_count": 126
        },
        {
          "output_type": "display_data",
          "data": {
            "image/png": "[encoded data removed]",
            "text/plain": [
              "<Figure size 432x288 with 1 Axes>"
            ]
          },
          "metadata": {
            "tags": [],
            "needs_background": "light"
          }
        }
      ]
    },
    {
      "cell_type": "code",
      "metadata": {
        "colab": {
          "base_uri": "https://localhost:8080/"
        },
        "id": "pEv3L6oNDV_Q",
        "outputId": "4f2c97f9-769d-44af-bc0a-61a5cc2951e0"
      },
      "source": [
        "SYMPTOM1 = df['SYMPTOM1'].value_counts()\n",
        "SYMPTOM1"
      ],
      "execution_count": 127,
      "outputs": [
        {
          "output_type": "execute_result",
          "data": {
            "text/plain": [
              "Chills                           3268\n",
              "Arthralgia                       1962\n",
              "Headache                         1490\n",
              "Dizziness                        1459\n",
              "Injection site erythema          1417\n",
              "                                 ... \n",
              "Hypovolaemia                        1\n",
              "Barium swallow                      1\n",
              "Intestinal perforation              1\n",
              "Ischaemic cerebral infarction       1\n",
              "Urethral pain                       1\n",
              "Name: SYMPTOM1, Length: 2431, dtype: int64"
            ]
          },
          "metadata": {
            "tags": []
          },
          "execution_count": 127
        }
      ]
    },
    {
      "cell_type": "code",
      "metadata": {
        "colab": {
          "base_uri": "https://localhost:8080/"
        },
        "id": "F-8yBYrkLdyk",
        "outputId": "72a0ad25-e7a7-47d9-d6eb-18a591395744"
      },
      "source": [
        "SYMPTOM2 = df['SYMPTOM2'].value_counts()\n",
        "SYMPTOM2"
      ],
      "execution_count": 128,
      "outputs": [
        {
          "output_type": "execute_result",
          "data": {
            "text/plain": [
              "No symptom                    8901\n",
              "Headache                      2207\n",
              "Fatigue                       1753\n",
              "Chills                        1540\n",
              "Pyrexia                       1063\n",
              "                              ... \n",
              "Coronary artery thrombosis       1\n",
              "Blood corticotrophin             1\n",
              "Stool analysis normal            1\n",
              "Cytokine test                    1\n",
              "Prostate cancer metastatic       1\n",
              "Name: SYMPTOM2, Length: 2356, dtype: int64"
            ]
          },
          "metadata": {
            "tags": []
          },
          "execution_count": 128
        }
      ]
    },
    {
      "cell_type": "code",
      "metadata": {
        "colab": {
          "base_uri": "https://localhost:8080/"
        },
        "id": "rMKgFY9FLd6M",
        "outputId": "c3cc8bd5-b766-48e7-9550-f4a453c4d1f2"
      },
      "source": [
        "SYMPTOM3 = df['SYMPTOM3'].value_counts()\n",
        "SYMPTOM3"
      ],
      "execution_count": 129,
      "outputs": [
        {
          "output_type": "execute_result",
          "data": {
            "text/plain": [
              "No symptom                  16822\n",
              "Headache                     1832\n",
              "Pyrexia                      1290\n",
              "Fatigue                      1215\n",
              "Pain                         1195\n",
              "                            ...  \n",
              "Cerebral artery embolism        1\n",
              "Imaging procedure               1\n",
              "Genital herpes                  1\n",
              "Radicular pain                  1\n",
              "Debridement                     1\n",
              "Name: SYMPTOM3, Length: 2134, dtype: int64"
            ]
          },
          "metadata": {
            "tags": []
          },
          "execution_count": 129
        }
      ]
    },
    {
      "cell_type": "code",
      "metadata": {
        "colab": {
          "base_uri": "https://localhost:8080/"
        },
        "id": "eCwfc3EbLeCY",
        "outputId": "4d00c283-1136-4b90-beb0-cfaa19380bae"
      },
      "source": [
        "SYMPTOM4 = df['SYMPTOM4'].value_counts()\n",
        "SYMPTOM4"
      ],
      "execution_count": 130,
      "outputs": [
        {
          "output_type": "execute_result",
          "data": {
            "text/plain": [
              "No symptom                          24005\n",
              "Pyrexia                              1323\n",
              "Headache                             1192\n",
              "Pain                                 1105\n",
              "Nausea                                977\n",
              "                                    ...  \n",
              "Cardiac murmur                          1\n",
              "Paranasal sinus hypersecretion          1\n",
              "Terminal state                          1\n",
              "Albumin globulin ratio decreased        1\n",
              "Sputum increased                        1\n",
              "Name: SYMPTOM4, Length: 1962, dtype: int64"
            ]
          },
          "metadata": {
            "tags": []
          },
          "execution_count": 130
        }
      ]
    },
    {
      "cell_type": "code",
      "metadata": {
        "colab": {
          "base_uri": "https://localhost:8080/"
        },
        "id": "a651ungJLeLR",
        "outputId": "c700065e-c368-4c7f-9f17-c00bc93b5b39"
      },
      "source": [
        "SYMPTOM5 = df['SYMPTOM5'].value_counts()\n",
        "SYMPTOM5"
      ],
      "execution_count": 131,
      "outputs": [
        {
          "output_type": "execute_result",
          "data": {
            "text/plain": [
              "No symptom                 29975\n",
              "Pyrexia                     1192\n",
              "Pain                         861\n",
              "Nausea                       670\n",
              "Headache                     613\n",
              "                           ...  \n",
              "Tearfulness                    1\n",
              "Laziness                       1\n",
              "Blood phosphorus normal        1\n",
              "Borrelia test negative         1\n",
              "Debridement                    1\n",
              "Name: SYMPTOM5, Length: 1730, dtype: int64"
            ]
          },
          "metadata": {
            "tags": []
          },
          "execution_count": 131
        }
      ]
    },
    {
      "cell_type": "code",
      "metadata": {
        "id": "uPtPXSy0atqd"
      },
      "source": [
        ""
      ],
      "execution_count": 131,
      "outputs": []
    },
    {
      "cell_type": "code",
      "metadata": {
        "colab": {
          "base_uri": "https://localhost:8080/",
          "height": 524
        },
        "id": "WASMkhfEDV4z",
        "outputId": "bf55f5af-bd3e-477e-feb4-8b011807ea27"
      },
      "source": [
        "symptom_list = [SYMPTOM1, SYMPTOM2, SYMPTOM3, SYMPTOM4, SYMPTOM5]\n",
        "symptom_df = pd.DataFrame()\n",
        "\n",
        "for i in range(5):\n",
        "  for j in range(20):\n",
        "    symptom_df[f'count_symptom{i+1}'] = symptom_list[i]\n",
        "    symptom_df[f'percent_symptom{i+1}'] = (symptom_list[i]/len(df.index))*100  \n",
        "clean_df = symptom_df.reset_index().rename(columns={'index':'symptom'})\n",
        "clean_df"
      ],
      "execution_count": 132,
      "outputs": [
        {
          "output_type": "execute_result",
          "data": {
            "text/html": [
              "<div>\n",
              "<style scoped>\n",
              "    .dataframe tbody tr th:only-of-type {\n",
              "        vertical-align: middle;\n",
              "    }\n",
              "\n",
              "    .dataframe tbody tr th {\n",
              "        vertical-align: top;\n",
              "    }\n",
              "\n",
              "    .dataframe thead th {\n",
              "        text-align: right;\n",
              "    }\n",
              "</style>\n",
              "<table border=\"1\" class=\"dataframe\">\n",
              "  <thead>\n",
              "    <tr style=\"text-align: right;\">\n",
              "      <th></th>\n",
              "      <th>symptom</th>\n",
              "      <th>count_symptom1</th>\n",
              "      <th>percent_symptom1</th>\n",
              "      <th>count_symptom2</th>\n",
              "      <th>percent_symptom2</th>\n",
              "      <th>count_symptom3</th>\n",
              "      <th>percent_symptom3</th>\n",
              "      <th>count_symptom4</th>\n",
              "      <th>percent_symptom4</th>\n",
              "      <th>count_symptom5</th>\n",
              "      <th>percent_symptom5</th>\n",
              "    </tr>\n",
              "  </thead>\n",
              "  <tbody>\n",
              "    <tr>\n",
              "      <th>0</th>\n",
              "      <td>Chills</td>\n",
              "      <td>3268</td>\n",
              "      <td>6.666531</td>\n",
              "      <td>1540.0</td>\n",
              "      <td>3.141511</td>\n",
              "      <td>541.0</td>\n",
              "      <td>1.103609</td>\n",
              "      <td>182.0</td>\n",
              "      <td>0.371269</td>\n",
              "      <td>60.0</td>\n",
              "      <td>0.122397</td>\n",
              "    </tr>\n",
              "    <tr>\n",
              "      <th>1</th>\n",
              "      <td>Arthralgia</td>\n",
              "      <td>1962</td>\n",
              "      <td>4.002366</td>\n",
              "      <td>148.0</td>\n",
              "      <td>0.301911</td>\n",
              "      <td>26.0</td>\n",
              "      <td>0.053038</td>\n",
              "      <td>4.0</td>\n",
              "      <td>0.008160</td>\n",
              "      <td>1.0</td>\n",
              "      <td>0.002040</td>\n",
              "    </tr>\n",
              "    <tr>\n",
              "      <th>2</th>\n",
              "      <td>Headache</td>\n",
              "      <td>1490</td>\n",
              "      <td>3.039514</td>\n",
              "      <td>2207.0</td>\n",
              "      <td>4.502152</td>\n",
              "      <td>1832.0</td>\n",
              "      <td>3.737174</td>\n",
              "      <td>1192.0</td>\n",
              "      <td>2.431611</td>\n",
              "      <td>613.0</td>\n",
              "      <td>1.250484</td>\n",
              "    </tr>\n",
              "    <tr>\n",
              "      <th>3</th>\n",
              "      <td>Dizziness</td>\n",
              "      <td>1459</td>\n",
              "      <td>2.976275</td>\n",
              "      <td>1048.0</td>\n",
              "      <td>2.137859</td>\n",
              "      <td>585.0</td>\n",
              "      <td>1.193366</td>\n",
              "      <td>297.0</td>\n",
              "      <td>0.605863</td>\n",
              "      <td>134.0</td>\n",
              "      <td>0.273352</td>\n",
              "    </tr>\n",
              "    <tr>\n",
              "      <th>4</th>\n",
              "      <td>Injection site erythema</td>\n",
              "      <td>1417</td>\n",
              "      <td>2.890598</td>\n",
              "      <td>439.0</td>\n",
              "      <td>0.895535</td>\n",
              "      <td>207.0</td>\n",
              "      <td>0.422268</td>\n",
              "      <td>109.0</td>\n",
              "      <td>0.222354</td>\n",
              "      <td>65.0</td>\n",
              "      <td>0.132596</td>\n",
              "    </tr>\n",
              "    <tr>\n",
              "      <th>...</th>\n",
              "      <td>...</td>\n",
              "      <td>...</td>\n",
              "      <td>...</td>\n",
              "      <td>...</td>\n",
              "      <td>...</td>\n",
              "      <td>...</td>\n",
              "      <td>...</td>\n",
              "      <td>...</td>\n",
              "      <td>...</td>\n",
              "      <td>...</td>\n",
              "      <td>...</td>\n",
              "    </tr>\n",
              "    <tr>\n",
              "      <th>2426</th>\n",
              "      <td>Hypovolaemia</td>\n",
              "      <td>1</td>\n",
              "      <td>0.002040</td>\n",
              "      <td>2.0</td>\n",
              "      <td>0.004080</td>\n",
              "      <td>1.0</td>\n",
              "      <td>0.002040</td>\n",
              "      <td>1.0</td>\n",
              "      <td>0.002040</td>\n",
              "      <td>NaN</td>\n",
              "      <td>NaN</td>\n",
              "    </tr>\n",
              "    <tr>\n",
              "      <th>2427</th>\n",
              "      <td>Barium swallow</td>\n",
              "      <td>1</td>\n",
              "      <td>0.002040</td>\n",
              "      <td>NaN</td>\n",
              "      <td>NaN</td>\n",
              "      <td>NaN</td>\n",
              "      <td>NaN</td>\n",
              "      <td>NaN</td>\n",
              "      <td>NaN</td>\n",
              "      <td>NaN</td>\n",
              "      <td>NaN</td>\n",
              "    </tr>\n",
              "    <tr>\n",
              "      <th>2428</th>\n",
              "      <td>Intestinal perforation</td>\n",
              "      <td>1</td>\n",
              "      <td>0.002040</td>\n",
              "      <td>1.0</td>\n",
              "      <td>0.002040</td>\n",
              "      <td>NaN</td>\n",
              "      <td>NaN</td>\n",
              "      <td>1.0</td>\n",
              "      <td>0.002040</td>\n",
              "      <td>NaN</td>\n",
              "      <td>NaN</td>\n",
              "    </tr>\n",
              "    <tr>\n",
              "      <th>2429</th>\n",
              "      <td>Ischaemic cerebral infarction</td>\n",
              "      <td>1</td>\n",
              "      <td>0.002040</td>\n",
              "      <td>NaN</td>\n",
              "      <td>NaN</td>\n",
              "      <td>NaN</td>\n",
              "      <td>NaN</td>\n",
              "      <td>NaN</td>\n",
              "      <td>NaN</td>\n",
              "      <td>NaN</td>\n",
              "      <td>NaN</td>\n",
              "    </tr>\n",
              "    <tr>\n",
              "      <th>2430</th>\n",
              "      <td>Urethral pain</td>\n",
              "      <td>1</td>\n",
              "      <td>0.002040</td>\n",
              "      <td>NaN</td>\n",
              "      <td>NaN</td>\n",
              "      <td>NaN</td>\n",
              "      <td>NaN</td>\n",
              "      <td>NaN</td>\n",
              "      <td>NaN</td>\n",
              "      <td>NaN</td>\n",
              "      <td>NaN</td>\n",
              "    </tr>\n",
              "  </tbody>\n",
              "</table>\n",
              "<p>2431 rows × 11 columns</p>\n",
              "</div>"
            ],
            "text/plain": [
              "                            symptom  ...  percent_symptom5\n",
              "0                            Chills  ...          0.122397\n",
              "1                        Arthralgia  ...          0.002040\n",
              "2                          Headache  ...          1.250484\n",
              "3                         Dizziness  ...          0.273352\n",
              "4           Injection site erythema  ...          0.132596\n",
              "...                             ...  ...               ...\n",
              "2426                   Hypovolaemia  ...               NaN\n",
              "2427                 Barium swallow  ...               NaN\n",
              "2428         Intestinal perforation  ...               NaN\n",
              "2429  Ischaemic cerebral infarction  ...               NaN\n",
              "2430                  Urethral pain  ...               NaN\n",
              "\n",
              "[2431 rows x 11 columns]"
            ]
          },
          "metadata": {
            "tags": []
          },
          "execution_count": 132
        }
      ]
    },
    {
      "cell_type": "code",
      "metadata": {
        "colab": {
          "base_uri": "https://localhost:8080/",
          "height": 669
        },
        "id": "h2H_bAX1GIzD",
        "outputId": "a25bf163-ed5d-4691-8289-65b4a496cd71"
      },
      "source": [
        "count_df = df[[\"SYMPTOM1\", \"SYMPTOM2\", \"SYMPTOM3\", \"SYMPTOM4\", \"SYMPTOM5\"]]\n",
        "count_df = count_df.apply(pd.Series.value_counts)\n",
        "\n",
        "count_df = count_df.replace(np.nan,0)\n",
        "\n",
        "count_df[\"COUNT\"] = count_df.sum(axis=1)\n",
        "\n",
        "count_df = count_df.reset_index().rename(columns={\"index\":\"SYMPTOM\"}).sort_values(by=\"COUNT\", ascending=False)[1:]\n",
        "count_df = count_df.drop(columns=[\"SYMPTOM1\", \"SYMPTOM2\", \"SYMPTOM3\", \"SYMPTOM4\", \"SYMPTOM5\"])\n",
        "count_df[:20]"
      ],
      "execution_count": 133,
      "outputs": [
        {
          "output_type": "execute_result",
          "data": {
            "text/html": [
              "<div>\n",
              "<style scoped>\n",
              "    .dataframe tbody tr th:only-of-type {\n",
              "        vertical-align: middle;\n",
              "    }\n",
              "\n",
              "    .dataframe tbody tr th {\n",
              "        vertical-align: top;\n",
              "    }\n",
              "\n",
              "    .dataframe thead th {\n",
              "        text-align: right;\n",
              "    }\n",
              "</style>\n",
              "<table border=\"1\" class=\"dataframe\">\n",
              "  <thead>\n",
              "    <tr style=\"text-align: right;\">\n",
              "      <th></th>\n",
              "      <th>SYMPTOM</th>\n",
              "      <th>COUNT</th>\n",
              "    </tr>\n",
              "  </thead>\n",
              "  <tbody>\n",
              "    <tr>\n",
              "      <th>1824</th>\n",
              "      <td>Headache</td>\n",
              "      <td>7334.0</td>\n",
              "    </tr>\n",
              "    <tr>\n",
              "      <th>3240</th>\n",
              "      <td>Pyrexia</td>\n",
              "      <td>5950.0</td>\n",
              "    </tr>\n",
              "    <tr>\n",
              "      <th>963</th>\n",
              "      <td>Chills</td>\n",
              "      <td>5591.0</td>\n",
              "    </tr>\n",
              "    <tr>\n",
              "      <th>1556</th>\n",
              "      <td>Fatigue</td>\n",
              "      <td>5324.0</td>\n",
              "    </tr>\n",
              "    <tr>\n",
              "      <th>2881</th>\n",
              "      <td>Pain</td>\n",
              "      <td>4890.0</td>\n",
              "    </tr>\n",
              "    <tr>\n",
              "      <th>2690</th>\n",
              "      <td>Nausea</td>\n",
              "      <td>4219.0</td>\n",
              "    </tr>\n",
              "    <tr>\n",
              "      <th>1283</th>\n",
              "      <td>Dizziness</td>\n",
              "      <td>3523.0</td>\n",
              "    </tr>\n",
              "    <tr>\n",
              "      <th>2883</th>\n",
              "      <td>Pain in extremity</td>\n",
              "      <td>3159.0</td>\n",
              "    </tr>\n",
              "    <tr>\n",
              "      <th>2635</th>\n",
              "      <td>Myalgia</td>\n",
              "      <td>2911.0</td>\n",
              "    </tr>\n",
              "    <tr>\n",
              "      <th>2154</th>\n",
              "      <td>Injection site pain</td>\n",
              "      <td>2807.0</td>\n",
              "    </tr>\n",
              "    <tr>\n",
              "      <th>2128</th>\n",
              "      <td>Injection site erythema</td>\n",
              "      <td>2237.0</td>\n",
              "    </tr>\n",
              "    <tr>\n",
              "      <th>1323</th>\n",
              "      <td>Dyspnoea</td>\n",
              "      <td>2158.0</td>\n",
              "    </tr>\n",
              "    <tr>\n",
              "      <th>296</th>\n",
              "      <td>Arthralgia</td>\n",
              "      <td>2141.0</td>\n",
              "    </tr>\n",
              "    <tr>\n",
              "      <th>4165</th>\n",
              "      <td>Vomiting</td>\n",
              "      <td>1793.0</td>\n",
              "    </tr>\n",
              "    <tr>\n",
              "      <th>3189</th>\n",
              "      <td>Pruritus</td>\n",
              "      <td>1773.0</td>\n",
              "    </tr>\n",
              "    <tr>\n",
              "      <th>1186</th>\n",
              "      <td>Death</td>\n",
              "      <td>1734.0</td>\n",
              "    </tr>\n",
              "    <tr>\n",
              "      <th>2167</th>\n",
              "      <td>Injection site swelling</td>\n",
              "      <td>1686.0</td>\n",
              "    </tr>\n",
              "    <tr>\n",
              "      <th>3255</th>\n",
              "      <td>Rash</td>\n",
              "      <td>1648.0</td>\n",
              "    </tr>\n",
              "    <tr>\n",
              "      <th>318</th>\n",
              "      <td>Asthenia</td>\n",
              "      <td>1578.0</td>\n",
              "    </tr>\n",
              "    <tr>\n",
              "      <th>2159</th>\n",
              "      <td>Injection site pruritus</td>\n",
              "      <td>1407.0</td>\n",
              "    </tr>\n",
              "  </tbody>\n",
              "</table>\n",
              "</div>"
            ],
            "text/plain": [
              "                      SYMPTOM   COUNT\n",
              "1824                 Headache  7334.0\n",
              "3240                  Pyrexia  5950.0\n",
              "963                    Chills  5591.0\n",
              "1556                  Fatigue  5324.0\n",
              "2881                     Pain  4890.0\n",
              "2690                   Nausea  4219.0\n",
              "1283                Dizziness  3523.0\n",
              "2883        Pain in extremity  3159.0\n",
              "2635                  Myalgia  2911.0\n",
              "2154      Injection site pain  2807.0\n",
              "2128  Injection site erythema  2237.0\n",
              "1323                 Dyspnoea  2158.0\n",
              "296                Arthralgia  2141.0\n",
              "4165                 Vomiting  1793.0\n",
              "3189                 Pruritus  1773.0\n",
              "1186                    Death  1734.0\n",
              "2167  Injection site swelling  1686.0\n",
              "3255                     Rash  1648.0\n",
              "318                  Asthenia  1578.0\n",
              "2159  Injection site pruritus  1407.0"
            ]
          },
          "metadata": {
            "tags": []
          },
          "execution_count": 133
        }
      ]
    },
    {
      "cell_type": "code",
      "metadata": {
        "colab": {
          "base_uri": "https://localhost:8080/",
          "height": 297
        },
        "id": "Egp-ZOfql3Bz",
        "outputId": "475c174e-1f3f-4d9c-ab09-d953329f40e5"
      },
      "source": [
        "x = [1, 2, 3, 4, 5, 6, 7, 8, 9, 10]\n",
        "y = count_df['COUNT'][:10]\n",
        "\n",
        "labels = count_df['SYMPTOM'][:10]\n",
        "plt.plot(x, y, marker='o')\n",
        "plt.ylabel('Count')\n",
        "plt.xlabel('Symptom')\n",
        "plt.xticks(x, labels, rotation='vertical')\n",
        "plt.tight_layout()\n",
        "plt.show()"
      ],
      "execution_count": 134,
      "outputs": [
        {
          "output_type": "display_data",
          "data": {
            "image/png": "[encoded data removed]",
            "text/plain": [
              "<Figure size 432x288 with 1 Axes>"
            ]
          },
          "metadata": {
            "tags": [],
            "needs_background": "light"
          }
        }
      ]
    },
    {
      "cell_type": "code",
      "metadata": {
        "colab": {
          "base_uri": "https://localhost:8080/"
        },
        "id": "y-uvO6LuPLCR",
        "outputId": "3d5ed120-9d50-4133-8101-324f2fb76440"
      },
      "source": [
        "df['VAX_MANU'].value_counts()"
      ],
      "execution_count": 135,
      "outputs": [
        {
          "output_type": "execute_result",
          "data": {
            "text/plain": [
              "PFIZER\\BIONTECH                      23617\n",
              "MODERNA                              23173\n",
              "JANSSEN                               1513\n",
              "UNKNOWN MANUFACTURER                   301\n",
              "MERCK & CO. INC.                       147\n",
              "GLAXOSMITHKLINE BIOLOGICALS            124\n",
              "SANOFI PASTEUR                          81\n",
              "SEQIRUS, INC.                           20\n",
              "PFIZER\\WYETH                            19\n",
              "PROTEIN SCIENCES CORPORATION            12\n",
              "NOVARTIS VACCINES AND DIAGNOSTICS        9\n",
              "MEDIMMUNE VACCINES, INC.                 2\n",
              "BERNA BIOTECH, LTD.                      1\n",
              "DYNAVAX TECHNOLOGIES CORPORATION         1\n",
              "EMERGENT BIOSOLUTIONS                    1\n",
              "Name: VAX_MANU, dtype: int64"
            ]
          },
          "metadata": {
            "tags": []
          },
          "execution_count": 135
        }
      ]
    },
    {
      "cell_type": "code",
      "metadata": {
        "colab": {
          "base_uri": "https://localhost:8080/",
          "height": 847
        },
        "id": "VnUYUD_hVPxK",
        "outputId": "588f4883-c302-4ad3-a62b-e8a898bbd221"
      },
      "source": [
        "vax_df = df.copy()\n",
        "vax_df"
      ],
      "execution_count": 136,
      "outputs": [
        {
          "output_type": "execute_result",
          "data": {
            "text/html": [
              "<div>\n",
              "<style scoped>\n",
              "    .dataframe tbody tr th:only-of-type {\n",
              "        vertical-align: middle;\n",
              "    }\n",
              "\n",
              "    .dataframe tbody tr th {\n",
              "        vertical-align: top;\n",
              "    }\n",
              "\n",
              "    .dataframe thead th {\n",
              "        text-align: right;\n",
              "    }\n",
              "</style>\n",
              "<table border=\"1\" class=\"dataframe\">\n",
              "  <thead>\n",
              "    <tr style=\"text-align: right;\">\n",
              "      <th></th>\n",
              "      <th>VAERS_ID</th>\n",
              "      <th>SYMPTOM1</th>\n",
              "      <th>SYMPTOMVERSION1</th>\n",
              "      <th>SYMPTOM2</th>\n",
              "      <th>SYMPTOMVERSION2</th>\n",
              "      <th>SYMPTOM3</th>\n",
              "      <th>SYMPTOMVERSION3</th>\n",
              "      <th>SYMPTOM4</th>\n",
              "      <th>SYMPTOMVERSION4</th>\n",
              "      <th>SYMPTOM5</th>\n",
              "      <th>SYMPTOMVERSION5</th>\n",
              "      <th>VAX_TYPE</th>\n",
              "      <th>VAX_MANU</th>\n",
              "      <th>VAX_LOT</th>\n",
              "      <th>VAX_DOSE_SERIES</th>\n",
              "      <th>VAX_ROUTE</th>\n",
              "      <th>VAX_SITE</th>\n",
              "      <th>VAX_NAME</th>\n",
              "    </tr>\n",
              "  </thead>\n",
              "  <tbody>\n",
              "    <tr>\n",
              "      <th>0</th>\n",
              "      <td>916600</td>\n",
              "      <td>Dysphagia</td>\n",
              "      <td>23.1</td>\n",
              "      <td>Epiglottitis</td>\n",
              "      <td>23.1</td>\n",
              "      <td>No symptom</td>\n",
              "      <td>NaN</td>\n",
              "      <td>No symptom</td>\n",
              "      <td>NaN</td>\n",
              "      <td>No symptom</td>\n",
              "      <td>NaN</td>\n",
              "      <td>COVID19</td>\n",
              "      <td>MODERNA</td>\n",
              "      <td>037K20A</td>\n",
              "      <td>1</td>\n",
              "      <td>IM</td>\n",
              "      <td>LA</td>\n",
              "      <td>COVID19 (COVID19 (MODERNA))</td>\n",
              "    </tr>\n",
              "    <tr>\n",
              "      <th>1</th>\n",
              "      <td>916601</td>\n",
              "      <td>Anxiety</td>\n",
              "      <td>23.1</td>\n",
              "      <td>Dyspnoea</td>\n",
              "      <td>23.1</td>\n",
              "      <td>No symptom</td>\n",
              "      <td>NaN</td>\n",
              "      <td>No symptom</td>\n",
              "      <td>NaN</td>\n",
              "      <td>No symptom</td>\n",
              "      <td>NaN</td>\n",
              "      <td>COVID19</td>\n",
              "      <td>MODERNA</td>\n",
              "      <td>025L20A</td>\n",
              "      <td>1</td>\n",
              "      <td>IM</td>\n",
              "      <td>RA</td>\n",
              "      <td>COVID19 (COVID19 (MODERNA))</td>\n",
              "    </tr>\n",
              "    <tr>\n",
              "      <th>2</th>\n",
              "      <td>916602</td>\n",
              "      <td>Chest discomfort</td>\n",
              "      <td>23.1</td>\n",
              "      <td>Dysphagia</td>\n",
              "      <td>23.1</td>\n",
              "      <td>Pain in extremity</td>\n",
              "      <td>23.1</td>\n",
              "      <td>Visual impairment</td>\n",
              "      <td>23.1</td>\n",
              "      <td>No symptom</td>\n",
              "      <td>NaN</td>\n",
              "      <td>COVID19</td>\n",
              "      <td>PFIZER\\BIONTECH</td>\n",
              "      <td>EL1284</td>\n",
              "      <td>1</td>\n",
              "      <td>IM</td>\n",
              "      <td>LA</td>\n",
              "      <td>COVID19 (COVID19 (PFIZER-BIONTECH))</td>\n",
              "    </tr>\n",
              "    <tr>\n",
              "      <th>3</th>\n",
              "      <td>916603</td>\n",
              "      <td>Dizziness</td>\n",
              "      <td>23.1</td>\n",
              "      <td>Fatigue</td>\n",
              "      <td>23.1</td>\n",
              "      <td>Mobility decreased</td>\n",
              "      <td>23.1</td>\n",
              "      <td>No symptom</td>\n",
              "      <td>NaN</td>\n",
              "      <td>No symptom</td>\n",
              "      <td>NaN</td>\n",
              "      <td>COVID19</td>\n",
              "      <td>MODERNA</td>\n",
              "      <td>unknown</td>\n",
              "      <td>UNK</td>\n",
              "      <td>NaN</td>\n",
              "      <td>NaN</td>\n",
              "      <td>COVID19 (COVID19 (MODERNA))</td>\n",
              "    </tr>\n",
              "    <tr>\n",
              "      <th>4</th>\n",
              "      <td>916604</td>\n",
              "      <td>Injection site erythema</td>\n",
              "      <td>23.1</td>\n",
              "      <td>Injection site pruritus</td>\n",
              "      <td>23.1</td>\n",
              "      <td>Injection site swelling</td>\n",
              "      <td>23.1</td>\n",
              "      <td>Injection site warmth</td>\n",
              "      <td>23.1</td>\n",
              "      <td>No symptom</td>\n",
              "      <td>NaN</td>\n",
              "      <td>COVID19</td>\n",
              "      <td>MODERNA</td>\n",
              "      <td>NaN</td>\n",
              "      <td>1</td>\n",
              "      <td>IM</td>\n",
              "      <td>LA</td>\n",
              "      <td>COVID19 (COVID19 (MODERNA))</td>\n",
              "    </tr>\n",
              "    <tr>\n",
              "      <th>...</th>\n",
              "      <td>...</td>\n",
              "      <td>...</td>\n",
              "      <td>...</td>\n",
              "      <td>...</td>\n",
              "      <td>...</td>\n",
              "      <td>...</td>\n",
              "      <td>...</td>\n",
              "      <td>...</td>\n",
              "      <td>...</td>\n",
              "      <td>...</td>\n",
              "      <td>...</td>\n",
              "      <td>...</td>\n",
              "      <td>...</td>\n",
              "      <td>...</td>\n",
              "      <td>...</td>\n",
              "      <td>...</td>\n",
              "      <td>...</td>\n",
              "      <td>...</td>\n",
              "    </tr>\n",
              "    <tr>\n",
              "      <th>49016</th>\n",
              "      <td>1113920</td>\n",
              "      <td>Nasal discomfort</td>\n",
              "      <td>23.1</td>\n",
              "      <td>Night sweats</td>\n",
              "      <td>23.1</td>\n",
              "      <td>Platelet count</td>\n",
              "      <td>23.1</td>\n",
              "      <td>Platelet count decreased</td>\n",
              "      <td>23.1</td>\n",
              "      <td>Pyrexia</td>\n",
              "      <td>23.1</td>\n",
              "      <td>COVID19</td>\n",
              "      <td>PFIZER\\BIONTECH</td>\n",
              "      <td>Unknown</td>\n",
              "      <td>1</td>\n",
              "      <td>NaN</td>\n",
              "      <td>NaN</td>\n",
              "      <td>COVID19 (COVID19 (PFIZER-BIONTECH))</td>\n",
              "    </tr>\n",
              "    <tr>\n",
              "      <th>49017</th>\n",
              "      <td>1113920</td>\n",
              "      <td>Rash</td>\n",
              "      <td>23.1</td>\n",
              "      <td>SARS-CoV-2 test</td>\n",
              "      <td>23.1</td>\n",
              "      <td>No symptom</td>\n",
              "      <td>NaN</td>\n",
              "      <td>No symptom</td>\n",
              "      <td>NaN</td>\n",
              "      <td>No symptom</td>\n",
              "      <td>NaN</td>\n",
              "      <td>COVID19</td>\n",
              "      <td>PFIZER\\BIONTECH</td>\n",
              "      <td>Unknown</td>\n",
              "      <td>1</td>\n",
              "      <td>NaN</td>\n",
              "      <td>NaN</td>\n",
              "      <td>COVID19 (COVID19 (PFIZER-BIONTECH))</td>\n",
              "    </tr>\n",
              "    <tr>\n",
              "      <th>49018</th>\n",
              "      <td>1113963</td>\n",
              "      <td>Haemophagocytic lymphohistiocytosis</td>\n",
              "      <td>23.1</td>\n",
              "      <td>SARS-CoV-2 test</td>\n",
              "      <td>23.1</td>\n",
              "      <td>No symptom</td>\n",
              "      <td>NaN</td>\n",
              "      <td>No symptom</td>\n",
              "      <td>NaN</td>\n",
              "      <td>No symptom</td>\n",
              "      <td>NaN</td>\n",
              "      <td>COVID19</td>\n",
              "      <td>PFIZER\\BIONTECH</td>\n",
              "      <td>EL9264</td>\n",
              "      <td>2</td>\n",
              "      <td>NaN</td>\n",
              "      <td>NaN</td>\n",
              "      <td>COVID19 (COVID19 (PFIZER-BIONTECH))</td>\n",
              "    </tr>\n",
              "    <tr>\n",
              "      <th>49019</th>\n",
              "      <td>1115045</td>\n",
              "      <td>Death</td>\n",
              "      <td>23.1</td>\n",
              "      <td>No symptom</td>\n",
              "      <td>NaN</td>\n",
              "      <td>No symptom</td>\n",
              "      <td>NaN</td>\n",
              "      <td>No symptom</td>\n",
              "      <td>NaN</td>\n",
              "      <td>No symptom</td>\n",
              "      <td>NaN</td>\n",
              "      <td>COVID19</td>\n",
              "      <td>MODERNA</td>\n",
              "      <td>NaN</td>\n",
              "      <td>2</td>\n",
              "      <td>OT</td>\n",
              "      <td>NaN</td>\n",
              "      <td>COVID19 (COVID19 (MODERNA))</td>\n",
              "    </tr>\n",
              "    <tr>\n",
              "      <th>49020</th>\n",
              "      <td>1115348</td>\n",
              "      <td>Death</td>\n",
              "      <td>23.1</td>\n",
              "      <td>No symptom</td>\n",
              "      <td>NaN</td>\n",
              "      <td>No symptom</td>\n",
              "      <td>NaN</td>\n",
              "      <td>No symptom</td>\n",
              "      <td>NaN</td>\n",
              "      <td>No symptom</td>\n",
              "      <td>NaN</td>\n",
              "      <td>COVID19</td>\n",
              "      <td>MODERNA</td>\n",
              "      <td>026A21A</td>\n",
              "      <td>1</td>\n",
              "      <td>OT</td>\n",
              "      <td>LA</td>\n",
              "      <td>COVID19 (COVID19 (MODERNA))</td>\n",
              "    </tr>\n",
              "  </tbody>\n",
              "</table>\n",
              "<p>49021 rows × 18 columns</p>\n",
              "</div>"
            ],
            "text/plain": [
              "       VAERS_ID  ...                             VAX_NAME\n",
              "0        916600  ...          COVID19 (COVID19 (MODERNA))\n",
              "1        916601  ...          COVID19 (COVID19 (MODERNA))\n",
              "2        916602  ...  COVID19 (COVID19 (PFIZER-BIONTECH))\n",
              "3        916603  ...          COVID19 (COVID19 (MODERNA))\n",
              "4        916604  ...          COVID19 (COVID19 (MODERNA))\n",
              "...         ...  ...                                  ...\n",
              "49016   1113920  ...  COVID19 (COVID19 (PFIZER-BIONTECH))\n",
              "49017   1113920  ...  COVID19 (COVID19 (PFIZER-BIONTECH))\n",
              "49018   1113963  ...  COVID19 (COVID19 (PFIZER-BIONTECH))\n",
              "49019   1115045  ...          COVID19 (COVID19 (MODERNA))\n",
              "49020   1115348  ...          COVID19 (COVID19 (MODERNA))\n",
              "\n",
              "[49021 rows x 18 columns]"
            ]
          },
          "metadata": {
            "tags": []
          },
          "execution_count": 136
        }
      ]
    },
    {
      "cell_type": "code",
      "metadata": {
        "colab": {
          "base_uri": "https://localhost:8080/",
          "height": 847
        },
        "id": "EFEcCRqsVa3r",
        "outputId": "52301d84-7820-4d2b-ec90-c69f2ebcb74f"
      },
      "source": [
        "vaxs = ['MODERNA', 'PFIZER\\BIONTECH']\n",
        "\n",
        "vax_df = vax_df[vax_df['VAX_MANU'].isin(vaxs)]\n",
        "vax_df"
      ],
      "execution_count": 137,
      "outputs": [
        {
          "output_type": "execute_result",
          "data": {
            "text/html": [
              "<div>\n",
              "<style scoped>\n",
              "    .dataframe tbody tr th:only-of-type {\n",
              "        vertical-align: middle;\n",
              "    }\n",
              "\n",
              "    .dataframe tbody tr th {\n",
              "        vertical-align: top;\n",
              "    }\n",
              "\n",
              "    .dataframe thead th {\n",
              "        text-align: right;\n",
              "    }\n",
              "</style>\n",
              "<table border=\"1\" class=\"dataframe\">\n",
              "  <thead>\n",
              "    <tr style=\"text-align: right;\">\n",
              "      <th></th>\n",
              "      <th>VAERS_ID</th>\n",
              "      <th>SYMPTOM1</th>\n",
              "      <th>SYMPTOMVERSION1</th>\n",
              "      <th>SYMPTOM2</th>\n",
              "      <th>SYMPTOMVERSION2</th>\n",
              "      <th>SYMPTOM3</th>\n",
              "      <th>SYMPTOMVERSION3</th>\n",
              "      <th>SYMPTOM4</th>\n",
              "      <th>SYMPTOMVERSION4</th>\n",
              "      <th>SYMPTOM5</th>\n",
              "      <th>SYMPTOMVERSION5</th>\n",
              "      <th>VAX_TYPE</th>\n",
              "      <th>VAX_MANU</th>\n",
              "      <th>VAX_LOT</th>\n",
              "      <th>VAX_DOSE_SERIES</th>\n",
              "      <th>VAX_ROUTE</th>\n",
              "      <th>VAX_SITE</th>\n",
              "      <th>VAX_NAME</th>\n",
              "    </tr>\n",
              "  </thead>\n",
              "  <tbody>\n",
              "    <tr>\n",
              "      <th>0</th>\n",
              "      <td>916600</td>\n",
              "      <td>Dysphagia</td>\n",
              "      <td>23.1</td>\n",
              "      <td>Epiglottitis</td>\n",
              "      <td>23.1</td>\n",
              "      <td>No symptom</td>\n",
              "      <td>NaN</td>\n",
              "      <td>No symptom</td>\n",
              "      <td>NaN</td>\n",
              "      <td>No symptom</td>\n",
              "      <td>NaN</td>\n",
              "      <td>COVID19</td>\n",
              "      <td>MODERNA</td>\n",
              "      <td>037K20A</td>\n",
              "      <td>1</td>\n",
              "      <td>IM</td>\n",
              "      <td>LA</td>\n",
              "      <td>COVID19 (COVID19 (MODERNA))</td>\n",
              "    </tr>\n",
              "    <tr>\n",
              "      <th>1</th>\n",
              "      <td>916601</td>\n",
              "      <td>Anxiety</td>\n",
              "      <td>23.1</td>\n",
              "      <td>Dyspnoea</td>\n",
              "      <td>23.1</td>\n",
              "      <td>No symptom</td>\n",
              "      <td>NaN</td>\n",
              "      <td>No symptom</td>\n",
              "      <td>NaN</td>\n",
              "      <td>No symptom</td>\n",
              "      <td>NaN</td>\n",
              "      <td>COVID19</td>\n",
              "      <td>MODERNA</td>\n",
              "      <td>025L20A</td>\n",
              "      <td>1</td>\n",
              "      <td>IM</td>\n",
              "      <td>RA</td>\n",
              "      <td>COVID19 (COVID19 (MODERNA))</td>\n",
              "    </tr>\n",
              "    <tr>\n",
              "      <th>2</th>\n",
              "      <td>916602</td>\n",
              "      <td>Chest discomfort</td>\n",
              "      <td>23.1</td>\n",
              "      <td>Dysphagia</td>\n",
              "      <td>23.1</td>\n",
              "      <td>Pain in extremity</td>\n",
              "      <td>23.1</td>\n",
              "      <td>Visual impairment</td>\n",
              "      <td>23.1</td>\n",
              "      <td>No symptom</td>\n",
              "      <td>NaN</td>\n",
              "      <td>COVID19</td>\n",
              "      <td>PFIZER\\BIONTECH</td>\n",
              "      <td>EL1284</td>\n",
              "      <td>1</td>\n",
              "      <td>IM</td>\n",
              "      <td>LA</td>\n",
              "      <td>COVID19 (COVID19 (PFIZER-BIONTECH))</td>\n",
              "    </tr>\n",
              "    <tr>\n",
              "      <th>3</th>\n",
              "      <td>916603</td>\n",
              "      <td>Dizziness</td>\n",
              "      <td>23.1</td>\n",
              "      <td>Fatigue</td>\n",
              "      <td>23.1</td>\n",
              "      <td>Mobility decreased</td>\n",
              "      <td>23.1</td>\n",
              "      <td>No symptom</td>\n",
              "      <td>NaN</td>\n",
              "      <td>No symptom</td>\n",
              "      <td>NaN</td>\n",
              "      <td>COVID19</td>\n",
              "      <td>MODERNA</td>\n",
              "      <td>unknown</td>\n",
              "      <td>UNK</td>\n",
              "      <td>NaN</td>\n",
              "      <td>NaN</td>\n",
              "      <td>COVID19 (COVID19 (MODERNA))</td>\n",
              "    </tr>\n",
              "    <tr>\n",
              "      <th>4</th>\n",
              "      <td>916604</td>\n",
              "      <td>Injection site erythema</td>\n",
              "      <td>23.1</td>\n",
              "      <td>Injection site pruritus</td>\n",
              "      <td>23.1</td>\n",
              "      <td>Injection site swelling</td>\n",
              "      <td>23.1</td>\n",
              "      <td>Injection site warmth</td>\n",
              "      <td>23.1</td>\n",
              "      <td>No symptom</td>\n",
              "      <td>NaN</td>\n",
              "      <td>COVID19</td>\n",
              "      <td>MODERNA</td>\n",
              "      <td>NaN</td>\n",
              "      <td>1</td>\n",
              "      <td>IM</td>\n",
              "      <td>LA</td>\n",
              "      <td>COVID19 (COVID19 (MODERNA))</td>\n",
              "    </tr>\n",
              "    <tr>\n",
              "      <th>...</th>\n",
              "      <td>...</td>\n",
              "      <td>...</td>\n",
              "      <td>...</td>\n",
              "      <td>...</td>\n",
              "      <td>...</td>\n",
              "      <td>...</td>\n",
              "      <td>...</td>\n",
              "      <td>...</td>\n",
              "      <td>...</td>\n",
              "      <td>...</td>\n",
              "      <td>...</td>\n",
              "      <td>...</td>\n",
              "      <td>...</td>\n",
              "      <td>...</td>\n",
              "      <td>...</td>\n",
              "      <td>...</td>\n",
              "      <td>...</td>\n",
              "      <td>...</td>\n",
              "    </tr>\n",
              "    <tr>\n",
              "      <th>49016</th>\n",
              "      <td>1113920</td>\n",
              "      <td>Nasal discomfort</td>\n",
              "      <td>23.1</td>\n",
              "      <td>Night sweats</td>\n",
              "      <td>23.1</td>\n",
              "      <td>Platelet count</td>\n",
              "      <td>23.1</td>\n",
              "      <td>Platelet count decreased</td>\n",
              "      <td>23.1</td>\n",
              "      <td>Pyrexia</td>\n",
              "      <td>23.1</td>\n",
              "      <td>COVID19</td>\n",
              "      <td>PFIZER\\BIONTECH</td>\n",
              "      <td>Unknown</td>\n",
              "      <td>1</td>\n",
              "      <td>NaN</td>\n",
              "      <td>NaN</td>\n",
              "      <td>COVID19 (COVID19 (PFIZER-BIONTECH))</td>\n",
              "    </tr>\n",
              "    <tr>\n",
              "      <th>49017</th>\n",
              "      <td>1113920</td>\n",
              "      <td>Rash</td>\n",
              "      <td>23.1</td>\n",
              "      <td>SARS-CoV-2 test</td>\n",
              "      <td>23.1</td>\n",
              "      <td>No symptom</td>\n",
              "      <td>NaN</td>\n",
              "      <td>No symptom</td>\n",
              "      <td>NaN</td>\n",
              "      <td>No symptom</td>\n",
              "      <td>NaN</td>\n",
              "      <td>COVID19</td>\n",
              "      <td>PFIZER\\BIONTECH</td>\n",
              "      <td>Unknown</td>\n",
              "      <td>1</td>\n",
              "      <td>NaN</td>\n",
              "      <td>NaN</td>\n",
              "      <td>COVID19 (COVID19 (PFIZER-BIONTECH))</td>\n",
              "    </tr>\n",
              "    <tr>\n",
              "      <th>49018</th>\n",
              "      <td>1113963</td>\n",
              "      <td>Haemophagocytic lymphohistiocytosis</td>\n",
              "      <td>23.1</td>\n",
              "      <td>SARS-CoV-2 test</td>\n",
              "      <td>23.1</td>\n",
              "      <td>No symptom</td>\n",
              "      <td>NaN</td>\n",
              "      <td>No symptom</td>\n",
              "      <td>NaN</td>\n",
              "      <td>No symptom</td>\n",
              "      <td>NaN</td>\n",
              "      <td>COVID19</td>\n",
              "      <td>PFIZER\\BIONTECH</td>\n",
              "      <td>EL9264</td>\n",
              "      <td>2</td>\n",
              "      <td>NaN</td>\n",
              "      <td>NaN</td>\n",
              "      <td>COVID19 (COVID19 (PFIZER-BIONTECH))</td>\n",
              "    </tr>\n",
              "    <tr>\n",
              "      <th>49019</th>\n",
              "      <td>1115045</td>\n",
              "      <td>Death</td>\n",
              "      <td>23.1</td>\n",
              "      <td>No symptom</td>\n",
              "      <td>NaN</td>\n",
              "      <td>No symptom</td>\n",
              "      <td>NaN</td>\n",
              "      <td>No symptom</td>\n",
              "      <td>NaN</td>\n",
              "      <td>No symptom</td>\n",
              "      <td>NaN</td>\n",
              "      <td>COVID19</td>\n",
              "      <td>MODERNA</td>\n",
              "      <td>NaN</td>\n",
              "      <td>2</td>\n",
              "      <td>OT</td>\n",
              "      <td>NaN</td>\n",
              "      <td>COVID19 (COVID19 (MODERNA))</td>\n",
              "    </tr>\n",
              "    <tr>\n",
              "      <th>49020</th>\n",
              "      <td>1115348</td>\n",
              "      <td>Death</td>\n",
              "      <td>23.1</td>\n",
              "      <td>No symptom</td>\n",
              "      <td>NaN</td>\n",
              "      <td>No symptom</td>\n",
              "      <td>NaN</td>\n",
              "      <td>No symptom</td>\n",
              "      <td>NaN</td>\n",
              "      <td>No symptom</td>\n",
              "      <td>NaN</td>\n",
              "      <td>COVID19</td>\n",
              "      <td>MODERNA</td>\n",
              "      <td>026A21A</td>\n",
              "      <td>1</td>\n",
              "      <td>OT</td>\n",
              "      <td>LA</td>\n",
              "      <td>COVID19 (COVID19 (MODERNA))</td>\n",
              "    </tr>\n",
              "  </tbody>\n",
              "</table>\n",
              "<p>46790 rows × 18 columns</p>\n",
              "</div>"
            ],
            "text/plain": [
              "       VAERS_ID  ...                             VAX_NAME\n",
              "0        916600  ...          COVID19 (COVID19 (MODERNA))\n",
              "1        916601  ...          COVID19 (COVID19 (MODERNA))\n",
              "2        916602  ...  COVID19 (COVID19 (PFIZER-BIONTECH))\n",
              "3        916603  ...          COVID19 (COVID19 (MODERNA))\n",
              "4        916604  ...          COVID19 (COVID19 (MODERNA))\n",
              "...         ...  ...                                  ...\n",
              "49016   1113920  ...  COVID19 (COVID19 (PFIZER-BIONTECH))\n",
              "49017   1113920  ...  COVID19 (COVID19 (PFIZER-BIONTECH))\n",
              "49018   1113963  ...  COVID19 (COVID19 (PFIZER-BIONTECH))\n",
              "49019   1115045  ...          COVID19 (COVID19 (MODERNA))\n",
              "49020   1115348  ...          COVID19 (COVID19 (MODERNA))\n",
              "\n",
              "[46790 rows x 18 columns]"
            ]
          },
          "metadata": {
            "tags": []
          },
          "execution_count": 137
        }
      ]
    },
    {
      "cell_type": "code",
      "metadata": {
        "id": "gBqDhn8PVa0u",
        "colab": {
          "base_uri": "https://localhost:8080/"
        },
        "outputId": "3cc5ea46-ecc9-41fa-bf76-6ccf6c17b586"
      },
      "source": [
        "vax_df.drop(columns=['VAERS_ID', 'VAX_LOT',\t'VAX_DOSE_SERIES',\t'VAX_ROUTE',\t'VAX_SITE',\t'VAX_NAME', 'VAX_TYPE', \\\n",
        "                     'SYMPTOMVERSION1', 'SYMPTOMVERSION2', 'SYMPTOMVERSION3', 'SYMPTOMVERSION4', 'SYMPTOMVERSION5'], inplace=True)\n"
      ],
      "execution_count": 138,
      "outputs": [
        {
          "output_type": "stream",
          "text": [
            "/usr/local/lib/python3.7/dist-packages/pandas/core/frame.py:4174: SettingWithCopyWarning: \n",
            "A value is trying to be set on a copy of a slice from a DataFrame\n",
            "\n",
            "See the caveats in the documentation: https://pandas.pydata.org/pandas-docs/stable/user_guide/indexing.html#returning-a-view-versus-a-copy\n",
            "  errors=errors,\n"
          ],
          "name": "stderr"
        }
      ]
    },
    {
      "cell_type": "code",
      "metadata": {
        "id": "f2Wst4o2Va6s"
      },
      "source": [
        "vax_df = pd.concat([vax_df, pd.get_dummies(vax_df['VAX_MANU'], prefix='VAX')],axis=1)"
      ],
      "execution_count": 139,
      "outputs": []
    },
    {
      "cell_type": "code",
      "metadata": {
        "colab": {
          "base_uri": "https://localhost:8080/",
          "height": 419
        },
        "id": "6SX-Rm_lbFAM",
        "outputId": "7d44db50-9012-46b8-a03f-b17bdedf12a1"
      },
      "source": [
        "vax_df"
      ],
      "execution_count": 140,
      "outputs": [
        {
          "output_type": "execute_result",
          "data": {
            "text/html": [
              "<div>\n",
              "<style scoped>\n",
              "    .dataframe tbody tr th:only-of-type {\n",
              "        vertical-align: middle;\n",
              "    }\n",
              "\n",
              "    .dataframe tbody tr th {\n",
              "        vertical-align: top;\n",
              "    }\n",
              "\n",
              "    .dataframe thead th {\n",
              "        text-align: right;\n",
              "    }\n",
              "</style>\n",
              "<table border=\"1\" class=\"dataframe\">\n",
              "  <thead>\n",
              "    <tr style=\"text-align: right;\">\n",
              "      <th></th>\n",
              "      <th>SYMPTOM1</th>\n",
              "      <th>SYMPTOM2</th>\n",
              "      <th>SYMPTOM3</th>\n",
              "      <th>SYMPTOM4</th>\n",
              "      <th>SYMPTOM5</th>\n",
              "      <th>VAX_MANU</th>\n",
              "      <th>VAX_MODERNA</th>\n",
              "      <th>VAX_PFIZER\\BIONTECH</th>\n",
              "    </tr>\n",
              "  </thead>\n",
              "  <tbody>\n",
              "    <tr>\n",
              "      <th>0</th>\n",
              "      <td>Dysphagia</td>\n",
              "      <td>Epiglottitis</td>\n",
              "      <td>No symptom</td>\n",
              "      <td>No symptom</td>\n",
              "      <td>No symptom</td>\n",
              "      <td>MODERNA</td>\n",
              "      <td>1</td>\n",
              "      <td>0</td>\n",
              "    </tr>\n",
              "    <tr>\n",
              "      <th>1</th>\n",
              "      <td>Anxiety</td>\n",
              "      <td>Dyspnoea</td>\n",
              "      <td>No symptom</td>\n",
              "      <td>No symptom</td>\n",
              "      <td>No symptom</td>\n",
              "      <td>MODERNA</td>\n",
              "      <td>1</td>\n",
              "      <td>0</td>\n",
              "    </tr>\n",
              "    <tr>\n",
              "      <th>2</th>\n",
              "      <td>Chest discomfort</td>\n",
              "      <td>Dysphagia</td>\n",
              "      <td>Pain in extremity</td>\n",
              "      <td>Visual impairment</td>\n",
              "      <td>No symptom</td>\n",
              "      <td>PFIZER\\BIONTECH</td>\n",
              "      <td>0</td>\n",
              "      <td>1</td>\n",
              "    </tr>\n",
              "    <tr>\n",
              "      <th>3</th>\n",
              "      <td>Dizziness</td>\n",
              "      <td>Fatigue</td>\n",
              "      <td>Mobility decreased</td>\n",
              "      <td>No symptom</td>\n",
              "      <td>No symptom</td>\n",
              "      <td>MODERNA</td>\n",
              "      <td>1</td>\n",
              "      <td>0</td>\n",
              "    </tr>\n",
              "    <tr>\n",
              "      <th>4</th>\n",
              "      <td>Injection site erythema</td>\n",
              "      <td>Injection site pruritus</td>\n",
              "      <td>Injection site swelling</td>\n",
              "      <td>Injection site warmth</td>\n",
              "      <td>No symptom</td>\n",
              "      <td>MODERNA</td>\n",
              "      <td>1</td>\n",
              "      <td>0</td>\n",
              "    </tr>\n",
              "    <tr>\n",
              "      <th>...</th>\n",
              "      <td>...</td>\n",
              "      <td>...</td>\n",
              "      <td>...</td>\n",
              "      <td>...</td>\n",
              "      <td>...</td>\n",
              "      <td>...</td>\n",
              "      <td>...</td>\n",
              "      <td>...</td>\n",
              "    </tr>\n",
              "    <tr>\n",
              "      <th>49016</th>\n",
              "      <td>Nasal discomfort</td>\n",
              "      <td>Night sweats</td>\n",
              "      <td>Platelet count</td>\n",
              "      <td>Platelet count decreased</td>\n",
              "      <td>Pyrexia</td>\n",
              "      <td>PFIZER\\BIONTECH</td>\n",
              "      <td>0</td>\n",
              "      <td>1</td>\n",
              "    </tr>\n",
              "    <tr>\n",
              "      <th>49017</th>\n",
              "      <td>Rash</td>\n",
              "      <td>SARS-CoV-2 test</td>\n",
              "      <td>No symptom</td>\n",
              "      <td>No symptom</td>\n",
              "      <td>No symptom</td>\n",
              "      <td>PFIZER\\BIONTECH</td>\n",
              "      <td>0</td>\n",
              "      <td>1</td>\n",
              "    </tr>\n",
              "    <tr>\n",
              "      <th>49018</th>\n",
              "      <td>Haemophagocytic lymphohistiocytosis</td>\n",
              "      <td>SARS-CoV-2 test</td>\n",
              "      <td>No symptom</td>\n",
              "      <td>No symptom</td>\n",
              "      <td>No symptom</td>\n",
              "      <td>PFIZER\\BIONTECH</td>\n",
              "      <td>0</td>\n",
              "      <td>1</td>\n",
              "    </tr>\n",
              "    <tr>\n",
              "      <th>49019</th>\n",
              "      <td>Death</td>\n",
              "      <td>No symptom</td>\n",
              "      <td>No symptom</td>\n",
              "      <td>No symptom</td>\n",
              "      <td>No symptom</td>\n",
              "      <td>MODERNA</td>\n",
              "      <td>1</td>\n",
              "      <td>0</td>\n",
              "    </tr>\n",
              "    <tr>\n",
              "      <th>49020</th>\n",
              "      <td>Death</td>\n",
              "      <td>No symptom</td>\n",
              "      <td>No symptom</td>\n",
              "      <td>No symptom</td>\n",
              "      <td>No symptom</td>\n",
              "      <td>MODERNA</td>\n",
              "      <td>1</td>\n",
              "      <td>0</td>\n",
              "    </tr>\n",
              "  </tbody>\n",
              "</table>\n",
              "<p>46790 rows × 8 columns</p>\n",
              "</div>"
            ],
            "text/plain": [
              "                                  SYMPTOM1  ... VAX_PFIZER\\BIONTECH\n",
              "0                                Dysphagia  ...                   0\n",
              "1                                  Anxiety  ...                   0\n",
              "2                         Chest discomfort  ...                   1\n",
              "3                                Dizziness  ...                   0\n",
              "4                  Injection site erythema  ...                   0\n",
              "...                                    ...  ...                 ...\n",
              "49016                     Nasal discomfort  ...                   1\n",
              "49017                                 Rash  ...                   1\n",
              "49018  Haemophagocytic lymphohistiocytosis  ...                   1\n",
              "49019                                Death  ...                   0\n",
              "49020                                Death  ...                   0\n",
              "\n",
              "[46790 rows x 8 columns]"
            ]
          },
          "metadata": {
            "tags": []
          },
          "execution_count": 140
        }
      ]
    },
    {
      "cell_type": "code",
      "metadata": {
        "colab": {
          "base_uri": "https://localhost:8080/",
          "height": 419
        },
        "id": "qoWRi7kEVa9z",
        "outputId": "9249dd1b-d2cd-4b66-c764-e14417bad6e3"
      },
      "source": [
        "vax_df.drop(columns='VAX_MANU')"
      ],
      "execution_count": 141,
      "outputs": [
        {
          "output_type": "execute_result",
          "data": {
            "text/html": [
              "<div>\n",
              "<style scoped>\n",
              "    .dataframe tbody tr th:only-of-type {\n",
              "        vertical-align: middle;\n",
              "    }\n",
              "\n",
              "    .dataframe tbody tr th {\n",
              "        vertical-align: top;\n",
              "    }\n",
              "\n",
              "    .dataframe thead th {\n",
              "        text-align: right;\n",
              "    }\n",
              "</style>\n",
              "<table border=\"1\" class=\"dataframe\">\n",
              "  <thead>\n",
              "    <tr style=\"text-align: right;\">\n",
              "      <th></th>\n",
              "      <th>SYMPTOM1</th>\n",
              "      <th>SYMPTOM2</th>\n",
              "      <th>SYMPTOM3</th>\n",
              "      <th>SYMPTOM4</th>\n",
              "      <th>SYMPTOM5</th>\n",
              "      <th>VAX_MODERNA</th>\n",
              "      <th>VAX_PFIZER\\BIONTECH</th>\n",
              "    </tr>\n",
              "  </thead>\n",
              "  <tbody>\n",
              "    <tr>\n",
              "      <th>0</th>\n",
              "      <td>Dysphagia</td>\n",
              "      <td>Epiglottitis</td>\n",
              "      <td>No symptom</td>\n",
              "      <td>No symptom</td>\n",
              "      <td>No symptom</td>\n",
              "      <td>1</td>\n",
              "      <td>0</td>\n",
              "    </tr>\n",
              "    <tr>\n",
              "      <th>1</th>\n",
              "      <td>Anxiety</td>\n",
              "      <td>Dyspnoea</td>\n",
              "      <td>No symptom</td>\n",
              "      <td>No symptom</td>\n",
              "      <td>No symptom</td>\n",
              "      <td>1</td>\n",
              "      <td>0</td>\n",
              "    </tr>\n",
              "    <tr>\n",
              "      <th>2</th>\n",
              "      <td>Chest discomfort</td>\n",
              "      <td>Dysphagia</td>\n",
              "      <td>Pain in extremity</td>\n",
              "      <td>Visual impairment</td>\n",
              "      <td>No symptom</td>\n",
              "      <td>0</td>\n",
              "      <td>1</td>\n",
              "    </tr>\n",
              "    <tr>\n",
              "      <th>3</th>\n",
              "      <td>Dizziness</td>\n",
              "      <td>Fatigue</td>\n",
              "      <td>Mobility decreased</td>\n",
              "      <td>No symptom</td>\n",
              "      <td>No symptom</td>\n",
              "      <td>1</td>\n",
              "      <td>0</td>\n",
              "    </tr>\n",
              "    <tr>\n",
              "      <th>4</th>\n",
              "      <td>Injection site erythema</td>\n",
              "      <td>Injection site pruritus</td>\n",
              "      <td>Injection site swelling</td>\n",
              "      <td>Injection site warmth</td>\n",
              "      <td>No symptom</td>\n",
              "      <td>1</td>\n",
              "      <td>0</td>\n",
              "    </tr>\n",
              "    <tr>\n",
              "      <th>...</th>\n",
              "      <td>...</td>\n",
              "      <td>...</td>\n",
              "      <td>...</td>\n",
              "      <td>...</td>\n",
              "      <td>...</td>\n",
              "      <td>...</td>\n",
              "      <td>...</td>\n",
              "    </tr>\n",
              "    <tr>\n",
              "      <th>49016</th>\n",
              "      <td>Nasal discomfort</td>\n",
              "      <td>Night sweats</td>\n",
              "      <td>Platelet count</td>\n",
              "      <td>Platelet count decreased</td>\n",
              "      <td>Pyrexia</td>\n",
              "      <td>0</td>\n",
              "      <td>1</td>\n",
              "    </tr>\n",
              "    <tr>\n",
              "      <th>49017</th>\n",
              "      <td>Rash</td>\n",
              "      <td>SARS-CoV-2 test</td>\n",
              "      <td>No symptom</td>\n",
              "      <td>No symptom</td>\n",
              "      <td>No symptom</td>\n",
              "      <td>0</td>\n",
              "      <td>1</td>\n",
              "    </tr>\n",
              "    <tr>\n",
              "      <th>49018</th>\n",
              "      <td>Haemophagocytic lymphohistiocytosis</td>\n",
              "      <td>SARS-CoV-2 test</td>\n",
              "      <td>No symptom</td>\n",
              "      <td>No symptom</td>\n",
              "      <td>No symptom</td>\n",
              "      <td>0</td>\n",
              "      <td>1</td>\n",
              "    </tr>\n",
              "    <tr>\n",
              "      <th>49019</th>\n",
              "      <td>Death</td>\n",
              "      <td>No symptom</td>\n",
              "      <td>No symptom</td>\n",
              "      <td>No symptom</td>\n",
              "      <td>No symptom</td>\n",
              "      <td>1</td>\n",
              "      <td>0</td>\n",
              "    </tr>\n",
              "    <tr>\n",
              "      <th>49020</th>\n",
              "      <td>Death</td>\n",
              "      <td>No symptom</td>\n",
              "      <td>No symptom</td>\n",
              "      <td>No symptom</td>\n",
              "      <td>No symptom</td>\n",
              "      <td>1</td>\n",
              "      <td>0</td>\n",
              "    </tr>\n",
              "  </tbody>\n",
              "</table>\n",
              "<p>46790 rows × 7 columns</p>\n",
              "</div>"
            ],
            "text/plain": [
              "                                  SYMPTOM1  ... VAX_PFIZER\\BIONTECH\n",
              "0                                Dysphagia  ...                   0\n",
              "1                                  Anxiety  ...                   0\n",
              "2                         Chest discomfort  ...                   1\n",
              "3                                Dizziness  ...                   0\n",
              "4                  Injection site erythema  ...                   0\n",
              "...                                    ...  ...                 ...\n",
              "49016                     Nasal discomfort  ...                   1\n",
              "49017                                 Rash  ...                   1\n",
              "49018  Haemophagocytic lymphohistiocytosis  ...                   1\n",
              "49019                                Death  ...                   0\n",
              "49020                                Death  ...                   0\n",
              "\n",
              "[46790 rows x 7 columns]"
            ]
          },
          "metadata": {
            "tags": []
          },
          "execution_count": 141
        }
      ]
    },
    {
      "cell_type": "code",
      "metadata": {
        "colab": {
          "base_uri": "https://localhost:8080/",
          "height": 419
        },
        "id": "CVUMVa2tf6LD",
        "outputId": "ed424ab4-f205-4cac-a3ef-d62284398b18"
      },
      "source": [
        "symptom_df = pd.DataFrame()\n",
        "symptom_df[\"SYMPTOM\"] = vax_df['SYMPTOM1']\n",
        "symptom_df[\"VAX_MODERNA\"] = vax_df['VAX_MODERNA']\n",
        "symptom_df[\"VAX_PFIZER\\BIONTECH\"] = vax_df['VAX_PFIZER\\BIONTECH']\n",
        "\n",
        "symptom2_df = pd.DataFrame()\n",
        "symptom2_df[\"SYMPTOM\"] = vax_df['SYMPTOM2']\n",
        "symptom2_df[\"VAX_MODERNA\"] = vax_df['VAX_MODERNA']\n",
        "symptom2_df[\"VAX_PFIZER\\BIONTECH\"] = vax_df['VAX_PFIZER\\BIONTECH']\n",
        "\n",
        "symptom3_df = pd.DataFrame()\n",
        "symptom3_df[\"SYMPTOM\"] = vax_df['SYMPTOM3']\n",
        "symptom3_df[\"VAX_MODERNA\"] = vax_df['VAX_MODERNA']\n",
        "symptom3_df[\"VAX_PFIZER\\BIONTECH\"] = vax_df['VAX_PFIZER\\BIONTECH']\n",
        "\n",
        "symptom4_df = pd.DataFrame()\n",
        "symptom4_df[\"SYMPTOM\"] = vax_df['SYMPTOM4']\n",
        "symptom4_df[\"VAX_MODERNA\"] = vax_df['VAX_MODERNA']\n",
        "symptom4_df[\"VAX_PFIZER\\BIONTECH\"] = vax_df['VAX_PFIZER\\BIONTECH']\n",
        "\n",
        "symptom5_df = pd.DataFrame()\n",
        "symptom5_df[\"SYMPTOM\"] = vax_df['SYMPTOM5']\n",
        "symptom5_df[\"VAX_MODERNA\"] = vax_df['VAX_MODERNA']\n",
        "symptom5_df[\"VAX_PFIZER\\BIONTECH\"] = vax_df['VAX_PFIZER\\BIONTECH']\n",
        "\n",
        "symptom_df = symptom_df.append(symptom2_df)\n",
        "symptom_df = symptom_df.append(symptom3_df)\n",
        "symptom_df = symptom_df.append(symptom4_df)\n",
        "symptom_df = symptom_df.append(symptom5_df)\n",
        "symptom_df"
      ],
      "execution_count": 172,
      "outputs": [
        {
          "output_type": "execute_result",
          "data": {
            "text/html": [
              "<div>\n",
              "<style scoped>\n",
              "    .dataframe tbody tr th:only-of-type {\n",
              "        vertical-align: middle;\n",
              "    }\n",
              "\n",
              "    .dataframe tbody tr th {\n",
              "        vertical-align: top;\n",
              "    }\n",
              "\n",
              "    .dataframe thead th {\n",
              "        text-align: right;\n",
              "    }\n",
              "</style>\n",
              "<table border=\"1\" class=\"dataframe\">\n",
              "  <thead>\n",
              "    <tr style=\"text-align: right;\">\n",
              "      <th></th>\n",
              "      <th>SYMPTOM</th>\n",
              "      <th>VAX_MODERNA</th>\n",
              "      <th>VAX_PFIZER\\BIONTECH</th>\n",
              "    </tr>\n",
              "  </thead>\n",
              "  <tbody>\n",
              "    <tr>\n",
              "      <th>0</th>\n",
              "      <td>Dysphagia</td>\n",
              "      <td>1</td>\n",
              "      <td>0</td>\n",
              "    </tr>\n",
              "    <tr>\n",
              "      <th>1</th>\n",
              "      <td>Anxiety</td>\n",
              "      <td>1</td>\n",
              "      <td>0</td>\n",
              "    </tr>\n",
              "    <tr>\n",
              "      <th>2</th>\n",
              "      <td>Chest discomfort</td>\n",
              "      <td>0</td>\n",
              "      <td>1</td>\n",
              "    </tr>\n",
              "    <tr>\n",
              "      <th>3</th>\n",
              "      <td>Dizziness</td>\n",
              "      <td>1</td>\n",
              "      <td>0</td>\n",
              "    </tr>\n",
              "    <tr>\n",
              "      <th>4</th>\n",
              "      <td>Injection site erythema</td>\n",
              "      <td>1</td>\n",
              "      <td>0</td>\n",
              "    </tr>\n",
              "    <tr>\n",
              "      <th>...</th>\n",
              "      <td>...</td>\n",
              "      <td>...</td>\n",
              "      <td>...</td>\n",
              "    </tr>\n",
              "    <tr>\n",
              "      <th>49016</th>\n",
              "      <td>Pyrexia</td>\n",
              "      <td>0</td>\n",
              "      <td>1</td>\n",
              "    </tr>\n",
              "    <tr>\n",
              "      <th>49017</th>\n",
              "      <td>No symptom</td>\n",
              "      <td>0</td>\n",
              "      <td>1</td>\n",
              "    </tr>\n",
              "    <tr>\n",
              "      <th>49018</th>\n",
              "      <td>No symptom</td>\n",
              "      <td>0</td>\n",
              "      <td>1</td>\n",
              "    </tr>\n",
              "    <tr>\n",
              "      <th>49019</th>\n",
              "      <td>No symptom</td>\n",
              "      <td>1</td>\n",
              "      <td>0</td>\n",
              "    </tr>\n",
              "    <tr>\n",
              "      <th>49020</th>\n",
              "      <td>No symptom</td>\n",
              "      <td>1</td>\n",
              "      <td>0</td>\n",
              "    </tr>\n",
              "  </tbody>\n",
              "</table>\n",
              "<p>233950 rows × 3 columns</p>\n",
              "</div>"
            ],
            "text/plain": [
              "                       SYMPTOM  VAX_MODERNA  VAX_PFIZER\\BIONTECH\n",
              "0                    Dysphagia            1                    0\n",
              "1                      Anxiety            1                    0\n",
              "2             Chest discomfort            0                    1\n",
              "3                    Dizziness            1                    0\n",
              "4      Injection site erythema            1                    0\n",
              "...                        ...          ...                  ...\n",
              "49016                  Pyrexia            0                    1\n",
              "49017               No symptom            0                    1\n",
              "49018               No symptom            0                    1\n",
              "49019               No symptom            1                    0\n",
              "49020               No symptom            1                    0\n",
              "\n",
              "[233950 rows x 3 columns]"
            ]
          },
          "metadata": {
            "tags": []
          },
          "execution_count": 172
        }
      ]
    },
    {
      "cell_type": "code",
      "metadata": {
        "colab": {
          "base_uri": "https://localhost:8080/",
          "height": 419
        },
        "id": "ZD-X4HBeVbBx",
        "outputId": "ac907ef4-fe47-4c24-b04a-96cfbb3bac35"
      },
      "source": [
        "symptom_df = symptom_df.groupby(['SYMPTOM']).sum().sort_values(['VAX_MODERNA','VAX_PFIZER\\BIONTECH'],ascending=False)\n",
        "symptom_df = symptom_df.reset_index()\n",
        "symptom_df[\"COUNT\"] = symptom_df.sum(axis=1)\n",
        "symptom_df.drop(index=0, inplace=True)\n",
        "symptom_df"
      ],
      "execution_count": 173,
      "outputs": [
        {
          "output_type": "execute_result",
          "data": {
            "text/html": [
              "<div>\n",
              "<style scoped>\n",
              "    .dataframe tbody tr th:only-of-type {\n",
              "        vertical-align: middle;\n",
              "    }\n",
              "\n",
              "    .dataframe tbody tr th {\n",
              "        vertical-align: top;\n",
              "    }\n",
              "\n",
              "    .dataframe thead th {\n",
              "        text-align: right;\n",
              "    }\n",
              "</style>\n",
              "<table border=\"1\" class=\"dataframe\">\n",
              "  <thead>\n",
              "    <tr style=\"text-align: right;\">\n",
              "      <th></th>\n",
              "      <th>SYMPTOM</th>\n",
              "      <th>VAX_MODERNA</th>\n",
              "      <th>VAX_PFIZER\\BIONTECH</th>\n",
              "      <th>COUNT</th>\n",
              "    </tr>\n",
              "  </thead>\n",
              "  <tbody>\n",
              "    <tr>\n",
              "      <th>1</th>\n",
              "      <td>Headache</td>\n",
              "      <td>3249.0</td>\n",
              "      <td>3549.0</td>\n",
              "      <td>6798.0</td>\n",
              "    </tr>\n",
              "    <tr>\n",
              "      <th>2</th>\n",
              "      <td>Pyrexia</td>\n",
              "      <td>2774.0</td>\n",
              "      <td>2651.0</td>\n",
              "      <td>5425.0</td>\n",
              "    </tr>\n",
              "    <tr>\n",
              "      <th>3</th>\n",
              "      <td>Chills</td>\n",
              "      <td>2460.0</td>\n",
              "      <td>2607.0</td>\n",
              "      <td>5067.0</td>\n",
              "    </tr>\n",
              "    <tr>\n",
              "      <th>4</th>\n",
              "      <td>Fatigue</td>\n",
              "      <td>2418.0</td>\n",
              "      <td>2556.0</td>\n",
              "      <td>4974.0</td>\n",
              "    </tr>\n",
              "    <tr>\n",
              "      <th>5</th>\n",
              "      <td>Pain</td>\n",
              "      <td>2201.0</td>\n",
              "      <td>2325.0</td>\n",
              "      <td>4526.0</td>\n",
              "    </tr>\n",
              "    <tr>\n",
              "      <th>...</th>\n",
              "      <td>...</td>\n",
              "      <td>...</td>\n",
              "      <td>...</td>\n",
              "      <td>...</td>\n",
              "    </tr>\n",
              "    <tr>\n",
              "      <th>4113</th>\n",
              "      <td>Wound drainage</td>\n",
              "      <td>0.0</td>\n",
              "      <td>1.0</td>\n",
              "      <td>1.0</td>\n",
              "    </tr>\n",
              "    <tr>\n",
              "      <th>4114</th>\n",
              "      <td>Wound infection staphylococcal</td>\n",
              "      <td>0.0</td>\n",
              "      <td>1.0</td>\n",
              "      <td>1.0</td>\n",
              "    </tr>\n",
              "    <tr>\n",
              "      <th>4115</th>\n",
              "      <td>X-ray dental</td>\n",
              "      <td>0.0</td>\n",
              "      <td>1.0</td>\n",
              "      <td>1.0</td>\n",
              "    </tr>\n",
              "    <tr>\n",
              "      <th>4116</th>\n",
              "      <td>X-ray with contrast upper gastrointestinal tra...</td>\n",
              "      <td>0.0</td>\n",
              "      <td>1.0</td>\n",
              "      <td>1.0</td>\n",
              "    </tr>\n",
              "    <tr>\n",
              "      <th>4117</th>\n",
              "      <td>Xanthopsia</td>\n",
              "      <td>0.0</td>\n",
              "      <td>1.0</td>\n",
              "      <td>1.0</td>\n",
              "    </tr>\n",
              "  </tbody>\n",
              "</table>\n",
              "<p>4117 rows × 4 columns</p>\n",
              "</div>"
            ],
            "text/plain": [
              "                                                SYMPTOM  ...   COUNT\n",
              "1                                              Headache  ...  6798.0\n",
              "2                                               Pyrexia  ...  5425.0\n",
              "3                                                Chills  ...  5067.0\n",
              "4                                               Fatigue  ...  4974.0\n",
              "5                                                  Pain  ...  4526.0\n",
              "...                                                 ...  ...     ...\n",
              "4113                                     Wound drainage  ...     1.0\n",
              "4114                     Wound infection staphylococcal  ...     1.0\n",
              "4115                                       X-ray dental  ...     1.0\n",
              "4116  X-ray with contrast upper gastrointestinal tra...  ...     1.0\n",
              "4117                                         Xanthopsia  ...     1.0\n",
              "\n",
              "[4117 rows x 4 columns]"
            ]
          },
          "metadata": {
            "tags": []
          },
          "execution_count": 173
        }
      ]
    },
    {
      "cell_type": "code",
      "metadata": {
        "colab": {
          "base_uri": "https://localhost:8080/",
          "height": 419
        },
        "id": "Yh2M3LTXlaow",
        "outputId": "ca0c8344-624c-4b8f-89e9-33606e5cf201"
      },
      "source": [
        "symptom_df"
      ],
      "execution_count": 174,
      "outputs": [
        {
          "output_type": "execute_result",
          "data": {
            "text/html": [
              "<div>\n",
              "<style scoped>\n",
              "    .dataframe tbody tr th:only-of-type {\n",
              "        vertical-align: middle;\n",
              "    }\n",
              "\n",
              "    .dataframe tbody tr th {\n",
              "        vertical-align: top;\n",
              "    }\n",
              "\n",
              "    .dataframe thead th {\n",
              "        text-align: right;\n",
              "    }\n",
              "</style>\n",
              "<table border=\"1\" class=\"dataframe\">\n",
              "  <thead>\n",
              "    <tr style=\"text-align: right;\">\n",
              "      <th></th>\n",
              "      <th>SYMPTOM</th>\n",
              "      <th>VAX_MODERNA</th>\n",
              "      <th>VAX_PFIZER\\BIONTECH</th>\n",
              "      <th>COUNT</th>\n",
              "    </tr>\n",
              "  </thead>\n",
              "  <tbody>\n",
              "    <tr>\n",
              "      <th>1</th>\n",
              "      <td>Headache</td>\n",
              "      <td>3249.0</td>\n",
              "      <td>3549.0</td>\n",
              "      <td>6798.0</td>\n",
              "    </tr>\n",
              "    <tr>\n",
              "      <th>2</th>\n",
              "      <td>Pyrexia</td>\n",
              "      <td>2774.0</td>\n",
              "      <td>2651.0</td>\n",
              "      <td>5425.0</td>\n",
              "    </tr>\n",
              "    <tr>\n",
              "      <th>3</th>\n",
              "      <td>Chills</td>\n",
              "      <td>2460.0</td>\n",
              "      <td>2607.0</td>\n",
              "      <td>5067.0</td>\n",
              "    </tr>\n",
              "    <tr>\n",
              "      <th>4</th>\n",
              "      <td>Fatigue</td>\n",
              "      <td>2418.0</td>\n",
              "      <td>2556.0</td>\n",
              "      <td>4974.0</td>\n",
              "    </tr>\n",
              "    <tr>\n",
              "      <th>5</th>\n",
              "      <td>Pain</td>\n",
              "      <td>2201.0</td>\n",
              "      <td>2325.0</td>\n",
              "      <td>4526.0</td>\n",
              "    </tr>\n",
              "    <tr>\n",
              "      <th>...</th>\n",
              "      <td>...</td>\n",
              "      <td>...</td>\n",
              "      <td>...</td>\n",
              "      <td>...</td>\n",
              "    </tr>\n",
              "    <tr>\n",
              "      <th>4113</th>\n",
              "      <td>Wound drainage</td>\n",
              "      <td>0.0</td>\n",
              "      <td>1.0</td>\n",
              "      <td>1.0</td>\n",
              "    </tr>\n",
              "    <tr>\n",
              "      <th>4114</th>\n",
              "      <td>Wound infection staphylococcal</td>\n",
              "      <td>0.0</td>\n",
              "      <td>1.0</td>\n",
              "      <td>1.0</td>\n",
              "    </tr>\n",
              "    <tr>\n",
              "      <th>4115</th>\n",
              "      <td>X-ray dental</td>\n",
              "      <td>0.0</td>\n",
              "      <td>1.0</td>\n",
              "      <td>1.0</td>\n",
              "    </tr>\n",
              "    <tr>\n",
              "      <th>4116</th>\n",
              "      <td>X-ray with contrast upper gastrointestinal tra...</td>\n",
              "      <td>0.0</td>\n",
              "      <td>1.0</td>\n",
              "      <td>1.0</td>\n",
              "    </tr>\n",
              "    <tr>\n",
              "      <th>4117</th>\n",
              "      <td>Xanthopsia</td>\n",
              "      <td>0.0</td>\n",
              "      <td>1.0</td>\n",
              "      <td>1.0</td>\n",
              "    </tr>\n",
              "  </tbody>\n",
              "</table>\n",
              "<p>4117 rows × 4 columns</p>\n",
              "</div>"
            ],
            "text/plain": [
              "                                                SYMPTOM  ...   COUNT\n",
              "1                                              Headache  ...  6798.0\n",
              "2                                               Pyrexia  ...  5425.0\n",
              "3                                                Chills  ...  5067.0\n",
              "4                                               Fatigue  ...  4974.0\n",
              "5                                                  Pain  ...  4526.0\n",
              "...                                                 ...  ...     ...\n",
              "4113                                     Wound drainage  ...     1.0\n",
              "4114                     Wound infection staphylococcal  ...     1.0\n",
              "4115                                       X-ray dental  ...     1.0\n",
              "4116  X-ray with contrast upper gastrointestinal tra...  ...     1.0\n",
              "4117                                         Xanthopsia  ...     1.0\n",
              "\n",
              "[4117 rows x 4 columns]"
            ]
          },
          "metadata": {
            "tags": []
          },
          "execution_count": 174
        }
      ]
    },
    {
      "cell_type": "code",
      "metadata": {
        "colab": {
          "base_uri": "https://localhost:8080/",
          "height": 513
        },
        "id": "xQaJuHz-ppZv",
        "outputId": "7fac7434-f032-4e0b-ed33-bdac6cd47e4d"
      },
      "source": [
        "x = [1, 2, 3, 4, 5, 6, 7, 8, 9, 10, 11, 12, 13, 14, 15, 16, 17, 18, 19, 20]\n",
        "y = symptom_df['VAX_MODERNA'][:20]\n",
        "y2 = symptom_df['VAX_PFIZER\\BIONTECH'][:20]\n",
        "labels = symptom_df['SYMPTOM'][:20]\n",
        "\n",
        "plt.subplots(figsize=(10, 7))\n",
        "plt.plot(x, y, marker='o', label='MODERNA')\n",
        "plt.plot(x, y2, marker='o', label='PFIZER')\n",
        "plt.xticks(x, labels, rotation='vertical')\n",
        "plt.ylabel('Count')\n",
        "plt.xlabel('Symptom')\n",
        "plt.tight_layout()\n",
        "plt.legend()\n",
        "plt.show()\n"
      ],
      "execution_count": 183,
      "outputs": [
        {
          "output_type": "display_data",
          "data": {
            "image/png": "[encoded data removed]",
            "text/plain": [
              "<Figure size 720x504 with 1 Axes>"
            ]
          },
          "metadata": {
            "tags": [],
            "needs_background": "light"
          }
        }
      ]
    }
  ]
}