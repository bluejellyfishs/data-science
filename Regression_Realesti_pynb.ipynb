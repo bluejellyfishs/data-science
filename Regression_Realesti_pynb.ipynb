{
  "nbformat": 4,
  "nbformat_minor": 0,
  "metadata": {
    "colab": {
      "name": "Regression-Realesti.pynb",
      "provenance": []
    },
    "kernelspec": {
      "name": "python3",
      "display_name": "Python 3"
    },
    "language_info": {
      "name": "python"
    }
  },
  "cells": [
    {
      "cell_type": "code",
      "metadata": {
        "colab": {
          "base_uri": "https://localhost:8080/"
        },
        "id": "CH1JG0SxFcgH",
        "outputId": "d2b50236-be02-4ec2-ca39-a0260bc2d7c4"
      },
      "source": [
        "!gdown --id 1ihs_nWFW09VqvRYGZ3PauuomAZjR9bnR"
      ],
      "execution_count": null,
      "outputs": [
        {
          "output_type": "stream",
          "text": [
            "Downloading...\n",
            "From: https://drive.google.com/uc?id=1ihs_nWFW09VqvRYGZ3PauuomAZjR9bnR\n",
            "To: /content/realest.csv\n",
            "\r  0% 0.00/4.08k [00:00<?, ?B/s]\r100% 4.08k/4.08k [00:00<00:00, 8.95MB/s]\n"
          ],
          "name": "stdout"
        }
      ]
    },
    {
      "cell_type": "markdown",
      "metadata": {
        "id": "rtg27v0QG27h"
      },
      "source": [
        "# **Pipeline**\n",
        "\n",
        "1. Collect\n",
        "2. List item\n",
        "3. Extract Features\n",
        "4. Split Training and test\n",
        "5. Train\n",
        "6. Evalute\n",
        "7. Create Pipeline\n",
        "8. Deployment\n",
        "\n"
      ]
    },
    {
      "cell_type": "markdown",
      "metadata": {
        "id": "DFVHNs5zI1_7"
      },
      "source": [
        "# 1. Collect Dataset"
      ]
    },
    {
      "cell_type": "code",
      "metadata": {
        "id": "76BYwjTlIz85"
      },
      "source": [
        "import pandas as pd\n",
        "import numpy as np"
      ],
      "execution_count": null,
      "outputs": []
    },
    {
      "cell_type": "code",
      "metadata": {
        "id": "Xfr-6UBKmWqL"
      },
      "source": [
        "import matplotlib.pyplot as plt\n",
        "import seaborn as sns\n",
        "%matplotlib inline"
      ],
      "execution_count": null,
      "outputs": []
    },
    {
      "cell_type": "code",
      "metadata": {
        "colab": {
          "base_uri": "https://localhost:8080/",
          "height": 419
        },
        "id": "-SHG7j-1JFmb",
        "outputId": "20ec4673-de99-4b5b-8ffc-4b0818294ba9"
      },
      "source": [
        "valuation_df = pd.read_csv('realest.csv')[:-1]\n",
        "valuation_df"
      ],
      "execution_count": null,
      "outputs": [
        {
          "output_type": "execute_result",
          "data": {
            "text/html": [
              "<div>\n",
              "<style scoped>\n",
              "    .dataframe tbody tr th:only-of-type {\n",
              "        vertical-align: middle;\n",
              "    }\n",
              "\n",
              "    .dataframe tbody tr th {\n",
              "        vertical-align: top;\n",
              "    }\n",
              "\n",
              "    .dataframe thead th {\n",
              "        text-align: right;\n",
              "    }\n",
              "</style>\n",
              "<table border=\"1\" class=\"dataframe\">\n",
              "  <thead>\n",
              "    <tr style=\"text-align: right;\">\n",
              "      <th></th>\n",
              "      <th>Price</th>\n",
              "      <th>Bedroom</th>\n",
              "      <th>Space</th>\n",
              "      <th>Room</th>\n",
              "      <th>Lot</th>\n",
              "      <th>Tax</th>\n",
              "      <th>Bathroom</th>\n",
              "      <th>Garage</th>\n",
              "      <th>Condition</th>\n",
              "    </tr>\n",
              "  </thead>\n",
              "  <tbody>\n",
              "    <tr>\n",
              "      <th>0</th>\n",
              "      <td>53.0</td>\n",
              "      <td>2.0</td>\n",
              "      <td>967.0</td>\n",
              "      <td>5.0</td>\n",
              "      <td>39.0</td>\n",
              "      <td>652.0</td>\n",
              "      <td>1.5</td>\n",
              "      <td>0.0</td>\n",
              "      <td>0.0</td>\n",
              "    </tr>\n",
              "    <tr>\n",
              "      <th>1</th>\n",
              "      <td>55.0</td>\n",
              "      <td>2.0</td>\n",
              "      <td>815.0</td>\n",
              "      <td>5.0</td>\n",
              "      <td>33.0</td>\n",
              "      <td>1000.0</td>\n",
              "      <td>1.0</td>\n",
              "      <td>2.0</td>\n",
              "      <td>1.0</td>\n",
              "    </tr>\n",
              "    <tr>\n",
              "      <th>2</th>\n",
              "      <td>56.0</td>\n",
              "      <td>3.0</td>\n",
              "      <td>900.0</td>\n",
              "      <td>5.0</td>\n",
              "      <td>35.0</td>\n",
              "      <td>897.0</td>\n",
              "      <td>1.5</td>\n",
              "      <td>1.0</td>\n",
              "      <td>0.0</td>\n",
              "    </tr>\n",
              "    <tr>\n",
              "      <th>3</th>\n",
              "      <td>58.0</td>\n",
              "      <td>3.0</td>\n",
              "      <td>1007.0</td>\n",
              "      <td>6.0</td>\n",
              "      <td>24.0</td>\n",
              "      <td>964.0</td>\n",
              "      <td>1.5</td>\n",
              "      <td>2.0</td>\n",
              "      <td>0.0</td>\n",
              "    </tr>\n",
              "    <tr>\n",
              "      <th>4</th>\n",
              "      <td>64.0</td>\n",
              "      <td>3.0</td>\n",
              "      <td>1100.0</td>\n",
              "      <td>7.0</td>\n",
              "      <td>50.0</td>\n",
              "      <td>1099.0</td>\n",
              "      <td>1.5</td>\n",
              "      <td>1.5</td>\n",
              "      <td>0.0</td>\n",
              "    </tr>\n",
              "    <tr>\n",
              "      <th>...</th>\n",
              "      <td>...</td>\n",
              "      <td>...</td>\n",
              "      <td>...</td>\n",
              "      <td>...</td>\n",
              "      <td>...</td>\n",
              "      <td>...</td>\n",
              "      <td>...</td>\n",
              "      <td>...</td>\n",
              "      <td>...</td>\n",
              "    </tr>\n",
              "    <tr>\n",
              "      <th>151</th>\n",
              "      <td>42.0</td>\n",
              "      <td>3.0</td>\n",
              "      <td>585.0</td>\n",
              "      <td>5.0</td>\n",
              "      <td>50.0</td>\n",
              "      <td>713.0</td>\n",
              "      <td>1.0</td>\n",
              "      <td>0.0</td>\n",
              "      <td>0.0</td>\n",
              "    </tr>\n",
              "    <tr>\n",
              "      <th>152</th>\n",
              "      <td>44.0</td>\n",
              "      <td>3.0</td>\n",
              "      <td>820.0</td>\n",
              "      <td>5.0</td>\n",
              "      <td>27.0</td>\n",
              "      <td>NaN</td>\n",
              "      <td>1.0</td>\n",
              "      <td>0.0</td>\n",
              "      <td>1.0</td>\n",
              "    </tr>\n",
              "    <tr>\n",
              "      <th>153</th>\n",
              "      <td>43.0</td>\n",
              "      <td>2.0</td>\n",
              "      <td>593.0</td>\n",
              "      <td>4.0</td>\n",
              "      <td>30.0</td>\n",
              "      <td>465.0</td>\n",
              "      <td>2.0</td>\n",
              "      <td>1.0</td>\n",
              "      <td>0.0</td>\n",
              "    </tr>\n",
              "    <tr>\n",
              "      <th>154</th>\n",
              "      <td>53.0</td>\n",
              "      <td>3.0</td>\n",
              "      <td>716.0</td>\n",
              "      <td>6.0</td>\n",
              "      <td>30.0</td>\n",
              "      <td>585.0</td>\n",
              "      <td>1.0</td>\n",
              "      <td>2.0</td>\n",
              "      <td>1.0</td>\n",
              "    </tr>\n",
              "    <tr>\n",
              "      <th>155</th>\n",
              "      <td>62.0</td>\n",
              "      <td>4.0</td>\n",
              "      <td>951.0</td>\n",
              "      <td>7.0</td>\n",
              "      <td>30.0</td>\n",
              "      <td>895.0</td>\n",
              "      <td>2.0</td>\n",
              "      <td>1.0</td>\n",
              "      <td>0.0</td>\n",
              "    </tr>\n",
              "  </tbody>\n",
              "</table>\n",
              "<p>156 rows × 9 columns</p>\n",
              "</div>"
            ],
            "text/plain": [
              "     Price  Bedroom   Space  Room   Lot     Tax  Bathroom  Garage  Condition\n",
              "0     53.0      2.0   967.0   5.0  39.0   652.0       1.5     0.0        0.0\n",
              "1     55.0      2.0   815.0   5.0  33.0  1000.0       1.0     2.0        1.0\n",
              "2     56.0      3.0   900.0   5.0  35.0   897.0       1.5     1.0        0.0\n",
              "3     58.0      3.0  1007.0   6.0  24.0   964.0       1.5     2.0        0.0\n",
              "4     64.0      3.0  1100.0   7.0  50.0  1099.0       1.5     1.5        0.0\n",
              "..     ...      ...     ...   ...   ...     ...       ...     ...        ...\n",
              "151   42.0      3.0   585.0   5.0  50.0   713.0       1.0     0.0        0.0\n",
              "152   44.0      3.0   820.0   5.0  27.0     NaN       1.0     0.0        1.0\n",
              "153   43.0      2.0   593.0   4.0  30.0   465.0       2.0     1.0        0.0\n",
              "154   53.0      3.0   716.0   6.0  30.0   585.0       1.0     2.0        1.0\n",
              "155   62.0      4.0   951.0   7.0  30.0   895.0       2.0     1.0        0.0\n",
              "\n",
              "[156 rows x 9 columns]"
            ]
          },
          "metadata": {
            "tags": []
          },
          "execution_count": 4
        }
      ]
    },
    {
      "cell_type": "code",
      "metadata": {
        "colab": {
          "base_uri": "https://localhost:8080/",
          "height": 359
        },
        "id": "cYFrHQ3VJkjr",
        "outputId": "13fef312-bc07-4b12-83d7-39a363689997"
      },
      "source": [
        "valuation_df.tail(10)"
      ],
      "execution_count": null,
      "outputs": [
        {
          "output_type": "execute_result",
          "data": {
            "text/html": [
              "<div>\n",
              "<style scoped>\n",
              "    .dataframe tbody tr th:only-of-type {\n",
              "        vertical-align: middle;\n",
              "    }\n",
              "\n",
              "    .dataframe tbody tr th {\n",
              "        vertical-align: top;\n",
              "    }\n",
              "\n",
              "    .dataframe thead th {\n",
              "        text-align: right;\n",
              "    }\n",
              "</style>\n",
              "<table border=\"1\" class=\"dataframe\">\n",
              "  <thead>\n",
              "    <tr style=\"text-align: right;\">\n",
              "      <th></th>\n",
              "      <th>Price</th>\n",
              "      <th>Bedroom</th>\n",
              "      <th>Space</th>\n",
              "      <th>Room</th>\n",
              "      <th>Lot</th>\n",
              "      <th>Tax</th>\n",
              "      <th>Bathroom</th>\n",
              "      <th>Garage</th>\n",
              "      <th>Condition</th>\n",
              "    </tr>\n",
              "  </thead>\n",
              "  <tbody>\n",
              "    <tr>\n",
              "      <th>146</th>\n",
              "      <td>64.0</td>\n",
              "      <td>2.0</td>\n",
              "      <td>1114.0</td>\n",
              "      <td>7.0</td>\n",
              "      <td>30.0</td>\n",
              "      <td>746.0</td>\n",
              "      <td>2.0</td>\n",
              "      <td>0.0</td>\n",
              "      <td>1.0</td>\n",
              "    </tr>\n",
              "    <tr>\n",
              "      <th>147</th>\n",
              "      <td>66.0</td>\n",
              "      <td>4.0</td>\n",
              "      <td>NaN</td>\n",
              "      <td>8.0</td>\n",
              "      <td>37.0</td>\n",
              "      <td>565.0</td>\n",
              "      <td>2.0</td>\n",
              "      <td>2.0</td>\n",
              "      <td>0.0</td>\n",
              "    </tr>\n",
              "    <tr>\n",
              "      <th>148</th>\n",
              "      <td>69.0</td>\n",
              "      <td>1.0</td>\n",
              "      <td>957.0</td>\n",
              "      <td>5.0</td>\n",
              "      <td>NaN</td>\n",
              "      <td>1287.0</td>\n",
              "      <td>1.0</td>\n",
              "      <td>1.0</td>\n",
              "      <td>0.0</td>\n",
              "    </tr>\n",
              "    <tr>\n",
              "      <th>149</th>\n",
              "      <td>32.0</td>\n",
              "      <td>4.0</td>\n",
              "      <td>1065.0</td>\n",
              "      <td>7.0</td>\n",
              "      <td>25.0</td>\n",
              "      <td>492.0</td>\n",
              "      <td>1.5</td>\n",
              "      <td>0.0</td>\n",
              "      <td>0.0</td>\n",
              "    </tr>\n",
              "    <tr>\n",
              "      <th>150</th>\n",
              "      <td>42.0</td>\n",
              "      <td>2.0</td>\n",
              "      <td>639.0</td>\n",
              "      <td>6.0</td>\n",
              "      <td>25.0</td>\n",
              "      <td>NaN</td>\n",
              "      <td>1.0</td>\n",
              "      <td>0.0</td>\n",
              "      <td>0.0</td>\n",
              "    </tr>\n",
              "    <tr>\n",
              "      <th>151</th>\n",
              "      <td>42.0</td>\n",
              "      <td>3.0</td>\n",
              "      <td>585.0</td>\n",
              "      <td>5.0</td>\n",
              "      <td>50.0</td>\n",
              "      <td>713.0</td>\n",
              "      <td>1.0</td>\n",
              "      <td>0.0</td>\n",
              "      <td>0.0</td>\n",
              "    </tr>\n",
              "    <tr>\n",
              "      <th>152</th>\n",
              "      <td>44.0</td>\n",
              "      <td>3.0</td>\n",
              "      <td>820.0</td>\n",
              "      <td>5.0</td>\n",
              "      <td>27.0</td>\n",
              "      <td>NaN</td>\n",
              "      <td>1.0</td>\n",
              "      <td>0.0</td>\n",
              "      <td>1.0</td>\n",
              "    </tr>\n",
              "    <tr>\n",
              "      <th>153</th>\n",
              "      <td>43.0</td>\n",
              "      <td>2.0</td>\n",
              "      <td>593.0</td>\n",
              "      <td>4.0</td>\n",
              "      <td>30.0</td>\n",
              "      <td>465.0</td>\n",
              "      <td>2.0</td>\n",
              "      <td>1.0</td>\n",
              "      <td>0.0</td>\n",
              "    </tr>\n",
              "    <tr>\n",
              "      <th>154</th>\n",
              "      <td>53.0</td>\n",
              "      <td>3.0</td>\n",
              "      <td>716.0</td>\n",
              "      <td>6.0</td>\n",
              "      <td>30.0</td>\n",
              "      <td>585.0</td>\n",
              "      <td>1.0</td>\n",
              "      <td>2.0</td>\n",
              "      <td>1.0</td>\n",
              "    </tr>\n",
              "    <tr>\n",
              "      <th>155</th>\n",
              "      <td>62.0</td>\n",
              "      <td>4.0</td>\n",
              "      <td>951.0</td>\n",
              "      <td>7.0</td>\n",
              "      <td>30.0</td>\n",
              "      <td>895.0</td>\n",
              "      <td>2.0</td>\n",
              "      <td>1.0</td>\n",
              "      <td>0.0</td>\n",
              "    </tr>\n",
              "  </tbody>\n",
              "</table>\n",
              "</div>"
            ],
            "text/plain": [
              "     Price  Bedroom   Space  Room   Lot     Tax  Bathroom  Garage  Condition\n",
              "146   64.0      2.0  1114.0   7.0  30.0   746.0       2.0     0.0        1.0\n",
              "147   66.0      4.0     NaN   8.0  37.0   565.0       2.0     2.0        0.0\n",
              "148   69.0      1.0   957.0   5.0   NaN  1287.0       1.0     1.0        0.0\n",
              "149   32.0      4.0  1065.0   7.0  25.0   492.0       1.5     0.0        0.0\n",
              "150   42.0      2.0   639.0   6.0  25.0     NaN       1.0     0.0        0.0\n",
              "151   42.0      3.0   585.0   5.0  50.0   713.0       1.0     0.0        0.0\n",
              "152   44.0      3.0   820.0   5.0  27.0     NaN       1.0     0.0        1.0\n",
              "153   43.0      2.0   593.0   4.0  30.0   465.0       2.0     1.0        0.0\n",
              "154   53.0      3.0   716.0   6.0  30.0   585.0       1.0     2.0        1.0\n",
              "155   62.0      4.0   951.0   7.0  30.0   895.0       2.0     1.0        0.0"
            ]
          },
          "metadata": {
            "tags": []
          },
          "execution_count": 5
        }
      ]
    },
    {
      "cell_type": "code",
      "metadata": {
        "id": "fm4Cy8-oJkoj"
      },
      "source": [
        "def collect_data():\n",
        "  valuation_df = pd.read_csv('realest.csv')\n",
        "  return valuation_df"
      ],
      "execution_count": null,
      "outputs": []
    },
    {
      "cell_type": "code",
      "metadata": {
        "colab": {
          "base_uri": "https://localhost:8080/",
          "height": 325
        },
        "id": "599TN1hnmLlQ",
        "outputId": "146116d9-3ef0-495e-c333-7a8f9973aa2c"
      },
      "source": [
        "sns.heatmap(valuation_df.corr())"
      ],
      "execution_count": null,
      "outputs": [
        {
          "output_type": "execute_result",
          "data": {
            "text/plain": [
              "<matplotlib.axes._subplots.AxesSubplot at 0x7fd2c0c84dd0>"
            ]
          },
          "metadata": {
            "tags": []
          },
          "execution_count": 90
        },
        {
          "output_type": "display_data",
          "data": {
            "image/png": "[encoded data removed]",
            "text/plain": [
              "<Figure size 432x288 with 2 Axes>"
            ]
          },
          "metadata": {
            "tags": [],
            "needs_background": "light"
          }
        }
      ]
    },
    {
      "cell_type": "code",
      "metadata": {
        "colab": {
          "base_uri": "https://localhost:8080/",
          "height": 297
        },
        "id": "zjtSgKG-mfpD",
        "outputId": "c5eb89ab-3f23-4b95-cfc7-820d8da1f928"
      },
      "source": [
        "valuation_df.describe()"
      ],
      "execution_count": null,
      "outputs": [
        {
          "output_type": "execute_result",
          "data": {
            "text/html": [
              "<div>\n",
              "<style scoped>\n",
              "    .dataframe tbody tr th:only-of-type {\n",
              "        vertical-align: middle;\n",
              "    }\n",
              "\n",
              "    .dataframe tbody tr th {\n",
              "        vertical-align: top;\n",
              "    }\n",
              "\n",
              "    .dataframe thead th {\n",
              "        text-align: right;\n",
              "    }\n",
              "</style>\n",
              "<table border=\"1\" class=\"dataframe\">\n",
              "  <thead>\n",
              "    <tr style=\"text-align: right;\">\n",
              "      <th></th>\n",
              "      <th>Price</th>\n",
              "      <th>Bedroom</th>\n",
              "      <th>Space</th>\n",
              "      <th>Room</th>\n",
              "      <th>Lot</th>\n",
              "      <th>Tax</th>\n",
              "      <th>Bathroom</th>\n",
              "      <th>Garage</th>\n",
              "      <th>Condition</th>\n",
              "    </tr>\n",
              "  </thead>\n",
              "  <tbody>\n",
              "    <tr>\n",
              "      <th>count</th>\n",
              "      <td>156.000000</td>\n",
              "      <td>156.000000</td>\n",
              "      <td>156.000000</td>\n",
              "      <td>156.000000</td>\n",
              "      <td>156.000000</td>\n",
              "      <td>156.000000</td>\n",
              "      <td>156.000000</td>\n",
              "      <td>156.000000</td>\n",
              "      <td>156.000000</td>\n",
              "    </tr>\n",
              "    <tr>\n",
              "      <th>mean</th>\n",
              "      <td>56.474359</td>\n",
              "      <td>3.166667</td>\n",
              "      <td>1094.410256</td>\n",
              "      <td>6.500000</td>\n",
              "      <td>32.808219</td>\n",
              "      <td>906.474359</td>\n",
              "      <td>1.480769</td>\n",
              "      <td>0.846154</td>\n",
              "      <td>0.230769</td>\n",
              "    </tr>\n",
              "    <tr>\n",
              "      <th>std</th>\n",
              "      <td>12.875307</td>\n",
              "      <td>1.348037</td>\n",
              "      <td>447.503381</td>\n",
              "      <td>1.675247</td>\n",
              "      <td>8.180476</td>\n",
              "      <td>430.724962</td>\n",
              "      <td>0.529408</td>\n",
              "      <td>0.808454</td>\n",
              "      <td>0.422682</td>\n",
              "    </tr>\n",
              "    <tr>\n",
              "      <th>min</th>\n",
              "      <td>32.000000</td>\n",
              "      <td>1.000000</td>\n",
              "      <td>539.000000</td>\n",
              "      <td>4.000000</td>\n",
              "      <td>24.000000</td>\n",
              "      <td>418.000000</td>\n",
              "      <td>1.000000</td>\n",
              "      <td>0.000000</td>\n",
              "      <td>0.000000</td>\n",
              "    </tr>\n",
              "    <tr>\n",
              "      <th>25%</th>\n",
              "      <td>46.000000</td>\n",
              "      <td>2.000000</td>\n",
              "      <td>818.750000</td>\n",
              "      <td>5.000000</td>\n",
              "      <td>25.000000</td>\n",
              "      <td>674.250000</td>\n",
              "      <td>1.000000</td>\n",
              "      <td>0.000000</td>\n",
              "      <td>0.000000</td>\n",
              "    </tr>\n",
              "    <tr>\n",
              "      <th>50%</th>\n",
              "      <td>55.000000</td>\n",
              "      <td>3.000000</td>\n",
              "      <td>1016.500000</td>\n",
              "      <td>6.000000</td>\n",
              "      <td>30.000000</td>\n",
              "      <td>821.000000</td>\n",
              "      <td>1.500000</td>\n",
              "      <td>1.000000</td>\n",
              "      <td>0.000000</td>\n",
              "    </tr>\n",
              "    <tr>\n",
              "      <th>75%</th>\n",
              "      <td>65.000000</td>\n",
              "      <td>4.000000</td>\n",
              "      <td>1183.000000</td>\n",
              "      <td>7.000000</td>\n",
              "      <td>35.500000</td>\n",
              "      <td>986.500000</td>\n",
              "      <td>2.000000</td>\n",
              "      <td>1.500000</td>\n",
              "      <td>0.000000</td>\n",
              "    </tr>\n",
              "    <tr>\n",
              "      <th>max</th>\n",
              "      <td>90.000000</td>\n",
              "      <td>8.000000</td>\n",
              "      <td>2295.000000</td>\n",
              "      <td>12.000000</td>\n",
              "      <td>50.000000</td>\n",
              "      <td>2752.000000</td>\n",
              "      <td>3.000000</td>\n",
              "      <td>2.000000</td>\n",
              "      <td>1.000000</td>\n",
              "    </tr>\n",
              "  </tbody>\n",
              "</table>\n",
              "</div>"
            ],
            "text/plain": [
              "            Price     Bedroom        Space  ...    Bathroom      Garage   Condition\n",
              "count  156.000000  156.000000   156.000000  ...  156.000000  156.000000  156.000000\n",
              "mean    56.474359    3.166667  1094.410256  ...    1.480769    0.846154    0.230769\n",
              "std     12.875307    1.348037   447.503381  ...    0.529408    0.808454    0.422682\n",
              "min     32.000000    1.000000   539.000000  ...    1.000000    0.000000    0.000000\n",
              "25%     46.000000    2.000000   818.750000  ...    1.000000    0.000000    0.000000\n",
              "50%     55.000000    3.000000  1016.500000  ...    1.500000    1.000000    0.000000\n",
              "75%     65.000000    4.000000  1183.000000  ...    2.000000    1.500000    0.000000\n",
              "max     90.000000    8.000000  2295.000000  ...    3.000000    2.000000    1.000000\n",
              "\n",
              "[8 rows x 9 columns]"
            ]
          },
          "metadata": {
            "tags": []
          },
          "execution_count": 91
        }
      ]
    },
    {
      "cell_type": "markdown",
      "metadata": {
        "id": "D6a2Yt-nKIiW"
      },
      "source": [
        "# 2. Clean Data"
      ]
    },
    {
      "cell_type": "code",
      "metadata": {
        "colab": {
          "base_uri": "https://localhost:8080/",
          "height": 359
        },
        "id": "3C2FUCyFKG8h",
        "outputId": "ace79520-2ddf-4664-cdc2-1bf7e22bfb08"
      },
      "source": [
        "valuation_df.head(10)"
      ],
      "execution_count": null,
      "outputs": [
        {
          "output_type": "execute_result",
          "data": {
            "text/html": [
              "<div>\n",
              "<style scoped>\n",
              "    .dataframe tbody tr th:only-of-type {\n",
              "        vertical-align: middle;\n",
              "    }\n",
              "\n",
              "    .dataframe tbody tr th {\n",
              "        vertical-align: top;\n",
              "    }\n",
              "\n",
              "    .dataframe thead th {\n",
              "        text-align: right;\n",
              "    }\n",
              "</style>\n",
              "<table border=\"1\" class=\"dataframe\">\n",
              "  <thead>\n",
              "    <tr style=\"text-align: right;\">\n",
              "      <th></th>\n",
              "      <th>Price</th>\n",
              "      <th>Bedroom</th>\n",
              "      <th>Space</th>\n",
              "      <th>Room</th>\n",
              "      <th>Lot</th>\n",
              "      <th>Tax</th>\n",
              "      <th>Bathroom</th>\n",
              "      <th>Garage</th>\n",
              "      <th>Condition</th>\n",
              "    </tr>\n",
              "  </thead>\n",
              "  <tbody>\n",
              "    <tr>\n",
              "      <th>0</th>\n",
              "      <td>53.0</td>\n",
              "      <td>2.0</td>\n",
              "      <td>967.0</td>\n",
              "      <td>5.0</td>\n",
              "      <td>39.0</td>\n",
              "      <td>652.0</td>\n",
              "      <td>1.5</td>\n",
              "      <td>0.0</td>\n",
              "      <td>0.0</td>\n",
              "    </tr>\n",
              "    <tr>\n",
              "      <th>1</th>\n",
              "      <td>55.0</td>\n",
              "      <td>2.0</td>\n",
              "      <td>815.0</td>\n",
              "      <td>5.0</td>\n",
              "      <td>33.0</td>\n",
              "      <td>1000.0</td>\n",
              "      <td>1.0</td>\n",
              "      <td>2.0</td>\n",
              "      <td>1.0</td>\n",
              "    </tr>\n",
              "    <tr>\n",
              "      <th>2</th>\n",
              "      <td>56.0</td>\n",
              "      <td>3.0</td>\n",
              "      <td>900.0</td>\n",
              "      <td>5.0</td>\n",
              "      <td>35.0</td>\n",
              "      <td>897.0</td>\n",
              "      <td>1.5</td>\n",
              "      <td>1.0</td>\n",
              "      <td>0.0</td>\n",
              "    </tr>\n",
              "    <tr>\n",
              "      <th>3</th>\n",
              "      <td>58.0</td>\n",
              "      <td>3.0</td>\n",
              "      <td>1007.0</td>\n",
              "      <td>6.0</td>\n",
              "      <td>24.0</td>\n",
              "      <td>964.0</td>\n",
              "      <td>1.5</td>\n",
              "      <td>2.0</td>\n",
              "      <td>0.0</td>\n",
              "    </tr>\n",
              "    <tr>\n",
              "      <th>4</th>\n",
              "      <td>64.0</td>\n",
              "      <td>3.0</td>\n",
              "      <td>1100.0</td>\n",
              "      <td>7.0</td>\n",
              "      <td>50.0</td>\n",
              "      <td>1099.0</td>\n",
              "      <td>1.5</td>\n",
              "      <td>1.5</td>\n",
              "      <td>0.0</td>\n",
              "    </tr>\n",
              "    <tr>\n",
              "      <th>5</th>\n",
              "      <td>44.0</td>\n",
              "      <td>4.0</td>\n",
              "      <td>897.0</td>\n",
              "      <td>7.0</td>\n",
              "      <td>25.0</td>\n",
              "      <td>960.0</td>\n",
              "      <td>2.0</td>\n",
              "      <td>1.0</td>\n",
              "      <td>0.0</td>\n",
              "    </tr>\n",
              "    <tr>\n",
              "      <th>6</th>\n",
              "      <td>49.0</td>\n",
              "      <td>5.0</td>\n",
              "      <td>1400.0</td>\n",
              "      <td>8.0</td>\n",
              "      <td>NaN</td>\n",
              "      <td>678.0</td>\n",
              "      <td>1.0</td>\n",
              "      <td>1.0</td>\n",
              "      <td>1.0</td>\n",
              "    </tr>\n",
              "    <tr>\n",
              "      <th>7</th>\n",
              "      <td>70.0</td>\n",
              "      <td>3.0</td>\n",
              "      <td>2261.0</td>\n",
              "      <td>6.0</td>\n",
              "      <td>29.0</td>\n",
              "      <td>2700.0</td>\n",
              "      <td>1.0</td>\n",
              "      <td>2.0</td>\n",
              "      <td>0.0</td>\n",
              "    </tr>\n",
              "    <tr>\n",
              "      <th>8</th>\n",
              "      <td>72.0</td>\n",
              "      <td>4.0</td>\n",
              "      <td>1290.0</td>\n",
              "      <td>8.0</td>\n",
              "      <td>NaN</td>\n",
              "      <td>800.0</td>\n",
              "      <td>1.5</td>\n",
              "      <td>1.5</td>\n",
              "      <td>0.0</td>\n",
              "    </tr>\n",
              "    <tr>\n",
              "      <th>9</th>\n",
              "      <td>82.0</td>\n",
              "      <td>4.0</td>\n",
              "      <td>2104.0</td>\n",
              "      <td>9.0</td>\n",
              "      <td>40.0</td>\n",
              "      <td>1038.0</td>\n",
              "      <td>2.5</td>\n",
              "      <td>1.0</td>\n",
              "      <td>1.0</td>\n",
              "    </tr>\n",
              "  </tbody>\n",
              "</table>\n",
              "</div>"
            ],
            "text/plain": [
              "   Price  Bedroom   Space  Room   Lot     Tax  Bathroom  Garage  Condition\n",
              "0   53.0      2.0   967.0   5.0  39.0   652.0       1.5     0.0        0.0\n",
              "1   55.0      2.0   815.0   5.0  33.0  1000.0       1.0     2.0        1.0\n",
              "2   56.0      3.0   900.0   5.0  35.0   897.0       1.5     1.0        0.0\n",
              "3   58.0      3.0  1007.0   6.0  24.0   964.0       1.5     2.0        0.0\n",
              "4   64.0      3.0  1100.0   7.0  50.0  1099.0       1.5     1.5        0.0\n",
              "5   44.0      4.0   897.0   7.0  25.0   960.0       2.0     1.0        0.0\n",
              "6   49.0      5.0  1400.0   8.0   NaN   678.0       1.0     1.0        1.0\n",
              "7   70.0      3.0  2261.0   6.0  29.0  2700.0       1.0     2.0        0.0\n",
              "8   72.0      4.0  1290.0   8.0   NaN   800.0       1.5     1.5        0.0\n",
              "9   82.0      4.0  2104.0   9.0  40.0  1038.0       2.5     1.0        1.0"
            ]
          },
          "metadata": {
            "tags": []
          },
          "execution_count": 7
        }
      ]
    },
    {
      "cell_type": "code",
      "metadata": {
        "colab": {
          "base_uri": "https://localhost:8080/"
        },
        "id": "fPDf1H_wKG_z",
        "outputId": "261e545c-eb73-4398-e7e7-9353ce02fab6"
      },
      "source": [
        "valuation_df.info()"
      ],
      "execution_count": null,
      "outputs": [
        {
          "output_type": "stream",
          "text": [
            "<class 'pandas.core.frame.DataFrame'>\n",
            "RangeIndex: 156 entries, 0 to 155\n",
            "Data columns (total 9 columns):\n",
            " #   Column     Non-Null Count  Dtype  \n",
            "---  ------     --------------  -----  \n",
            " 0   Price      156 non-null    float64\n",
            " 1   Bedroom    156 non-null    float64\n",
            " 2   Space      146 non-null    float64\n",
            " 3   Room       156 non-null    float64\n",
            " 4   Lot        146 non-null    float64\n",
            " 5   Tax        147 non-null    float64\n",
            " 6   Bathroom   156 non-null    float64\n",
            " 7   Garage     156 non-null    float64\n",
            " 8   Condition  156 non-null    float64\n",
            "dtypes: float64(9)\n",
            "memory usage: 11.1 KB\n"
          ],
          "name": "stdout"
        }
      ]
    },
    {
      "cell_type": "code",
      "metadata": {
        "colab": {
          "base_uri": "https://localhost:8080/"
        },
        "id": "hkOa5_7MKHDV",
        "outputId": "cf563980-001d-49d5-ae3d-37ca29a741b8"
      },
      "source": [
        "valuation_df.isna().sum()"
      ],
      "execution_count": null,
      "outputs": [
        {
          "output_type": "execute_result",
          "data": {
            "text/plain": [
              "Price         0\n",
              "Bedroom       0\n",
              "Space        10\n",
              "Room          0\n",
              "Lot          10\n",
              "Tax           9\n",
              "Bathroom      0\n",
              "Garage        0\n",
              "Condition     0\n",
              "dtype: int64"
            ]
          },
          "metadata": {
            "tags": []
          },
          "execution_count": 9
        }
      ]
    },
    {
      "cell_type": "code",
      "metadata": {
        "colab": {
          "base_uri": "https://localhost:8080/"
        },
        "id": "SyClyf1VKHGL",
        "outputId": "ce4cbdd5-d6a2-4df4-aa89-3d155468eeb3"
      },
      "source": [
        "space_mode = valuation_df.Space.mode()\n",
        "space_mode"
      ],
      "execution_count": null,
      "outputs": [
        {
          "output_type": "execute_result",
          "data": {
            "text/plain": [
              "0    1053.0\n",
              "dtype: float64"
            ]
          },
          "metadata": {
            "tags": []
          },
          "execution_count": 10
        }
      ]
    },
    {
      "cell_type": "code",
      "metadata": {
        "colab": {
          "base_uri": "https://localhost:8080/"
        },
        "id": "UMZxJg2CKHI3",
        "outputId": "ac8e9ed4-1cdd-4cdb-d894-4e3da930ea22"
      },
      "source": [
        "space_mean = valuation_df.Space.mean()\n",
        "space_mean"
      ],
      "execution_count": null,
      "outputs": [
        {
          "output_type": "execute_result",
          "data": {
            "text/plain": [
              "1097.2465753424658"
            ]
          },
          "metadata": {
            "tags": []
          },
          "execution_count": 11
        }
      ]
    },
    {
      "cell_type": "code",
      "metadata": {
        "colab": {
          "base_uri": "https://localhost:8080/"
        },
        "id": "ENTiuCrnKHLn",
        "outputId": "7b367c4d-c866-4244-c330-d7df49b4ce2f"
      },
      "source": [
        "space_median = valuation_df.Space.median()\n",
        "space_median"
      ],
      "execution_count": null,
      "outputs": [
        {
          "output_type": "execute_result",
          "data": {
            "text/plain": [
              "965.5"
            ]
          },
          "metadata": {
            "tags": []
          },
          "execution_count": 12
        }
      ]
    },
    {
      "cell_type": "code",
      "metadata": {
        "colab": {
          "base_uri": "https://localhost:8080/"
        },
        "id": "aKB9bCGdKHOb",
        "outputId": "d821f915-f3a7-4bd5-828c-bba02d2a4dc2"
      },
      "source": [
        "lot_mode = valuation_df.Lot.mode()\n",
        "lot_mode"
      ],
      "execution_count": null,
      "outputs": [
        {
          "output_type": "execute_result",
          "data": {
            "text/plain": [
              "0    25.0\n",
              "1    30.0\n",
              "dtype: float64"
            ]
          },
          "metadata": {
            "tags": []
          },
          "execution_count": 13
        }
      ]
    },
    {
      "cell_type": "code",
      "metadata": {
        "colab": {
          "base_uri": "https://localhost:8080/"
        },
        "id": "aLCzUXlQQNo7",
        "outputId": "ea12f1d0-40e5-4d75-fb72-cfa1e062780b"
      },
      "source": [
        "lot_mean = valuation_df.Lot.mean()\n",
        "lot_mean"
      ],
      "execution_count": null,
      "outputs": [
        {
          "output_type": "execute_result",
          "data": {
            "text/plain": [
              "32.80821917808219"
            ]
          },
          "metadata": {
            "tags": []
          },
          "execution_count": 14
        }
      ]
    },
    {
      "cell_type": "code",
      "metadata": {
        "colab": {
          "base_uri": "https://localhost:8080/"
        },
        "id": "-hFGoZn4QNsQ",
        "outputId": "bc1b41e6-1e0b-4bbe-c855-18f83141d829"
      },
      "source": [
        "lot_median = valuation_df.Lot.median()\n",
        "lot_median"
      ],
      "execution_count": null,
      "outputs": [
        {
          "output_type": "execute_result",
          "data": {
            "text/plain": [
              "30.0"
            ]
          },
          "metadata": {
            "tags": []
          },
          "execution_count": 15
        }
      ]
    },
    {
      "cell_type": "code",
      "metadata": {
        "colab": {
          "base_uri": "https://localhost:8080/"
        },
        "id": "zbWsA2xrQNvE",
        "outputId": "6b25f61c-d25b-405b-eb3c-d8f2b8c67f44"
      },
      "source": [
        "tax_mode = valuation_df.Tax.mode()\n",
        "tax_mode"
      ],
      "execution_count": null,
      "outputs": [
        {
          "output_type": "execute_result",
          "data": {
            "text/plain": [
              "0     531.0\n",
              "1     536.0\n",
              "2     565.0\n",
              "3     621.0\n",
              "4     722.0\n",
              "5     867.0\n",
              "6     880.0\n",
              "7     970.0\n",
              "8    1287.0\n",
              "dtype: float64"
            ]
          },
          "metadata": {
            "tags": []
          },
          "execution_count": 16
        }
      ]
    },
    {
      "cell_type": "code",
      "metadata": {
        "colab": {
          "base_uri": "https://localhost:8080/"
        },
        "id": "QCV_lB4eQNx_",
        "outputId": "9ffc1751-32b0-4980-fb3a-2bf0f27de307"
      },
      "source": [
        "tax_mean = valuation_df.Tax.mean()\n",
        "tax_mean"
      ],
      "execution_count": null,
      "outputs": [
        {
          "output_type": "execute_result",
          "data": {
            "text/plain": [
              "911.7074829931972"
            ]
          },
          "metadata": {
            "tags": []
          },
          "execution_count": 17
        }
      ]
    },
    {
      "cell_type": "code",
      "metadata": {
        "colab": {
          "base_uri": "https://localhost:8080/"
        },
        "id": "R8XS7yGzQN1M",
        "outputId": "52987c71-daf3-4e35-81bd-5717ffb602dd"
      },
      "source": [
        "tax_median = valuation_df.Tax.median()\n",
        "tax_median"
      ],
      "execution_count": null,
      "outputs": [
        {
          "output_type": "execute_result",
          "data": {
            "text/plain": [
              "821.0"
            ]
          },
          "metadata": {
            "tags": []
          },
          "execution_count": 18
        }
      ]
    },
    {
      "cell_type": "code",
      "metadata": {
        "id": "c7iXlO5QKHRl"
      },
      "source": [
        "def clean_data(df):\n",
        "  for col in df.columns:\n",
        "    if col == 'Space':    \n",
        "      # space_mode = df[col].mode()[0]\n",
        "      # df[col] = df[col].fillna(space_mode)\n",
        "\n",
        "      # space_mean = df[col].mean()\n",
        "      # df[col] = df[col].fillna(space_mean)  \n",
        "\n",
        "      space_median = df[col].median()\n",
        "      df[col] = df[col].fillna(space_median)\n",
        "\n",
        "    elif col == 'Lot':\n",
        "      # lot_mean = df[col].mean()\n",
        "      # df[col] = df[col].fillna(lot_mean)  \n",
        "\n",
        "      lot_median = df[col].median()\n",
        "      df[col] = df[col].fillna(lot_median)\n",
        "\n",
        "    elif col == 'Tax':\n",
        "      # tax_mean = df[col].mean()\n",
        "      # df[col] = df[col].fillna(tax_mean)  \n",
        "\n",
        "      tax_median = df[col].median()\n",
        "      df[col] = df[col].fillna(tax_median)\n",
        "\n",
        "  clean_df = df \n",
        "  return clean_df "
      ],
      "execution_count": null,
      "outputs": []
    },
    {
      "cell_type": "code",
      "metadata": {
        "id": "UvRrURMMgm2R"
      },
      "source": [
        "clean_df = clean_data(valuation_df)"
      ],
      "execution_count": null,
      "outputs": []
    },
    {
      "cell_type": "markdown",
      "metadata": {
        "id": "kDy2cYVAXiAm"
      },
      "source": [
        "# 3. Extract Features"
      ]
    },
    {
      "cell_type": "code",
      "metadata": {
        "id": "ECazv5IpJktb"
      },
      "source": [
        "def extract_feature(df, is_training=True):\n",
        "  feat_df = df.copy()\n",
        "  label_df = []\n",
        "\n",
        "  if 'Price' in feat_df.columns:\n",
        "    label_df = feat_df['Price']\n",
        "\n",
        "  # drop unused columns\n",
        "  if is_training:\n",
        "    feat_df = feat_df.drop(['Price'], axis=1)\n",
        "  \n",
        "  for col in feat_df.columns:\n",
        "    feat_df[col] = pd.to_numeric(feat_df[col], errors='coerce')\n",
        "\n",
        "  return feat_df, label_df"
      ],
      "execution_count": null,
      "outputs": []
    },
    {
      "cell_type": "code",
      "metadata": {
        "id": "86fd0kQua-4k"
      },
      "source": [
        "feat_df, label_df = extract_feature(clean_df)"
      ],
      "execution_count": null,
      "outputs": []
    },
    {
      "cell_type": "code",
      "metadata": {
        "colab": {
          "base_uri": "https://localhost:8080/",
          "height": 419
        },
        "id": "mdPTWnX2bAqm",
        "outputId": "8db63a1c-ece6-4728-eb53-33b919d6bc02"
      },
      "source": [
        "feat_df"
      ],
      "execution_count": null,
      "outputs": [
        {
          "output_type": "execute_result",
          "data": {
            "text/html": [
              "<div>\n",
              "<style scoped>\n",
              "    .dataframe tbody tr th:only-of-type {\n",
              "        vertical-align: middle;\n",
              "    }\n",
              "\n",
              "    .dataframe tbody tr th {\n",
              "        vertical-align: top;\n",
              "    }\n",
              "\n",
              "    .dataframe thead th {\n",
              "        text-align: right;\n",
              "    }\n",
              "</style>\n",
              "<table border=\"1\" class=\"dataframe\">\n",
              "  <thead>\n",
              "    <tr style=\"text-align: right;\">\n",
              "      <th></th>\n",
              "      <th>Bedroom</th>\n",
              "      <th>Space</th>\n",
              "      <th>Room</th>\n",
              "      <th>Lot</th>\n",
              "      <th>Tax</th>\n",
              "      <th>Bathroom</th>\n",
              "      <th>Garage</th>\n",
              "      <th>Condition</th>\n",
              "    </tr>\n",
              "  </thead>\n",
              "  <tbody>\n",
              "    <tr>\n",
              "      <th>0</th>\n",
              "      <td>2.0</td>\n",
              "      <td>967.0</td>\n",
              "      <td>5.0</td>\n",
              "      <td>39.0</td>\n",
              "      <td>652.0</td>\n",
              "      <td>1.5</td>\n",
              "      <td>0.0</td>\n",
              "      <td>0.0</td>\n",
              "    </tr>\n",
              "    <tr>\n",
              "      <th>1</th>\n",
              "      <td>2.0</td>\n",
              "      <td>815.0</td>\n",
              "      <td>5.0</td>\n",
              "      <td>33.0</td>\n",
              "      <td>1000.0</td>\n",
              "      <td>1.0</td>\n",
              "      <td>2.0</td>\n",
              "      <td>1.0</td>\n",
              "    </tr>\n",
              "    <tr>\n",
              "      <th>2</th>\n",
              "      <td>3.0</td>\n",
              "      <td>900.0</td>\n",
              "      <td>5.0</td>\n",
              "      <td>35.0</td>\n",
              "      <td>897.0</td>\n",
              "      <td>1.5</td>\n",
              "      <td>1.0</td>\n",
              "      <td>0.0</td>\n",
              "    </tr>\n",
              "    <tr>\n",
              "      <th>3</th>\n",
              "      <td>3.0</td>\n",
              "      <td>1007.0</td>\n",
              "      <td>6.0</td>\n",
              "      <td>24.0</td>\n",
              "      <td>964.0</td>\n",
              "      <td>1.5</td>\n",
              "      <td>2.0</td>\n",
              "      <td>0.0</td>\n",
              "    </tr>\n",
              "    <tr>\n",
              "      <th>4</th>\n",
              "      <td>3.0</td>\n",
              "      <td>1100.0</td>\n",
              "      <td>7.0</td>\n",
              "      <td>50.0</td>\n",
              "      <td>1099.0</td>\n",
              "      <td>1.5</td>\n",
              "      <td>1.5</td>\n",
              "      <td>0.0</td>\n",
              "    </tr>\n",
              "    <tr>\n",
              "      <th>...</th>\n",
              "      <td>...</td>\n",
              "      <td>...</td>\n",
              "      <td>...</td>\n",
              "      <td>...</td>\n",
              "      <td>...</td>\n",
              "      <td>...</td>\n",
              "      <td>...</td>\n",
              "      <td>...</td>\n",
              "    </tr>\n",
              "    <tr>\n",
              "      <th>151</th>\n",
              "      <td>3.0</td>\n",
              "      <td>585.0</td>\n",
              "      <td>5.0</td>\n",
              "      <td>50.0</td>\n",
              "      <td>713.0</td>\n",
              "      <td>1.0</td>\n",
              "      <td>0.0</td>\n",
              "      <td>0.0</td>\n",
              "    </tr>\n",
              "    <tr>\n",
              "      <th>152</th>\n",
              "      <td>3.0</td>\n",
              "      <td>820.0</td>\n",
              "      <td>5.0</td>\n",
              "      <td>27.0</td>\n",
              "      <td>821.0</td>\n",
              "      <td>1.0</td>\n",
              "      <td>0.0</td>\n",
              "      <td>1.0</td>\n",
              "    </tr>\n",
              "    <tr>\n",
              "      <th>153</th>\n",
              "      <td>2.0</td>\n",
              "      <td>593.0</td>\n",
              "      <td>4.0</td>\n",
              "      <td>30.0</td>\n",
              "      <td>465.0</td>\n",
              "      <td>2.0</td>\n",
              "      <td>1.0</td>\n",
              "      <td>0.0</td>\n",
              "    </tr>\n",
              "    <tr>\n",
              "      <th>154</th>\n",
              "      <td>3.0</td>\n",
              "      <td>716.0</td>\n",
              "      <td>6.0</td>\n",
              "      <td>30.0</td>\n",
              "      <td>585.0</td>\n",
              "      <td>1.0</td>\n",
              "      <td>2.0</td>\n",
              "      <td>1.0</td>\n",
              "    </tr>\n",
              "    <tr>\n",
              "      <th>155</th>\n",
              "      <td>4.0</td>\n",
              "      <td>951.0</td>\n",
              "      <td>7.0</td>\n",
              "      <td>30.0</td>\n",
              "      <td>895.0</td>\n",
              "      <td>2.0</td>\n",
              "      <td>1.0</td>\n",
              "      <td>0.0</td>\n",
              "    </tr>\n",
              "  </tbody>\n",
              "</table>\n",
              "<p>156 rows × 8 columns</p>\n",
              "</div>"
            ],
            "text/plain": [
              "     Bedroom   Space  Room   Lot     Tax  Bathroom  Garage  Condition\n",
              "0        2.0   967.0   5.0  39.0   652.0       1.5     0.0        0.0\n",
              "1        2.0   815.0   5.0  33.0  1000.0       1.0     2.0        1.0\n",
              "2        3.0   900.0   5.0  35.0   897.0       1.5     1.0        0.0\n",
              "3        3.0  1007.0   6.0  24.0   964.0       1.5     2.0        0.0\n",
              "4        3.0  1100.0   7.0  50.0  1099.0       1.5     1.5        0.0\n",
              "..       ...     ...   ...   ...     ...       ...     ...        ...\n",
              "151      3.0   585.0   5.0  50.0   713.0       1.0     0.0        0.0\n",
              "152      3.0   820.0   5.0  27.0   821.0       1.0     0.0        1.0\n",
              "153      2.0   593.0   4.0  30.0   465.0       2.0     1.0        0.0\n",
              "154      3.0   716.0   6.0  30.0   585.0       1.0     2.0        1.0\n",
              "155      4.0   951.0   7.0  30.0   895.0       2.0     1.0        0.0\n",
              "\n",
              "[156 rows x 8 columns]"
            ]
          },
          "metadata": {
            "tags": []
          },
          "execution_count": 26
        }
      ]
    },
    {
      "cell_type": "code",
      "metadata": {
        "colab": {
          "base_uri": "https://localhost:8080/"
        },
        "id": "bu4rBw9_bAts",
        "outputId": "8cbdad99-457f-49f3-eb0e-40fd7f2565d7"
      },
      "source": [
        "label_df"
      ],
      "execution_count": null,
      "outputs": [
        {
          "output_type": "execute_result",
          "data": {
            "text/plain": [
              "0      53.0\n",
              "1      55.0\n",
              "2      56.0\n",
              "3      58.0\n",
              "4      64.0\n",
              "       ... \n",
              "151    42.0\n",
              "152    44.0\n",
              "153    43.0\n",
              "154    53.0\n",
              "155    62.0\n",
              "Name: Price, Length: 156, dtype: float64"
            ]
          },
          "metadata": {
            "tags": []
          },
          "execution_count": 27
        }
      ]
    },
    {
      "cell_type": "markdown",
      "metadata": {
        "id": "oUhrYebiccJA"
      },
      "source": [
        "# 4. Train & test split"
      ]
    },
    {
      "cell_type": "code",
      "metadata": {
        "colab": {
          "base_uri": "https://localhost:8080/"
        },
        "id": "wuB4AXX-bAwV",
        "outputId": "87e2a6b6-8190-4fcf-a80e-b0b7ccfa174b"
      },
      "source": [
        "len(feat_df)"
      ],
      "execution_count": null,
      "outputs": [
        {
          "output_type": "execute_result",
          "data": {
            "text/plain": [
              "156"
            ]
          },
          "metadata": {
            "tags": []
          },
          "execution_count": 28
        }
      ]
    },
    {
      "cell_type": "code",
      "metadata": {
        "id": "-Pp0zFXYbAzT"
      },
      "source": [
        "from sklearn.model_selection import train_test_split\n",
        "train_feat, test_feat, train_label, test_label = \\\n",
        "          train_test_split(feat_df, label_df, test_size=0.2, random_state=10)"
      ],
      "execution_count": null,
      "outputs": []
    },
    {
      "cell_type": "code",
      "metadata": {
        "colab": {
          "base_uri": "https://localhost:8080/"
        },
        "id": "yR7ZKAaobA2k",
        "outputId": "ccfc5623-1f14-4522-e779-3c3665ea4422"
      },
      "source": [
        "len(train_feat)"
      ],
      "execution_count": null,
      "outputs": [
        {
          "output_type": "execute_result",
          "data": {
            "text/plain": [
              "124"
            ]
          },
          "metadata": {
            "tags": []
          },
          "execution_count": 30
        }
      ]
    },
    {
      "cell_type": "code",
      "metadata": {
        "colab": {
          "base_uri": "https://localhost:8080/"
        },
        "id": "hOCR5BoGa-06",
        "outputId": "daf999d8-3074-463e-f251-7b1122480e4d"
      },
      "source": [
        "len(test_feat)"
      ],
      "execution_count": null,
      "outputs": [
        {
          "output_type": "execute_result",
          "data": {
            "text/plain": [
              "32"
            ]
          },
          "metadata": {
            "tags": []
          },
          "execution_count": 31
        }
      ]
    },
    {
      "cell_type": "code",
      "metadata": {
        "id": "XkLuYAEWeeZj"
      },
      "source": [
        "def split_train_test(feat, label):\n",
        "  train_feat, test_feat, train_label, test_label = \\\n",
        "          train_test_split(feat, label, test_size=0.2, random_state=42)\n",
        "  return train_feat, test_feat, train_label, test_label"
      ],
      "execution_count": null,
      "outputs": []
    },
    {
      "cell_type": "markdown",
      "metadata": {
        "id": "DcreoUe6c54W"
      },
      "source": [
        "# 5. Train"
      ]
    },
    {
      "cell_type": "code",
      "metadata": {
        "id": "Rtyray-pa-uh"
      },
      "source": [
        "from sklearn.ensemble import RandomForestRegressor, GradientBoostingRegressor\n",
        "from sklearn import tree"
      ],
      "execution_count": null,
      "outputs": []
    },
    {
      "cell_type": "code",
      "metadata": {
        "id": "ukSfieOzcxHG"
      },
      "source": [
        "def train_model(feat, label):\n",
        "  # Random forrest\n",
        "  model = RandomForestRegressor(max_depth=1000, random_state=2020)\n",
        "  \n",
        "  # Gradient Boosting\n",
        "  # model = GradientBoostingRegressor(random_state=2020)\n",
        "\n",
        "  # Decision Tree\n",
        "  # model = tree.DecisionTreeRegressor(max_depth=1000, random_state=2020)  \n",
        "\n",
        "  model.fit(feat, label)\n",
        "  return model"
      ],
      "execution_count": null,
      "outputs": []
    },
    {
      "cell_type": "code",
      "metadata": {
        "id": "jwPgUPNxcxKH"
      },
      "source": [
        "model = train_model(train_feat, train_label)"
      ],
      "execution_count": null,
      "outputs": []
    },
    {
      "cell_type": "markdown",
      "metadata": {
        "id": "qaaEd96vdOeM"
      },
      "source": [
        "# 6. Evaluation"
      ]
    },
    {
      "cell_type": "code",
      "metadata": {
        "colab": {
          "base_uri": "https://localhost:8080/"
        },
        "id": "aEpQ_PZZcxMy",
        "outputId": "fc11f3db-5732-4869-ffc5-dc2a3c8f5eb1"
      },
      "source": [
        "model"
      ],
      "execution_count": null,
      "outputs": [
        {
          "output_type": "execute_result",
          "data": {
            "text/plain": [
              "RandomForestRegressor(bootstrap=True, ccp_alpha=0.0, criterion='mse',\n",
              "                      max_depth=1000, max_features='auto', max_leaf_nodes=None,\n",
              "                      max_samples=None, min_impurity_decrease=0.0,\n",
              "                      min_impurity_split=None, min_samples_leaf=1,\n",
              "                      min_samples_split=2, min_weight_fraction_leaf=0.0,\n",
              "                      n_estimators=100, n_jobs=None, oob_score=False,\n",
              "                      random_state=2020, verbose=0, warm_start=False)"
            ]
          },
          "metadata": {
            "tags": []
          },
          "execution_count": 36
        }
      ]
    },
    {
      "cell_type": "code",
      "metadata": {
        "id": "R74SyBpxdUex"
      },
      "source": [
        "predict = model.predict(test_feat)"
      ],
      "execution_count": null,
      "outputs": []
    },
    {
      "cell_type": "code",
      "metadata": {
        "colab": {
          "base_uri": "https://localhost:8080/"
        },
        "id": "7xqKQkYldUhs",
        "outputId": "6fba351a-8a5f-4ef0-dece-4285f72ea3f8"
      },
      "source": [
        "predict"
      ],
      "execution_count": null,
      "outputs": [
        {
          "output_type": "execute_result",
          "data": {
            "text/plain": [
              "array([60.88, 87.86, 49.9 , 52.91, 62.26, 63.43, 43.32, 46.24, 67.19,\n",
              "       63.07, 83.33, 47.93, 64.07, 62.86, 46.56, 48.78, 57.9 , 44.71,\n",
              "       64.65, 50.49, 52.01, 50.54, 43.79, 46.53, 57.04, 55.76, 63.55,\n",
              "       53.75, 57.26, 57.63, 56.27, 56.53])"
            ]
          },
          "metadata": {
            "tags": []
          },
          "execution_count": 38
        }
      ]
    },
    {
      "cell_type": "code",
      "metadata": {
        "id": "S5HXAmGodUlZ"
      },
      "source": [
        "def eval_acc(prediction, actual):\n",
        "  acc = sum(prediction == actual) / len(actual)\n",
        "  return acc"
      ],
      "execution_count": null,
      "outputs": []
    },
    {
      "cell_type": "code",
      "metadata": {
        "colab": {
          "base_uri": "https://localhost:8080/"
        },
        "id": "gs9QxBjRcxPl",
        "outputId": "26363278-46fc-4751-8023-1069aced4202"
      },
      "source": [
        "eval_acc(predict,test_label)"
      ],
      "execution_count": null,
      "outputs": [
        {
          "output_type": "execute_result",
          "data": {
            "text/plain": [
              "0.0"
            ]
          },
          "metadata": {
            "tags": []
          },
          "execution_count": 40
        }
      ]
    },
    {
      "cell_type": "code",
      "metadata": {
        "id": "izDMneyOcxSu"
      },
      "source": [
        "from sklearn.metrics import mean_squared_error\n",
        "\n",
        "def eval_rmse(predict, actual):\n",
        "  return np.sqrt(mean_squared_error(predict, actual))\n",
        "\n",
        "def rmse(predict,test_label):\n",
        "  diff = predict - test_label\n",
        "  return np.sqrt(sum(diff**2)/len(diff))"
      ],
      "execution_count": null,
      "outputs": []
    },
    {
      "cell_type": "code",
      "metadata": {
        "colab": {
          "base_uri": "https://localhost:8080/"
        },
        "id": "f1cGRNqddsJD",
        "outputId": "427e85a5-fcea-4d79-8af7-8c4d90db467d"
      },
      "source": [
        "eval_rmse(predict, test_label)"
      ],
      "execution_count": null,
      "outputs": [
        {
          "output_type": "execute_result",
          "data": {
            "text/plain": [
              "5.794290832362491"
            ]
          },
          "metadata": {
            "tags": []
          },
          "execution_count": 42
        }
      ]
    },
    {
      "cell_type": "code",
      "metadata": {
        "colab": {
          "base_uri": "https://localhost:8080/"
        },
        "id": "zTulxRBtdsPF",
        "outputId": "c091874d-d026-409f-c3a6-c24e4506d11a"
      },
      "source": [
        "rmse(predict, test_label)"
      ],
      "execution_count": null,
      "outputs": [
        {
          "output_type": "execute_result",
          "data": {
            "text/plain": [
              "5.794290832362492"
            ]
          },
          "metadata": {
            "tags": []
          },
          "execution_count": 43
        }
      ]
    },
    {
      "cell_type": "markdown",
      "metadata": {
        "id": "M9_QounXeqXo"
      },
      "source": [
        "# 7. Pipeline"
      ]
    },
    {
      "cell_type": "code",
      "metadata": {
        "id": "vhsfbsfedsR6"
      },
      "source": [
        "def pipeline():\n",
        "  # collect data\n",
        "  valuation_df = collect_data()\n",
        "\n",
        "  # clean data\n",
        "  clean_df = clean_data(valuation_df)\n",
        "\n",
        "  # extract features\n",
        "  train_df, test_df = extract_feature(clean_df)\n",
        "\n",
        "  # split training and test\n",
        "  train_feat, test_feat, train_label, test_label = \\\n",
        "        split_train_test(feat_df, label_df)\n",
        "\n",
        "  # Train\n",
        "  model = train_model(train_feat, train_label)\n",
        "\n",
        "  # Evaluate\n",
        "  predict = model.predict(test_feat)\n",
        "  print('error score', eval_rmse(predict, test_label))"
      ],
      "execution_count": null,
      "outputs": []
    },
    {
      "cell_type": "code",
      "metadata": {
        "colab": {
          "base_uri": "https://localhost:8080/"
        },
        "id": "DNnqvEehdsVT",
        "outputId": "92d67f55-4187-4c6d-aa1a-2a219d11effe"
      },
      "source": [
        "pipeline()"
      ],
      "execution_count": null,
      "outputs": [
        {
          "output_type": "stream",
          "text": [
            "error score 8.097471470765287\n"
          ],
          "name": "stdout"
        }
      ]
    },
    {
      "cell_type": "markdown",
      "metadata": {
        "id": "kQ4mMMFpe9GS"
      },
      "source": [
        "# 8. Deployment"
      ]
    },
    {
      "cell_type": "code",
      "metadata": {
        "id": "uE599MBXdsXn"
      },
      "source": [
        "#@title Estimate your startup valuation\n",
        "\n",
        "answer_list = []\n",
        "Bedroom = 2#@param {type:\"number\"}\n",
        "Space\t= 1000#@param {type:\"number\"}\n",
        "Room\t= 5#@param {type:\"number\"}\n",
        "Lot\t= 39#@param {type:\"number\"}\n",
        "Tax\t= 652#@param {type:\"number\"}\n",
        "Bathroom\t= 1.5#@param {type:\"number\"}\n",
        "Garage\t= 0#@param {type:\"number\"}\n",
        "Condition = False #@param {type:\"boolean\"}\n",
        "\n",
        "col = ['Bedroom', 'Space',\t'Room',\t'Lot',\t'Tax',\t'Bathroom', \\\n",
        "       'Garage',\t'Condition']\n",
        "\n",
        "predict_df = pd.DataFrame([[Bedroom, Space,\tRoom,\tLot,\tTax,\tBathroom,\t\\\n",
        "                           Garage,\tCondition]], columns=col)\n",
        "\n",
        "test_df = pd.concat([predict_df, clean_df[col]], axis=0)\n",
        "test, _ = extract_feature(test_df, is_training=False)\n",
        "print('Your startup valuation is: ', model.predict(test.iloc[:1])[0])"
      ],
      "execution_count": null,
      "outputs": []
    },
    {
      "cell_type": "code",
      "metadata": {
        "id": "gw5hYtq3dsab"
      },
      "source": [
        ""
      ],
      "execution_count": null,
      "outputs": []
    },
    {
      "cell_type": "code",
      "metadata": {
        "id": "7FxLfitQcxXM"
      },
      "source": [
        ""
      ],
      "execution_count": null,
      "outputs": []
    }
  ]
}